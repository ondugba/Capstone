{
 "cells": [
  {
   "cell_type": "code",
   "execution_count": 1,
   "id": "3d94c91d",
   "metadata": {},
   "outputs": [],
   "source": [
    "# Imports \n",
    "from pyspark.sql import SparkSession\n",
    "from pyspark.sql.functions import*\n",
    "from pyspark.sql.types import*\n",
    "\n",
    "import ipywidgets as widgets\n",
    "import matplotlib.pyplot as plt\n",
    "import numpy as np\n",
    "import pandas as pd\n",
    "\n",
    "import requests\n",
    "import seaborn as sns\n"
   ]
  },
  {
   "cell_type": "markdown",
   "id": "c388b414",
   "metadata": {},
   "source": [
    "## Loading Data and creating Spark DataFrames"
   ]
  },
  {
   "cell_type": "code",
   "execution_count": null,
   "id": "499dc811",
   "metadata": {},
   "outputs": [],
   "source": [
    "spark.stop()"
   ]
  },
  {
   "cell_type": "code",
   "execution_count": 2,
   "id": "f5a99316",
   "metadata": {},
   "outputs": [],
   "source": [
    "spark = SparkSession.builder.master(\"local[1]\").appName(\"Credit_Cards\").getOrCreate()"
   ]
  },
  {
   "cell_type": "code",
   "execution_count": 3,
   "id": "21095632",
   "metadata": {},
   "outputs": [],
   "source": [
    "df_branch = spark.read.json('data/cdw_sapp_branch.json')  \n",
    "df_credit = spark.read.json('data/cdw_sapp_credit.json') \n",
    "df_customers = spark.read.json('data/cdw_sapp_custmer.json')"
   ]
  },
  {
   "cell_type": "code",
   "execution_count": 4,
   "id": "c4346005",
   "metadata": {},
   "outputs": [
    {
     "data": {
      "text/plain": [
       "pyspark.sql.dataframe.DataFrame"
      ]
     },
     "execution_count": 4,
     "metadata": {},
     "output_type": "execute_result"
    }
   ],
   "source": [
    "type(df_branch)"
   ]
  },
  {
   "cell_type": "markdown",
   "id": "5738c810",
   "metadata": {},
   "source": [
    "# Cleaning DataFrames\n"
   ]
  },
  {
   "cell_type": "markdown",
   "id": "4f07ad33",
   "metadata": {},
   "source": [
    "### Cleaning the branch df"
   ]
  },
  {
   "cell_type": "code",
   "execution_count": 5,
   "id": "6f2ec16d",
   "metadata": {},
   "outputs": [
    {
     "name": "stdout",
     "output_type": "stream",
     "text": [
      "+-----------------+-----------+------------+------------+------------+-----------------+----------+-------------------+\n",
      "|      BRANCH_CITY|BRANCH_CODE| BRANCH_NAME|BRANCH_PHONE|BRANCH_STATE|    BRANCH_STREET|BRANCH_ZIP|       LAST_UPDATED|\n",
      "+-----------------+-----------+------------+------------+------------+-----------------+----------+-------------------+\n",
      "|        Lakeville|          1|Example Bank|  1234565276|          MN|     Bridle Court|     55044|2018-04-18 16:51:47|\n",
      "|          Huntley|          2|Example Bank|  1234618993|          IL|Washington Street|     60142|2018-04-18 16:51:47|\n",
      "|SouthRichmondHill|          3|Example Bank|  1234985926|          NY|    Warren Street|     11419|2018-04-18 16:51:47|\n",
      "|       Middleburg|          4|Example Bank|  1234663064|          FL| Cleveland Street|     32068|2018-04-18 16:51:47|\n",
      "|    KingOfPrussia|          5|Example Bank|  1234849701|          PA|      14th Street|     19406|2018-04-18 16:51:47|\n",
      "+-----------------+-----------+------------+------------+------------+-----------------+----------+-------------------+\n",
      "only showing top 5 rows\n",
      "\n"
     ]
    }
   ],
   "source": [
    "df_branch.show(5)"
   ]
  },
  {
   "cell_type": "code",
   "execution_count": 6,
   "id": "715e0686",
   "metadata": {},
   "outputs": [
    {
     "data": {
      "text/plain": [
       "['BRANCH_CITY',\n",
       " 'BRANCH_CODE',\n",
       " 'BRANCH_NAME',\n",
       " 'BRANCH_PHONE',\n",
       " 'BRANCH_STATE',\n",
       " 'BRANCH_STREET',\n",
       " 'BRANCH_ZIP',\n",
       " 'LAST_UPDATED']"
      ]
     },
     "execution_count": 6,
     "metadata": {},
     "output_type": "execute_result"
    }
   ],
   "source": [
    "df_branch.columns"
   ]
  },
  {
   "cell_type": "code",
   "execution_count": 7,
   "id": "271acbad",
   "metadata": {},
   "outputs": [
    {
     "name": "stdout",
     "output_type": "stream",
     "text": [
      "+------------+\n",
      "|BRANCH_PHONE|\n",
      "+------------+\n",
      "|  1234565276|\n",
      "|  1234618993|\n",
      "|  1234985926|\n",
      "|  1234663064|\n",
      "|  1234849701|\n",
      "+------------+\n",
      "only showing top 5 rows\n",
      "\n"
     ]
    }
   ],
   "source": [
    "df_branch.select('BRANCH_PHONE').show(5)"
   ]
  },
  {
   "cell_type": "code",
   "execution_count": 8,
   "id": "b137eb43",
   "metadata": {},
   "outputs": [
    {
     "name": "stdout",
     "output_type": "stream",
     "text": [
      "+-------------+\n",
      "| BRANCH_PHONE|\n",
      "+-------------+\n",
      "|(123)456-5276|\n",
      "|(123)461-8993|\n",
      "|(123)498-5926|\n",
      "|(123)466-3064|\n",
      "|(123)484-9701|\n",
      "+-------------+\n",
      "only showing top 5 rows\n",
      "\n"
     ]
    }
   ],
   "source": [
    "#transforming the branch df\n",
    "df_branch = df_branch.withColumn('BRANCH_PHONE', concat(lit('('), col('BRANCH_PHONE')[0:3], lit(')'), \n",
    "                                col('BRANCH_PHONE')[4:3], lit('-'), col('BRANCH_PHONE')[7:9]))\n",
    "\n",
    "df_branch.select('BRANCH_PHONE').show(5)"
   ]
  },
  {
   "cell_type": "code",
   "execution_count": 9,
   "id": "1e773b16",
   "metadata": {},
   "outputs": [
    {
     "name": "stdout",
     "output_type": "stream",
     "text": [
      "+-----------+-----------+-----------+------------+------------+-------------+----------+------------+\n",
      "|BRANCH_CITY|BRANCH_CODE|BRANCH_NAME|BRANCH_PHONE|BRANCH_STATE|BRANCH_STREET|BRANCH_ZIP|LAST_UPDATED|\n",
      "+-----------+-----------+-----------+------------+------------+-------------+----------+------------+\n",
      "+-----------+-----------+-----------+------------+------------+-------------+----------+------------+\n",
      "\n"
     ]
    }
   ],
   "source": [
    "#checking for nulls in zip code\n",
    "df_branch.filter(df_branch.BRANCH_ZIP.isNull()).show()"
   ]
  },
  {
   "cell_type": "code",
   "execution_count": 10,
   "id": "53df8674",
   "metadata": {},
   "outputs": [
    {
     "name": "stdout",
     "output_type": "stream",
     "text": [
      "115\n",
      "0\n",
      "115\n"
     ]
    }
   ],
   "source": [
    "#there are no nulls in branch zip\n",
    "print(df_branch.count())\n",
    "print(df_branch.filter(col('BRANCH_ZIP').isNull()).count())\n",
    "print(df_branch.filter(col('BRANCH_ZIP').isNotNull()).count())"
   ]
  },
  {
   "cell_type": "code",
   "execution_count": 11,
   "id": "001cf129",
   "metadata": {},
   "outputs": [
    {
     "data": {
      "text/plain": [
       "DataFrame[BRANCH_CITY: string, BRANCH_CODE: bigint, BRANCH_NAME: string, BRANCH_PHONE: string, BRANCH_STATE: string, BRANCH_STREET: string, BRANCH_ZIP: bigint, LAST_UPDATED: timestamp]"
      ]
     },
     "execution_count": 11,
     "metadata": {},
     "output_type": "execute_result"
    }
   ],
   "source": [
    "df_branch.na.fill(value=99999,subset=['BRANCH_ZIP'])\n"
   ]
  },
  {
   "cell_type": "markdown",
   "id": "103a9296",
   "metadata": {},
   "source": [
    "### Cleaning the credit df"
   ]
  },
  {
   "cell_type": "code",
   "execution_count": 12,
   "id": "d20389c4",
   "metadata": {},
   "outputs": [
    {
     "name": "stdout",
     "output_type": "stream",
     "text": [
      "+-----------+----------------+---------+---+-----+--------------+----------------+-----------------+----+\n",
      "|BRANCH_CODE|  CREDIT_CARD_NO| CUST_SSN|DAY|MONTH|TRANSACTION_ID|TRANSACTION_TYPE|TRANSACTION_VALUE|YEAR|\n",
      "+-----------+----------------+---------+---+-----+--------------+----------------+-----------------+----+\n",
      "|        114|4210653349028689|123459988| 14|    2|             1|       Education|             78.9|2018|\n",
      "|         35|4210653349028689|123459988| 20|    3|             2|   Entertainment|            14.24|2018|\n",
      "|        160|4210653349028689|123459988|  8|    7|             3|         Grocery|             56.7|2018|\n",
      "|        114|4210653349028689|123459988| 19|    4|             4|   Entertainment|            59.73|2018|\n",
      "|         93|4210653349028689|123459988| 10|   10|             5|             Gas|             3.59|2018|\n",
      "+-----------+----------------+---------+---+-----+--------------+----------------+-----------------+----+\n",
      "only showing top 5 rows\n",
      "\n"
     ]
    }
   ],
   "source": [
    "df_credit.show(5)"
   ]
  },
  {
   "cell_type": "code",
   "execution_count": 13,
   "id": "895ad6af",
   "metadata": {},
   "outputs": [
    {
     "data": {
      "text/plain": [
       "['BRANCH_CODE',\n",
       " 'CREDIT_CARD_NO',\n",
       " 'CUST_SSN',\n",
       " 'DAY',\n",
       " 'MONTH',\n",
       " 'TRANSACTION_ID',\n",
       " 'TRANSACTION_TYPE',\n",
       " 'TRANSACTION_VALUE',\n",
       " 'YEAR']"
      ]
     },
     "execution_count": 13,
     "metadata": {},
     "output_type": "execute_result"
    }
   ],
   "source": [
    "df_credit.columns"
   ]
  },
  {
   "cell_type": "code",
   "execution_count": 14,
   "id": "a9bbae08",
   "metadata": {},
   "outputs": [
    {
     "name": "stdout",
     "output_type": "stream",
     "text": [
      "+-----------+----------------+---------+---+-----+--------------+----------------+-----------------+----+----------+\n",
      "|BRANCH_CODE|      CUST_CC_NO| CUST_SSN|DAY|MONTH|TRANSACTION_ID|TRANSACTION_TYPE|TRANSACTION_VALUE|YEAR|    TIMEID|\n",
      "+-----------+----------------+---------+---+-----+--------------+----------------+-----------------+----+----------+\n",
      "|        114|4210653349028689|123459988| 14|    2|             1|       Education|             78.9|2018|2018-02-14|\n",
      "|         35|4210653349028689|123459988| 20|    3|             2|   Entertainment|            14.24|2018|2018-03-20|\n",
      "|        160|4210653349028689|123459988|  8|    7|             3|         Grocery|             56.7|2018|2018-07-08|\n",
      "|        114|4210653349028689|123459988| 19|    4|             4|   Entertainment|            59.73|2018|2018-04-19|\n",
      "|         93|4210653349028689|123459988| 10|   10|             5|             Gas|             3.59|2018|2018-10-10|\n",
      "+-----------+----------------+---------+---+-----+--------------+----------------+-----------------+----+----------+\n",
      "only showing top 5 rows\n",
      "\n"
     ]
    }
   ],
   "source": [
    "df_credit = df_credit.withColumnRenamed('CREDIT_CARD_NO', 'CUST_CC_NO')\n",
    "df_credit = df_credit.withColumn('TIMEID', expr('make_date(YEAR, MONTH, DAY)'))\n",
    "df_credit.show(5)"
   ]
  },
  {
   "cell_type": "markdown",
   "id": "b5a14c18",
   "metadata": {},
   "source": [
    "### Cleaning the customers df"
   ]
  },
  {
   "cell_type": "code",
   "execution_count": 15,
   "id": "dc8c9a02",
   "metadata": {},
   "outputs": [
    {
     "name": "stdout",
     "output_type": "stream",
     "text": [
      "+----------+\n",
      "|CUST_PHONE|\n",
      "+----------+\n",
      "|   1237818|\n",
      "|   1238933|\n",
      "|   1243018|\n",
      "|   1243215|\n",
      "|   1242074|\n",
      "+----------+\n",
      "only showing top 5 rows\n",
      "\n"
     ]
    }
   ],
   "source": [
    "df_customers.select('CUST_PHONE').show(5)"
   ]
  },
  {
   "cell_type": "code",
   "execution_count": 16,
   "id": "97ddcf03",
   "metadata": {},
   "outputs": [
    {
     "name": "stdout",
     "output_type": "stream",
     "text": [
      "+------+----------------+------------+-------------+-------------------+----------+----------+--------+----------+---------+-------------------+-----------+---------+-----------------+\n",
      "|APT_NO|  CREDIT_CARD_NO|   CUST_CITY| CUST_COUNTRY|         CUST_EMAIL|CUST_PHONE|CUST_STATE|CUST_ZIP|FIRST_NAME|LAST_NAME|       LAST_UPDATED|MIDDLE_NAME|      SSN|      STREET_NAME|\n",
      "+------+----------------+------------+-------------+-------------------+----------+----------+--------+----------+---------+-------------------+-----------+---------+-----------------+\n",
      "|   656|4210653310061055|     Natchez|United States|AHooper@example.com|   1237818|        MS|   39120|      Alec|   Hooper|2018-04-21 12:49:02|         Wm|123456100|Main Street North|\n",
      "|   829|4210653310102868|Wethersfield|United States|EHolman@example.com|   1238933|        CT|   06109|      Etta|   Holman|2018-04-21 12:49:02|    Brendan|123453023|    Redwood Drive|\n",
      "|   683|4210653310116272|     Huntley|United States|WDunham@example.com|   1243018|        IL|   60142|    Wilber|   Dunham|2018-04-21 12:49:02|   Ezequiel|123454487| 12th Street East|\n",
      "|   253|4210653310195948|   NewBerlin|United States| EHardy@example.com|   1243215|        WI|   53151|   Eugenio|    Hardy|2018-04-21 12:49:02|      Trina|123459758|Country Club Road|\n",
      "|   301|4210653310356919|      ElPaso|United States| WAyers@example.com|   1242074|        TX|   79930|   Wilfred|    Ayers|2018-04-21 12:49:02|        May|123454431|   Madison Street|\n",
      "+------+----------------+------------+-------------+-------------------+----------+----------+--------+----------+---------+-------------------+-----------+---------+-----------------+\n",
      "only showing top 5 rows\n",
      "\n"
     ]
    }
   ],
   "source": [
    "df_customers.show(5)"
   ]
  },
  {
   "cell_type": "code",
   "execution_count": 17,
   "id": "f9ce3498",
   "metadata": {
    "scrolled": true
   },
   "outputs": [
    {
     "data": {
      "text/plain": [
       "['APT_NO',\n",
       " 'CREDIT_CARD_NO',\n",
       " 'CUST_CITY',\n",
       " 'CUST_COUNTRY',\n",
       " 'CUST_EMAIL',\n",
       " 'CUST_PHONE',\n",
       " 'CUST_STATE',\n",
       " 'CUST_ZIP',\n",
       " 'FIRST_NAME',\n",
       " 'LAST_NAME',\n",
       " 'LAST_UPDATED',\n",
       " 'MIDDLE_NAME',\n",
       " 'SSN',\n",
       " 'STREET_NAME']"
      ]
     },
     "execution_count": 17,
     "metadata": {},
     "output_type": "execute_result"
    }
   ],
   "source": [
    "df_customers.columns"
   ]
  },
  {
   "cell_type": "code",
   "execution_count": 18,
   "id": "483cecac",
   "metadata": {},
   "outputs": [
    {
     "name": "stdout",
     "output_type": "stream",
     "text": [
      "+------+----------------+------------+-------------+-------------------+----------+----------+--------+----------+---------+-------------------+-----------+---------+-----------------+--------------------+\n",
      "|APT_NO|  Credit_card_no|   CUST_CITY| CUST_COUNTRY|         CUST_EMAIL|CUST_PHONE|CUST_STATE|CUST_ZIP|FIRST_NAME|LAST_NAME|       LAST_UPDATED|MIDDLE_NAME|      SSN|      STREET_NAME| FULL_STREET_ADDRESS|\n",
      "+------+----------------+------------+-------------+-------------------+----------+----------+--------+----------+---------+-------------------+-----------+---------+-----------------+--------------------+\n",
      "|   656|4210653310061055|     Natchez|United States|AHooper@example.com|   1237818|        MS|   39120|      Alec|   Hooper|2018-04-21 12:49:02|         wm|123456100|Main Street North|656,Main Street N...|\n",
      "|   829|4210653310102868|Wethersfield|United States|EHolman@example.com|   1238933|        CT|   06109|      Etta|   Holman|2018-04-21 12:49:02|    brendan|123453023|    Redwood Drive|   829,Redwood Drive|\n",
      "|   683|4210653310116272|     Huntley|United States|WDunham@example.com|   1243018|        IL|   60142|    Wilber|   Dunham|2018-04-21 12:49:02|   ezequiel|123454487| 12th Street East|683,12th Street East|\n",
      "|   253|4210653310195948|   NewBerlin|United States| EHardy@example.com|   1243215|        WI|   53151|   Eugenio|    Hardy|2018-04-21 12:49:02|      trina|123459758|Country Club Road|253,Country Club ...|\n",
      "|   301|4210653310356919|      ElPaso|United States| WAyers@example.com|   1242074|        TX|   79930|   Wilfred|    Ayers|2018-04-21 12:49:02|        may|123454431|   Madison Street|  301,Madison Street|\n",
      "+------+----------------+------------+-------------+-------------------+----------+----------+--------+----------+---------+-------------------+-----------+---------+-----------------+--------------------+\n",
      "only showing top 5 rows\n",
      "\n"
     ]
    }
   ],
   "source": [
    "#transforming the customer df\n",
    "df_customers = df_customers.withColumn('FIRST_NAME', initcap(df_customers['FIRST_NAME']))\n",
    "df_customers = df_customers.withColumn('MIDDLE_NAME', lower(df_customers['MIDDLE_NAME']))\n",
    "df_customers = df_customers.withColumn('LAST_NAME', initcap(df_customers['LAST_NAME']))\n",
    "df_customers = df_customers.withColumnRenamed('CREDIT_CARD_NO', 'Credit_card_no')\n",
    "df_customers = df_customers.withColumn('FULL_STREET_ADDRESS', concat(col('APT_NO'),lit(','),col('STREET_NAME')))\n",
    "df_customers.show(5)\n"
   ]
  },
  {
   "cell_type": "code",
   "execution_count": 19,
   "id": "17727568",
   "metadata": {},
   "outputs": [
    {
     "data": {
      "text/plain": [
       "['Credit_card_no',\n",
       " 'CUST_CITY',\n",
       " 'CUST_COUNTRY',\n",
       " 'CUST_EMAIL',\n",
       " 'CUST_PHONE',\n",
       " 'CUST_STATE',\n",
       " 'CUST_ZIP',\n",
       " 'FIRST_NAME',\n",
       " 'LAST_NAME',\n",
       " 'LAST_UPDATED',\n",
       " 'MIDDLE_NAME',\n",
       " 'SSN',\n",
       " 'FULL_STREET_ADDRESS']"
      ]
     },
     "execution_count": 19,
     "metadata": {},
     "output_type": "execute_result"
    }
   ],
   "source": [
    "#dropping address and apt cols\n",
    "df_customers = df_customers.drop('APT_NO', 'STREET_NAME')\n",
    "df_customers.columns"
   ]
  },
  {
   "cell_type": "code",
   "execution_count": 20,
   "id": "e86ade7e",
   "metadata": {},
   "outputs": [
    {
     "name": "stdout",
     "output_type": "stream",
     "text": [
      "+-----------------+-----------+------------+-------------+------------+-----------------+----------+-------------------+\n",
      "|      BRANCH_CITY|BRANCH_CODE| BRANCH_NAME| BRANCH_PHONE|BRANCH_STATE|    BRANCH_STREET|BRANCH_ZIP|       LAST_UPDATED|\n",
      "+-----------------+-----------+------------+-------------+------------+-----------------+----------+-------------------+\n",
      "|        Lakeville|          1|Example Bank|(123)456-5276|          MN|     Bridle Court|     55044|2018-04-18 16:51:47|\n",
      "|          Huntley|          2|Example Bank|(123)461-8993|          IL|Washington Street|     60142|2018-04-18 16:51:47|\n",
      "|SouthRichmondHill|          3|Example Bank|(123)498-5926|          NY|    Warren Street|     11419|2018-04-18 16:51:47|\n",
      "|       Middleburg|          4|Example Bank|(123)466-3064|          FL| Cleveland Street|     32068|2018-04-18 16:51:47|\n",
      "|    KingOfPrussia|          5|Example Bank|(123)484-9701|          PA|      14th Street|     19406|2018-04-18 16:51:47|\n",
      "+-----------------+-----------+------------+-------------+------------+-----------------+----------+-------------------+\n",
      "only showing top 5 rows\n",
      "\n",
      "None\n",
      "+-----------+----------------+---------+---+-----+--------------+----------------+-----------------+----+----------+\n",
      "|BRANCH_CODE|      CUST_CC_NO| CUST_SSN|DAY|MONTH|TRANSACTION_ID|TRANSACTION_TYPE|TRANSACTION_VALUE|YEAR|    TIMEID|\n",
      "+-----------+----------------+---------+---+-----+--------------+----------------+-----------------+----+----------+\n",
      "|        114|4210653349028689|123459988| 14|    2|             1|       Education|             78.9|2018|2018-02-14|\n",
      "|         35|4210653349028689|123459988| 20|    3|             2|   Entertainment|            14.24|2018|2018-03-20|\n",
      "|        160|4210653349028689|123459988|  8|    7|             3|         Grocery|             56.7|2018|2018-07-08|\n",
      "|        114|4210653349028689|123459988| 19|    4|             4|   Entertainment|            59.73|2018|2018-04-19|\n",
      "|         93|4210653349028689|123459988| 10|   10|             5|             Gas|             3.59|2018|2018-10-10|\n",
      "+-----------+----------------+---------+---+-----+--------------+----------------+-----------------+----+----------+\n",
      "only showing top 5 rows\n",
      "\n",
      "None\n",
      "+----------------+------------+-------------+-------------------+----------+----------+--------+----------+---------+-------------------+-----------+---------+--------------------+\n",
      "|  Credit_card_no|   CUST_CITY| CUST_COUNTRY|         CUST_EMAIL|CUST_PHONE|CUST_STATE|CUST_ZIP|FIRST_NAME|LAST_NAME|       LAST_UPDATED|MIDDLE_NAME|      SSN| FULL_STREET_ADDRESS|\n",
      "+----------------+------------+-------------+-------------------+----------+----------+--------+----------+---------+-------------------+-----------+---------+--------------------+\n",
      "|4210653310061055|     Natchez|United States|AHooper@example.com|   1237818|        MS|   39120|      Alec|   Hooper|2018-04-21 12:49:02|         wm|123456100|656,Main Street N...|\n",
      "|4210653310102868|Wethersfield|United States|EHolman@example.com|   1238933|        CT|   06109|      Etta|   Holman|2018-04-21 12:49:02|    brendan|123453023|   829,Redwood Drive|\n",
      "|4210653310116272|     Huntley|United States|WDunham@example.com|   1243018|        IL|   60142|    Wilber|   Dunham|2018-04-21 12:49:02|   ezequiel|123454487|683,12th Street East|\n",
      "|4210653310195948|   NewBerlin|United States| EHardy@example.com|   1243215|        WI|   53151|   Eugenio|    Hardy|2018-04-21 12:49:02|      trina|123459758|253,Country Club ...|\n",
      "|4210653310356919|      ElPaso|United States| WAyers@example.com|   1242074|        TX|   79930|   Wilfred|    Ayers|2018-04-21 12:49:02|        may|123454431|  301,Madison Street|\n",
      "+----------------+------------+-------------+-------------------+----------+----------+--------+----------+---------+-------------------+-----------+---------+--------------------+\n",
      "only showing top 5 rows\n",
      "\n",
      "None\n"
     ]
    }
   ],
   "source": [
    "print(df_branch.show(5))\n",
    "print(df_credit.show(5))\n",
    "print(df_customers.show(5))"
   ]
  },
  {
   "cell_type": "code",
   "execution_count": 21,
   "id": "dcc8748c",
   "metadata": {},
   "outputs": [
    {
     "name": "stdout",
     "output_type": "stream",
     "text": [
      "root\n",
      " |-- BRANCH_CITY: string (nullable = true)\n",
      " |-- BRANCH_CODE: long (nullable = true)\n",
      " |-- BRANCH_NAME: string (nullable = true)\n",
      " |-- BRANCH_PHONE: string (nullable = true)\n",
      " |-- BRANCH_STATE: string (nullable = true)\n",
      " |-- BRANCH_STREET: string (nullable = true)\n",
      " |-- BRANCH_ZIP: long (nullable = true)\n",
      " |-- LAST_UPDATED: timestamp (nullable = true)\n",
      "\n"
     ]
    }
   ],
   "source": [
    "df_branch.printSchema()\n"
   ]
  },
  {
   "cell_type": "code",
   "execution_count": 22,
   "id": "b6722b97",
   "metadata": {},
   "outputs": [
    {
     "name": "stdout",
     "output_type": "stream",
     "text": [
      "root\n",
      " |-- BRANCH_CODE: long (nullable = true)\n",
      " |-- CUST_CC_NO: string (nullable = true)\n",
      " |-- CUST_SSN: long (nullable = true)\n",
      " |-- DAY: long (nullable = true)\n",
      " |-- MONTH: long (nullable = true)\n",
      " |-- TRANSACTION_ID: long (nullable = true)\n",
      " |-- TRANSACTION_TYPE: string (nullable = true)\n",
      " |-- TRANSACTION_VALUE: double (nullable = true)\n",
      " |-- YEAR: long (nullable = true)\n",
      " |-- TIMEID: date (nullable = true)\n",
      "\n"
     ]
    }
   ],
   "source": [
    "df_credit.printSchema()\n"
   ]
  },
  {
   "cell_type": "code",
   "execution_count": 23,
   "id": "a2b3ba93",
   "metadata": {
    "scrolled": true
   },
   "outputs": [
    {
     "name": "stdout",
     "output_type": "stream",
     "text": [
      "root\n",
      " |-- Credit_card_no: string (nullable = true)\n",
      " |-- CUST_CITY: string (nullable = true)\n",
      " |-- CUST_COUNTRY: string (nullable = true)\n",
      " |-- CUST_EMAIL: string (nullable = true)\n",
      " |-- CUST_PHONE: long (nullable = true)\n",
      " |-- CUST_STATE: string (nullable = true)\n",
      " |-- CUST_ZIP: string (nullable = true)\n",
      " |-- FIRST_NAME: string (nullable = true)\n",
      " |-- LAST_NAME: string (nullable = true)\n",
      " |-- LAST_UPDATED: timestamp (nullable = true)\n",
      " |-- MIDDLE_NAME: string (nullable = true)\n",
      " |-- SSN: long (nullable = true)\n",
      " |-- FULL_STREET_ADDRESS: string (nullable = true)\n",
      "\n"
     ]
    }
   ],
   "source": [
    "df_customers.printSchema()"
   ]
  },
  {
   "cell_type": "code",
   "execution_count": null,
   "id": "87ca4c16",
   "metadata": {},
   "outputs": [],
   "source": [
    "df_branch.write.format(\"jdbc\") \\\n",
    "  .mode(\"overwrite\") \\\n",
    "  .option(\"driver\", \"com.mysql.cj.jdbc.Driver\")\\\n",
    "  .option(\"url\", \"jdbc:mysql://localhost:3306/creditcard_capstone\") \\\n",
    "  .option(\"dbtable\", \"creditcard_capstone.CDW_SAPP_BRANCH\") \\\n",
    "  .option(\"user\", \"root\") \\\n",
    "  .option(\"password\", \"pass1234\") \\\n",
    "  .save()"
   ]
  },
  {
   "cell_type": "code",
   "execution_count": null,
   "id": "248c9658",
   "metadata": {},
   "outputs": [],
   "source": [
    "df_credit.write.format(\"jdbc\") \\\n",
    "  .mode(\"overwrite\") \\\n",
    "  .option(\"url\", \"jdbc:mysql://localhost:3306/creditcard_capstone\") \\\n",
    "  .option(\"dbtable\", \"creditcard_capstone.CDW_SAPP_CREDIT_CARD\") \\\n",
    "  .option(\"user\", \"root\") \\\n",
    "  .option(\"password\", \"pass1234\") \\\n",
    "  .save()"
   ]
  },
  {
   "cell_type": "code",
   "execution_count": null,
   "id": "280863da",
   "metadata": {},
   "outputs": [],
   "source": [
    "df_customers.write.format(\"jdbc\") \\\n",
    "  .mode(\"append\") \\\n",
    "  .option(\"url\", \"jdbc:mysql://localhost:3306/creditcard_capstone\") \\\n",
    "  .option(\"dbtable\", \"creditcard_capstone.CDW_SAPP_CUSTOMER\") \\\n",
    "  .option(\"user\", \"root\") \\\n",
    "  .option(\"password\", \"pass1234\") \\\n",
    "  .save()"
   ]
  },
  {
   "cell_type": "code",
   "execution_count": null,
   "id": "ace5a4bb",
   "metadata": {},
   "outputs": [],
   "source": [
    "df_branch.write.format(\"jdbc\") \\\n",
    "  .mode(\"append\") \\\n",
    "  .option(\"url\", \"jdbc:mysql://localhost:3306/creditcard_capstone\") \\\n",
    "  .option(\"dbtable\", \"creditcard_capstone.CDW_SAPP_BRANCH\") \\\n",
    "  .option(\"user\", \"root\") \\\n",
    "  .option(\"password\", \"pass1234\") \\\n",
    "  .save()\n",
    "\n",
    "df_credit.write.format(\"jdbc\") \\\n",
    "  .mode(\"append\") \\\n",
    "  .option(\"url\", \"jdbc:mysql://localhost:3306/creditcard_capstone\") \\\n",
    "  .option(\"dbtable\", \"creditcard_capstone.CDW_SAPP_CREDIT_CARD\") \\\n",
    "  .option(\"user\", \"root\") \\\n",
    "  .option(\"password\", \"pass1234\") \\\n",
    "  .save()\n",
    "\n",
    "df_customers.write.format(\"jdbc\") \\\n",
    "  .mode(\"append\") \\\n",
    "  .option(\"url\", \"jdbc:mysql://localhost:3306/creditcard_capstone\") \\\n",
    "  .option(\"dbtable\", \"creditcard_capstone.CDW_SAPP_CUSTOMER \") \\\n",
    "  .option(\"user\", \"root\") \\\n",
    "  .option(\"password\", \"pass1234\") \\\n",
    "  .save()"
   ]
  },
  {
   "cell_type": "code",
   "execution_count": null,
   "id": "b3679c52",
   "metadata": {},
   "outputs": [],
   "source": []
  },
  {
   "cell_type": "markdown",
   "id": "59e42ee1",
   "metadata": {},
   "source": [
    "# Data Wrangling"
   ]
  },
  {
   "cell_type": "code",
   "execution_count": 26,
   "id": "4ac290b8",
   "metadata": {
    "scrolled": true
   },
   "outputs": [
    {
     "name": "stdout",
     "output_type": "stream",
     "text": [
      "+-----------------+-----------+------------+-------------+------------+-----------------+----------+-------------------+\n",
      "|      BRANCH_CITY|BRANCH_CODE| BRANCH_NAME| BRANCH_PHONE|BRANCH_STATE|    BRANCH_STREET|BRANCH_ZIP|       LAST_UPDATED|\n",
      "+-----------------+-----------+------------+-------------+------------+-----------------+----------+-------------------+\n",
      "|        Lakeville|          1|Example Bank|(123)456-5276|          MN|     Bridle Court|     55044|2018-04-18 16:51:47|\n",
      "|          Huntley|          2|Example Bank|(123)461-8993|          IL|Washington Street|     60142|2018-04-18 16:51:47|\n",
      "|SouthRichmondHill|          3|Example Bank|(123)498-5926|          NY|    Warren Street|     11419|2018-04-18 16:51:47|\n",
      "|       Middleburg|          4|Example Bank|(123)466-3064|          FL| Cleveland Street|     32068|2018-04-18 16:51:47|\n",
      "|    KingOfPrussia|          5|Example Bank|(123)484-9701|          PA|      14th Street|     19406|2018-04-18 16:51:47|\n",
      "+-----------------+-----------+------------+-------------+------------+-----------------+----------+-------------------+\n",
      "only showing top 5 rows\n",
      "\n",
      "+-----------+----------------+---------+---+-----+--------------+----------------+-----------------+----+----------+\n",
      "|BRANCH_CODE|      CUST_CC_NO| CUST_SSN|DAY|MONTH|TRANSACTION_ID|TRANSACTION_TYPE|TRANSACTION_VALUE|YEAR|    TIMEID|\n",
      "+-----------+----------------+---------+---+-----+--------------+----------------+-----------------+----+----------+\n",
      "|        114|4210653349028689|123459988| 14|    2|             1|       Education|             78.9|2018|2018-02-14|\n",
      "|         35|4210653349028689|123459988| 20|    3|             2|   Entertainment|            14.24|2018|2018-03-20|\n",
      "|        160|4210653349028689|123459988|  8|    7|             3|         Grocery|             56.7|2018|2018-07-08|\n",
      "|        114|4210653349028689|123459988| 19|    4|             4|   Entertainment|            59.73|2018|2018-04-19|\n",
      "|         93|4210653349028689|123459988| 10|   10|             5|             Gas|             3.59|2018|2018-10-10|\n",
      "+-----------+----------------+---------+---+-----+--------------+----------------+-----------------+----+----------+\n",
      "only showing top 5 rows\n",
      "\n",
      "+----------------+------------+-------------+-------------------+----------+----------+--------+----------+---------+-------------------+-----------+---------+--------------------+\n",
      "|  Credit_card_no|   CUST_CITY| CUST_COUNTRY|         CUST_EMAIL|CUST_PHONE|CUST_STATE|CUST_ZIP|FIRST_NAME|LAST_NAME|       LAST_UPDATED|MIDDLE_NAME|      SSN| FULL_STREET_ADDRESS|\n",
      "+----------------+------------+-------------+-------------------+----------+----------+--------+----------+---------+-------------------+-----------+---------+--------------------+\n",
      "|4210653310061055|     Natchez|United States|AHooper@example.com|   1237818|        MS|   39120|      Alec|   Hooper|2018-04-21 12:49:02|         wm|123456100|656,Main Street N...|\n",
      "|4210653310102868|Wethersfield|United States|EHolman@example.com|   1238933|        CT|   06109|      Etta|   Holman|2018-04-21 12:49:02|    brendan|123453023|   829,Redwood Drive|\n",
      "|4210653310116272|     Huntley|United States|WDunham@example.com|   1243018|        IL|   60142|    Wilber|   Dunham|2018-04-21 12:49:02|   ezequiel|123454487|683,12th Street East|\n",
      "|4210653310195948|   NewBerlin|United States| EHardy@example.com|   1243215|        WI|   53151|   Eugenio|    Hardy|2018-04-21 12:49:02|      trina|123459758|253,Country Club ...|\n",
      "|4210653310356919|      ElPaso|United States| WAyers@example.com|   1242074|        TX|   79930|   Wilfred|    Ayers|2018-04-21 12:49:02|        may|123454431|  301,Madison Street|\n",
      "+----------------+------------+-------------+-------------------+----------+----------+--------+----------+---------+-------------------+-----------+---------+--------------------+\n",
      "only showing top 5 rows\n",
      "\n"
     ]
    }
   ],
   "source": [
    "df_branch.show(5)\n",
    "df_credit.show(5)\n",
    "df_customers.show(5)"
   ]
  },
  {
   "cell_type": "code",
   "execution_count": 27,
   "id": "6055355e",
   "metadata": {},
   "outputs": [
    {
     "name": "stdout",
     "output_type": "stream",
     "text": [
      "root\n",
      " |-- BRANCH_CODE: long (nullable = true)\n",
      " |-- CUST_CC_NO: string (nullable = true)\n",
      " |-- CUST_SSN: long (nullable = true)\n",
      " |-- DAY: long (nullable = true)\n",
      " |-- MONTH: long (nullable = true)\n",
      " |-- TRANSACTION_ID: long (nullable = true)\n",
      " |-- TRANSACTION_TYPE: string (nullable = true)\n",
      " |-- TRANSACTION_VALUE: double (nullable = true)\n",
      " |-- YEAR: long (nullable = true)\n",
      " |-- TIMEID: date (nullable = true)\n",
      " |-- Credit_card_no: string (nullable = true)\n",
      " |-- CUST_CITY: string (nullable = true)\n",
      " |-- CUST_COUNTRY: string (nullable = true)\n",
      " |-- CUST_EMAIL: string (nullable = true)\n",
      " |-- CUST_PHONE: long (nullable = true)\n",
      " |-- CUST_STATE: string (nullable = true)\n",
      " |-- CUST_ZIP: string (nullable = true)\n",
      " |-- FIRST_NAME: string (nullable = true)\n",
      " |-- LAST_NAME: string (nullable = true)\n",
      " |-- LAST_UPDATED: timestamp (nullable = true)\n",
      " |-- MIDDLE_NAME: string (nullable = true)\n",
      " |-- SSN: long (nullable = true)\n",
      " |-- FULL_STREET_ADDRESS: string (nullable = true)\n",
      "\n"
     ]
    }
   ],
   "source": [
    "df_cust_and_credit = df_credit.join(df_customers, df_credit.CUST_SSN == df_customers.SSN,\"outer\")\n",
    "df_cust_and_credit.printSchema()"
   ]
  },
  {
   "cell_type": "code",
   "execution_count": 28,
   "id": "8b62db96",
   "metadata": {},
   "outputs": [
    {
     "name": "stdout",
     "output_type": "stream",
     "text": [
      "root\n",
      " |-- BRANCH_CODE: long (nullable = true)\n",
      " |-- CUST_CC_NO: string (nullable = true)\n",
      " |-- CUST_SSN: long (nullable = true)\n",
      " |-- DAY: long (nullable = true)\n",
      " |-- MONTH: long (nullable = true)\n",
      " |-- TRANSACTION_ID: long (nullable = true)\n",
      " |-- TRANSACTION_TYPE: string (nullable = true)\n",
      " |-- TRANSACTION_VALUE: double (nullable = true)\n",
      " |-- YEAR: long (nullable = true)\n",
      " |-- TIMEID: date (nullable = true)\n",
      " |-- BRANCH_CITY: string (nullable = true)\n",
      " |-- BRANCHCODE: long (nullable = true)\n",
      " |-- BRANCH_NAME: string (nullable = true)\n",
      " |-- BRANCH_PHONE: string (nullable = true)\n",
      " |-- BRANCH_STATE: string (nullable = true)\n",
      " |-- BRANCH_STREET: string (nullable = true)\n",
      " |-- BRANCH_ZIP: long (nullable = true)\n",
      " |-- LAST_UPDATED: timestamp (nullable = true)\n",
      "\n"
     ]
    }
   ],
   "source": [
    "#changing BRANCH_CODE name - to avoid ambigous column error when querying\n",
    "df_branch = df_branch.withColumnRenamed('BRANCH_CODE','BRANCHCODE') \n",
    "df_branch_and_credit = df_credit.join(df_branch, df_credit.BRANCH_CODE == df_branch.BRANCHCODE, \"outer\")\n",
    "df_branch_and_credit.printSchema()"
   ]
  },
  {
   "cell_type": "code",
   "execution_count": 29,
   "id": "d3bc3009",
   "metadata": {},
   "outputs": [],
   "source": [
    "#dropped cols to be able to check for nulls\n",
    "df_cust_and_credit = df_cust_and_credit.drop('TIMEID')\n",
    "df_cust_and_credit = df_cust_and_credit.drop('LAST_UPDATED')\n",
    "df_branch_and_credit = df_branch_and_credit.drop('BRANCHCODE')"
   ]
  },
  {
   "cell_type": "code",
   "execution_count": 30,
   "id": "2690e884",
   "metadata": {},
   "outputs": [
    {
     "name": "stdout",
     "output_type": "stream",
     "text": [
      "+-----------+----------+--------+---+-----+--------------+----------------+-----------------+----+--------------+---------+------------+----------+----------+----------+--------+----------+---------+-----------+---+-------------------+\n",
      "|BRANCH_CODE|CUST_CC_NO|CUST_SSN|DAY|MONTH|TRANSACTION_ID|TRANSACTION_TYPE|TRANSACTION_VALUE|YEAR|Credit_card_no|CUST_CITY|CUST_COUNTRY|CUST_EMAIL|CUST_PHONE|CUST_STATE|CUST_ZIP|FIRST_NAME|LAST_NAME|MIDDLE_NAME|SSN|FULL_STREET_ADDRESS|\n",
      "+-----------+----------+--------+---+-----+--------------+----------------+-----------------+----+--------------+---------+------------+----------+----------+----------+--------+----------+---------+-----------+---+-------------------+\n",
      "|          0|         0|       0|  0|    0|             0|               0|                0|   0|             0|        0|           0|         0|         0|         0|       0|         0|        0|          0|  0|                  0|\n",
      "+-----------+----------+--------+---+-----+--------------+----------------+-----------------+----+--------------+---------+------------+----------+----------+----------+--------+----------+---------+-----------+---+-------------------+\n",
      "\n"
     ]
    }
   ],
   "source": [
    "#checking for nulls\n",
    "df_cust_and_credit.select([count(when(isnan(c), c)).alias(c) for c in df_cust_and_credit.columns]).show()"
   ]
  },
  {
   "cell_type": "code",
   "execution_count": 31,
   "id": "69974621",
   "metadata": {},
   "outputs": [
    {
     "name": "stdout",
     "output_type": "stream",
     "text": [
      "+-----------+----------+--------+---+-----+--------------+----------------+-----------------+----+--------------+---------+------------+----------+----------+----------+--------+----------+---------+-----------+---+-------------------+\n",
      "|BRANCH_CODE|CUST_CC_NO|CUST_SSN|DAY|MONTH|TRANSACTION_ID|TRANSACTION_TYPE|TRANSACTION_VALUE|YEAR|Credit_card_no|CUST_CITY|CUST_COUNTRY|CUST_EMAIL|CUST_PHONE|CUST_STATE|CUST_ZIP|FIRST_NAME|LAST_NAME|MIDDLE_NAME|SSN|FULL_STREET_ADDRESS|\n",
      "+-----------+----------+--------+---+-----+--------------+----------------+-----------------+----+--------------+---------+------------+----------+----------+----------+--------+----------+---------+-----------+---+-------------------+\n",
      "|          0|         0|       0|  0|    0|             0|               0|                0|   0|             0|        0|           0|         0|         0|         0|       0|         0|        0|          0|  0|                  0|\n",
      "+-----------+----------+--------+---+-----+--------------+----------------+-----------------+----+--------------+---------+------------+----------+----------+----------+--------+----------+---------+-----------+---+-------------------+\n",
      "\n"
     ]
    }
   ],
   "source": [
    "df_cust_and_credit.select([count(when(col(c).isNull(), c)).alias(c) for c in df_cust_and_credit.columns]).show()"
   ]
  },
  {
   "cell_type": "code",
   "execution_count": null,
   "id": "0cc51106",
   "metadata": {},
   "outputs": [],
   "source": []
  },
  {
   "cell_type": "code",
   "execution_count": 33,
   "id": "cf9854f7",
   "metadata": {
    "scrolled": true
   },
   "outputs": [],
   "source": [
    "pd_branch = df_branch.toPandas()\n",
    "pd_credit = df_credit.toPandas()\n",
    "pd_customers = df_customers.toPandas()"
   ]
  },
  {
   "cell_type": "code",
   "execution_count": 34,
   "id": "40889aac",
   "metadata": {},
   "outputs": [],
   "source": [
    "pd_credit = pd_credit.rename(columns = {'CUST_SSN':'SSN'})\n",
    "pd_customer_credit = pd.merge(pd_credit, pd_customers, on ='SSN')"
   ]
  },
  {
   "cell_type": "code",
   "execution_count": 41,
   "id": "1a9d4699",
   "metadata": {},
   "outputs": [
    {
     "data": {
      "text/plain": [
       "2018    46694\n",
       "Name: YEAR, dtype: int64"
      ]
     },
     "execution_count": 41,
     "metadata": {},
     "output_type": "execute_result"
    }
   ],
   "source": [
    "pd_customer_credit['YEAR'].value_counts()"
   ]
  },
  {
   "cell_type": "code",
   "execution_count": 35,
   "id": "c658575f",
   "metadata": {},
   "outputs": [
    {
     "data": {
      "text/plain": [
       "TRANSACTION_TYPE\n",
       "Bills            351405.28\n",
       "Education        337980.07\n",
       "Entertainment    338950.10\n",
       "Gas              336059.26\n",
       "Grocery          337051.63\n",
       "Healthcare       340476.20\n",
       "Test             341310.37\n",
       "Name: TRANSACTION_VALUE, dtype: float64"
      ]
     },
     "execution_count": 35,
     "metadata": {},
     "output_type": "execute_result"
    }
   ],
   "source": [
    "pd_customer_credit = pd_customer_credit.drop(['CUST_CC_NO','CUST_EMAIL','TIMEID','TRANSACTION_ID',\n",
    "                'Credit_card_no', 'CUST_PHONE', 'LAST_UPDATED', 'CUST_CITY','CUST_COUNTRY'], axis=1)\n",
    "pd_trans_type = pd_customer_credit.groupby(['TRANSACTION_TYPE'])['TRANSACTION_VALUE'].sum()\n",
    "pd_trans_type"
   ]
  },
  {
   "cell_type": "code",
   "execution_count": 36,
   "id": "38522872",
   "metadata": {},
   "outputs": [],
   "source": [
    "#https://towardsdatascience.com/bring-your-jupyter-notebook-to-life-with-interactive-widgets-bc12e03f0916\n",
    "ALL = 'ALL'\n",
    "def unique_sorted_values_plus_ALL(array):\n",
    "    unique = array.unique().tolist()\n",
    "    unique.sort()\n",
    "    unique.insert(0, ALL)\n",
    "    return unique"
   ]
  },
  {
   "cell_type": "code",
   "execution_count": 37,
   "id": "36c12f38",
   "metadata": {},
   "outputs": [
    {
     "data": {
      "application/vnd.jupyter.widget-view+json": {
       "model_id": "5908dfa0e9e548ca85a8e66c0909e71e",
       "version_major": 2,
       "version_minor": 0
      },
      "text/plain": [
       "Dropdown(options=('ALL', '01810', '02127', '02155', '02169', '02780', '06109', '06511', '07111', '07501', '076…"
      ]
     },
     "metadata": {},
     "output_type": "display_data"
    },
    {
     "data": {
      "application/vnd.jupyter.widget-view+json": {
       "model_id": "588fc3fe437040ee9e02272667ae1b8d",
       "version_major": 2,
       "version_minor": 0
      },
      "text/plain": [
       "Dropdown(options=('ALL', 1, 2, 3, 4, 5, 6, 7, 8, 9, 10, 11, 12), value='ALL')"
      ]
     },
     "metadata": {},
     "output_type": "display_data"
    }
   ],
   "source": [
    "output = widgets.Output()\n",
    "\n",
    "dropdown_zipcode = widgets.Dropdown(options = unique_sorted_values_plus_ALL(pd_customer_credit.CUST_ZIP))\n",
    "dropdown_month = widgets.Dropdown(options = unique_sorted_values_plus_ALL(pd_customer_credit.MONTH))\n",
    "\n",
    "def common_filtering(month, zipcode):\n",
    "    output.clear_output()\n",
    "    \n",
    "    if (month == ALL) & (zipcode == ALL):\n",
    "        common_filter = pd_customer_credit\n",
    "    elif (month == ALL):\n",
    "        common_filter = pd_customer_credit[pd_customer_credit.CUST_ZIP == zipcode]\n",
    "    elif (zipcode == ALL):\n",
    "        common_filter = pd_customer_credit[pd_customer_credit.MONTH == month]\n",
    "    else:\n",
    "        common_filter = pd_customer_credit[(pd_customer_credit.MONTH == month) & \n",
    "                                  (pd_customer_credit.CUST_ZIP == zipcode)]\n",
    "    \n",
    "    with output:\n",
    "        display(common_filter)\n",
    "        \n",
    "        \n",
    "def dropdown_month_eventhandler(change):\n",
    "    common_filtering(change.new, dropdown_zipcode.value)\n",
    "    \n",
    "def dropdown_zipcode_eventhandler(change):\n",
    "    common_filtering(dropdown_month.value, change.new)\n",
    "\n",
    "dropdown_month.observe(dropdown_month_eventhandler, names='value')\n",
    "dropdown_zipcode.observe(dropdown_zipcode_eventhandler, names='value')\n",
    "\n",
    "\n",
    "\n",
    "display(dropdown_zipcode)\n",
    "display(dropdown_month)"
   ]
  },
  {
   "cell_type": "code",
   "execution_count": 38,
   "id": "aee54cc1",
   "metadata": {},
   "outputs": [
    {
     "data": {
      "application/vnd.jupyter.widget-view+json": {
       "model_id": "b9459cc651184880af056f408d4604fd",
       "version_major": 2,
       "version_minor": 0
      },
      "text/plain": [
       "Output(outputs=({'output_type': 'display_data', 'data': {'text/plain': '       BRANCH_CODE        SSN  DAY  MO…"
      ]
     },
     "metadata": {},
     "output_type": "display_data"
    }
   ],
   "source": [
    "display(output)"
   ]
  },
  {
   "cell_type": "code",
   "execution_count": 39,
   "id": "e47dcd66",
   "metadata": {},
   "outputs": [],
   "source": [
    "df_branch.createOrReplaceTempView(\"branch\")\n",
    "df_credit.createOrReplaceTempView(\"credit\")\n",
    "df_customers.createOrReplaceTempView(\"customers\")\n",
    "df_cust_and_credit.createOrReplaceTempView(\"cc\")\n",
    "df_branch_and_credit.createOrReplaceTempView(\"bcr\")"
   ]
  },
  {
   "cell_type": "code",
   "execution_count": 42,
   "id": "5ede832c",
   "metadata": {},
   "outputs": [
    {
     "name": "stdout",
     "output_type": "stream",
     "text": [
      "Please enter your 5 digit zipcode: 22180\n",
      "Please enter your 4 digit year: 2018\n",
      "Please choose a month from 1 through 12: 5\n",
      "+---------+----------+--------+----+-----+---+\n",
      "|LAST_NAME|FIRST_NAME|CUST_ZIP|YEAR|MONTH|DAY|\n",
      "+---------+----------+--------+----+-----+---+\n",
      "|   Spence|      Fred|   22180|2018|    5| 28|\n",
      "|   Savage|     Clara|   22180|2018|    5| 26|\n",
      "|  Salinas|     Keven|   22180|2018|    5| 24|\n",
      "|  Conklin|  Harrison|   22180|2018|    5| 23|\n",
      "|     Kemp|    Sheila|   22180|2018|    5| 23|\n",
      "|   Savage|     Clara|   22180|2018|    5| 22|\n",
      "|   Spence|      Fred|   22180|2018|    5| 22|\n",
      "|      Poe|    Leslie|   22180|2018|    5| 21|\n",
      "|   Ramsey|      Omar|   22180|2018|    5| 21|\n",
      "|  Conklin|  Harrison|   22180|2018|    5| 19|\n",
      "|   Savage|     Clara|   22180|2018|    5| 18|\n",
      "|   Krause|    Nannie|   22180|2018|    5| 18|\n",
      "|  Conklin|  Harrison|   22180|2018|    5| 17|\n",
      "|  Salinas|     Keven|   22180|2018|    5| 17|\n",
      "|   Spence|      Fred|   22180|2018|    5| 16|\n",
      "|     Kemp|    Sheila|   22180|2018|    5| 16|\n",
      "|  Conklin|  Harrison|   22180|2018|    5| 15|\n",
      "|      Poe|    Leslie|   22180|2018|    5| 15|\n",
      "|   Savage|     Clara|   22180|2018|    5| 15|\n",
      "|   Spence|      Fred|   22180|2018|    5| 15|\n",
      "|  Salinas|     Keven|   22180|2018|    5| 14|\n",
      "|     Kemp|    Sheila|   22180|2018|    5| 14|\n",
      "|   Ramsey|      Omar|   22180|2018|    5| 14|\n",
      "|   Ramsey|      Omar|   22180|2018|    5| 14|\n",
      "|  Mcclain|      Kurt|   22180|2018|    5| 14|\n",
      "|     Kemp|    Sheila|   22180|2018|    5| 13|\n",
      "|   Spence|      Fred|   22180|2018|    5| 13|\n",
      "|      Poe|    Leslie|   22180|2018|    5| 13|\n",
      "|  Mcclain|      Kurt|   22180|2018|    5| 11|\n",
      "|   Ramsey|      Omar|   22180|2018|    5|  9|\n",
      "|      Poe|    Leslie|   22180|2018|    5|  8|\n",
      "|  Salinas|     Keven|   22180|2018|    5|  7|\n",
      "|  Mcclain|      Kurt|   22180|2018|    5|  6|\n",
      "|   Savage|     Clara|   22180|2018|    5|  5|\n",
      "|   Savage|     Clara|   22180|2018|    5|  4|\n",
      "|     Kemp|    Sheila|   22180|2018|    5|  4|\n",
      "|     Kemp|    Sheila|   22180|2018|    5|  3|\n",
      "|      Poe|    Leslie|   22180|2018|    5|  2|\n",
      "|   Savage|     Clara|   22180|2018|    5|  2|\n",
      "|  Salinas|     Keven|   22180|2018|    5|  1|\n",
      "+---------+----------+--------+----+-----+---+\n",
      "\n"
     ]
    }
   ],
   "source": [
    "##22180, 2018, 5\n",
    "zipcode = input(\"Please enter your 5 digit zipcode: \" )\n",
    "year = input(\"Please enter your 4 digit year: \" )\n",
    "month = input(\"Please choose a month from 1 through 12: \" )\n",
    "\n",
    "def get_transactions_by_zipcode(zipcode, year, month):\n",
    "    results = spark.sql(\"SELECT cc.LAST_NAME, cc.FIRST_NAME, cc.CUST_ZIP, cc.YEAR, cc.MONTH, cc.DAY \\\n",
    "            FROM cc \\\n",
    "            WHERE cc.CUST_ZIP = '{}' AND cc.YEAR = '{}' AND cc.MONTH = '{}' \\\n",
    "            ORDER BY cc.DAY DESC\".format(str(zipcode), str(year), str(month)))\n",
    "\n",
    "    results.show(1000)\n",
    "\n",
    "get_transactions_by_zipcode(zipcode, year, month)\n"
   ]
  },
  {
   "cell_type": "code",
   "execution_count": null,
   "id": "17f2aa6d",
   "metadata": {},
   "outputs": [],
   "source": []
  },
  {
   "cell_type": "code",
   "execution_count": 44,
   "id": "7b855969",
   "metadata": {},
   "outputs": [
    {
     "name": "stdout",
     "output_type": "stream",
     "text": [
      "Please choose transaction type from the following - Education, Entertainment  Healthcare, Grocery, Test, Gas, Bills: Grocery\n",
      "Number of Grocery transactions: 6549\n",
      "Total value of Grocery transactions: $337051.63\n"
     ]
    }
   ],
   "source": [
    "transaction_type = input(\"Please choose transaction type from the following - Education, Entertainment\\\n",
    "  Healthcare, Grocery, Test, Gas, Bills: \" )\n",
    "\n",
    "def get_transaction_by_type(transaction_type):\n",
    "    transactions = spark.sql(\"\"\"\n",
    "        SELECT TRANSACTION_VALUE\n",
    "        FROM credit\n",
    "        WHERE TRANSACTION_TYPE = '{}'\n",
    "    \"\"\".format(transaction_type))\n",
    "\n",
    "    num_transactions = transactions.count()\n",
    "    total_value = transactions.agg({'TRANSACTION_VALUE': 'sum'}).collect()[0][0]\n",
    "\n",
    "    print(\"Number of {} transactions: {}\".format(transaction_type, num_transactions))\n",
    "    print(\"Total value of {} transactions: ${:.2f}\".format(transaction_type, total_value))\n",
    "    \n",
    "get_transaction_by_type(transaction_type)"
   ]
  },
  {
   "cell_type": "code",
   "execution_count": 45,
   "id": "3bfbc9a0",
   "metadata": {},
   "outputs": [
    {
     "name": "stdout",
     "output_type": "stream",
     "text": [
      "Please choose a state from the following list (NY, GA, PA, FL, IL, MI, MD, NJ, CA, OH,  NC, VA, MA, TX, WI, SC, MN, MS, KY, WA, IA, CT, IN, MT, AR, AL): NY\n",
      "+-----------+----------------+-----------+\n",
      "|BRANCH_CODE|num_transactions|total_value|\n",
      "+-----------+----------------+-----------+\n",
      "|        178|             398|   18968.33|\n",
      "|        160|             400|   20257.59|\n",
      "|          3|             431|   21749.91|\n",
      "|          8|             431|   21809.74|\n",
      "|         66|             412|   21723.45|\n",
      "|        175|             393|   20524.62|\n",
      "|        135|             383|   20710.99|\n",
      "|         46|             445|   23507.66|\n",
      "|         93|             416|   21698.67|\n",
      "|         16|             434|   22766.42|\n",
      "+-----------+----------------+-----------+\n",
      "\n"
     ]
    },
    {
     "data": {
      "text/plain": [
       "None"
      ]
     },
     "metadata": {},
     "output_type": "display_data"
    }
   ],
   "source": [
    "state_name = input(\"Please choose a state from the following list (NY, GA, PA, FL, IL, MI, MD, NJ, CA, OH, \\\n",
    " NC, VA, MA, TX, WI, SC, MN, MS, KY, WA, IA, CT, IN, MT, AR, AL): \" )\n",
    "\n",
    "def transactions_by_state(state_name):\n",
    "    trans_by_state = spark.sql(\"SELECT BRANCH_CODE, COUNT(*) AS num_transactions, ROUND(SUM(TRANSACTION_VALUE),2) AS total_value \\\n",
    "                               FROM bcr \\\n",
    "                               WHERE BRANCH_STATE = '{}' \\\n",
    "                               GROUP BY BRANCH_CODE\".format(state_name))\n",
    "    display(trans_by_state.show())\n",
    "    \n",
    "transactions_by_state(state_name)"
   ]
  },
  {
   "cell_type": "code",
   "execution_count": null,
   "id": "d31505b7",
   "metadata": {},
   "outputs": [],
   "source": [
    "state = input(\"Please choose a state from the following list (NY, GA, PA, FL, IL, MI, MD, NJ, CA, OH,\\\n",
    "NC, VA, MA, TX, WI, SC, MN, MS, KY, WA, IA, CT, IN, MT, AR, AL): \")\n",
    "\n",
    "def get_branch_transaction_info(state):\n",
    "    trans_by_branch_state = spark.sql(f\"SELECT COUNT(bcr.BRANCH_STATE) as Branches_in_{state}, \\\n",
    "    ROUND(SUM(bcr.TRANSACTION_VALUE),2) as Total_Transactions_Value \\\n",
    "    FROM bcr \\\n",
    "    WHERE bcr.BRANCH_STATE = '{state}'\")\n",
    "    trans_by_branch_state.show()\n",
    "\n",
    "get_branch_transaction_info(state)\n"
   ]
  },
  {
   "cell_type": "code",
   "execution_count": null,
   "id": "ad5c6c9f",
   "metadata": {
    "scrolled": true
   },
   "outputs": [],
   "source": [
    "#123459988\n",
    "customer_ssn = input(\"Please enter your social security number: \")\n",
    "\n",
    "def get_customer_information(customer_ssn):\n",
    "    customer_info = spark.sql(\"SELECT * \\\n",
    "    FROM customers \\\n",
    "    WHERE customers.SSN = '{}'\".format(customer_ssn))\n",
    "    customer_info.show()\n",
    "\n",
    "get_customer_information(customer_ssn)\n"
   ]
  },
  {
   "cell_type": "code",
   "execution_count": null,
   "id": "29642adc",
   "metadata": {},
   "outputs": [],
   "source": [
    "df_customers.printSchema()"
   ]
  },
  {
   "cell_type": "code",
   "execution_count": null,
   "id": "b31ad9ab",
   "metadata": {},
   "outputs": [],
   "source": [
    "\n",
    "ssn = input(\"Please enter your social security number: \")\n",
    "field = input(\"Please enter in the field you would like to change (Credit_card_no, CUST_CITY, CUST_COUNTRY, \\\n",
    " CUST_EMAIL, CUST_PHONE, CUST_STATE, CUST_ZIP, FIRST_NAME, LAST_NAME, MIDDLE_NAME, SSN): \")\n",
    "new_value = input(\"Please enter the changed information: \")\n",
    "\n",
    "def update_customer_info(ssn, field, new_value):\n",
    "    if field in ['CUST_PHONE', 'SSN']:\n",
    "        #numeric cols\n",
    "        spark.sql(\"UPDATE customers SET {} = {}, \\\n",
    "         LAST_UPDATED = '{}' WHERE SSN = {}\".format(field, new_value, current_date(), ssn))\n",
    "    else:\n",
    "        spark.sql(\"UPDATE customers SET {} = '{}', \\\n",
    "         LAST_UPDATED = '{}' WHERE SSN = {}\".format(field, new_value, current_date(), ssn))\n",
    "update_customer_info(ssn, field, new_value)\n",
    "\n",
    "\n",
    "\n"
   ]
  },
  {
   "cell_type": "code",
   "execution_count": null,
   "id": "1efbbb63",
   "metadata": {},
   "outputs": [],
   "source": [
    "#4210653349028689,  2  2018\n",
    "cc_number = input(\"Please enter your credit card number: \")\n",
    "year = input(\"Please enter the year you would like to view the bill for: \")\n",
    "month = input(\"Please enter the month you would like to view the bill for: \")\n",
    "\n",
    "def get_customer_bill(cc_number, year, month):\n",
    "    customer_bill = spark.sql(\"SELECT cc.FIRST_NAME, cc.LAST_NAME, cc.CUST_SSN, \\\n",
    "    ROUND(SUM(TRANSACTION_VALUE), 2) AS MONTHLY_BILL \\\n",
    "    FROM cc \\\n",
    "    WHERE cc.CUST_CC_NO = '{}' AND cc.YEAR = {} AND cc.MONTH = {} \\\n",
    "    GROUP BY cc.CUST_SSN, cc.FIRST_NAME, cc.LAST_NAME\".format(str(cc_number), str(year), str(month)))\n",
    "    customer_bill.show()\n",
    "    \n",
    "\n",
    "get_customer_bill(cc_number, year, month)\n"
   ]
  },
  {
   "cell_type": "code",
   "execution_count": null,
   "id": "bd40b66e",
   "metadata": {},
   "outputs": [],
   "source": [
    "# reset variables\n",
    "df_cust_and_credit = df_credit.join(df_customers, df_credit.CUST_SSN == df_customers.SSN,\"outer\")\n",
    "df_cust_and_credit.createOrReplaceTempView(\"ccbill\")"
   ]
  },
  {
   "cell_type": "code",
   "execution_count": null,
   "id": "6e7cb657",
   "metadata": {},
   "outputs": [],
   "source": [
    "df_cust_and_credit.printSchema()"
   ]
  },
  {
   "cell_type": "code",
   "execution_count": null,
   "id": "564515bf",
   "metadata": {},
   "outputs": [],
   "source": [
    "#123452490\n",
    "\n",
    "ssn = input(\"Please enter your social security number: \")\n",
    "start_date = input(\"Please enter your transaction start date as (YYYY-MM-DD): \")\n",
    "end_date = input(\"Please enter your transaction end date as (YYYY-MM-DD): \")\n",
    "\n",
    "def get_customer_transactions(ssn, start_date, end_date): \n",
    "    customer_transactions = spark.sql(\"SELECT ccbill.FIRST_NAME, ccbill.LAST_NAME, ccbill.TRANSACTION_VALUE, \\\n",
    "    ccbill.TIMEID, ccbill.CUST_CC_NO \\\n",
    "    FROM ccbill \\\n",
    "    WHERE ccbill.SSN = '{}' AND ccbill.TIMEID BETWEEN '{}' AND '{}' \\\n",
    "    ORDER BY YEAR, TIMEID DESC\".format(ssn, start_date, end_date))\n",
    "    customer_transactions.show()\n",
    "\n",
    "get_customer_transactions(ssn, start_date, end_date)"
   ]
  },
  {
   "cell_type": "code",
   "execution_count": null,
   "id": "3b76d3c0",
   "metadata": {},
   "outputs": [],
   "source": [
    "df_credit.show(5)"
   ]
  },
  {
   "cell_type": "code",
   "execution_count": null,
   "id": "f5f12540",
   "metadata": {},
   "outputs": [],
   "source": [
    "df_cust_and_credit.show(5)"
   ]
  },
  {
   "cell_type": "code",
   "execution_count": null,
   "id": "06c7737f",
   "metadata": {},
   "outputs": [],
   "source": []
  },
  {
   "cell_type": "markdown",
   "id": "40f6559e",
   "metadata": {},
   "source": [
    "##format\n",
    "-- Create or replace view for `experienced_employee` with comments.\n",
    "> CREATE OR REPLACE VIEW experienced_employee\n",
    "    (id COMMENT 'Unique identification number', Name)\n",
    "    COMMENT 'View for experienced employees'\n",
    "    AS SELECT id, name\n",
    "         FROM all_employee\n",
    "        WHERE working_years > 5;\n",
    "\n",
    "-- Create a temporary view `subscribed_movies`.\n",
    "> CREATE TEMPORARY VIEW subscribed_movies\n",
    "    AS SELECT mo.member_id, mb.full_name, mo.movie_title\n",
    "         FROM movies AS mo\n",
    "         INNER JOIN members AS mb\n",
    "            ON mo.member_id = mb.id;\n",
    "\n",
    "https://docs.databricks.com/sql/language-manual/sql-ref-syntax-ddl-create-view.html\n"
   ]
  },
  {
   "cell_type": "markdown",
   "id": "1982d881",
   "metadata": {},
   "source": [
    "### Question global v not global temp_view"
   ]
  },
  {
   "cell_type": "markdown",
   "id": "8ed5b07a",
   "metadata": {},
   "source": [
    "Let’s create a temporary view on top of the DataFrame object by using df.createOrReplaceTempView(). Spark SQL temporary views are session-scoped and will not be available if the session that creates it terminates. The following examples create a Person table.\n",
    "\n",
    "\n",
    "// Create Temporary View/Table \n",
    "df.createOrReplaceTempView(\"Person\")-  temporary view that is not shared among all sessions and keep alive until the Spark application terminates, you can create a global temporary view using\n",
    "df.createGlobalTempView('Person'-  temporary view that is shared among all sessions and keep alive until the Spark application terminates, you can create a global temporary view using\n",
    "\n",
    "\n",
    "\n",
    "\n",
    "https://sparkbyexamples.com/spark/spark-createorreplacetempview-explained/\n",
    "\n",
    "// Run SQL Query\n",
    "spark.sql(\"select firstname, lastname from Person\").show()"
   ]
  },
  {
   "cell_type": "code",
   "execution_count": null,
   "id": "00b7fb32",
   "metadata": {},
   "outputs": [],
   "source": [
    "df_branch.createOrReplaceTempView(\"branch\")\n",
    "df_credit.createOrReplaceTempView(\"credit\")\n",
    "df_customers.createOrReplaceTempView(\"customers\")"
   ]
  },
  {
   "cell_type": "code",
   "execution_count": null,
   "id": "051ea0ac",
   "metadata": {},
   "outputs": [],
   "source": []
  },
  {
   "cell_type": "markdown",
   "id": "3e282f0b",
   "metadata": {},
   "source": [
    "can also convert to DF and join df together.\n",
    "\n",
    "then write functions"
   ]
  },
  {
   "cell_type": "code",
   "execution_count": null,
   "id": "fef1c192",
   "metadata": {},
   "outputs": [],
   "source": [
    "df_branch_pd = df_branch.toPandas()\n",
    "df_credit_pd = df_credit.toPandas()\n",
    "df_customers_pd = df_customers.toPandas()\n"
   ]
  },
  {
   "cell_type": "markdown",
   "id": "3dcf749e",
   "metadata": {},
   "source": [
    "1) Used to check the existing account details of a customer.\n",
    "2) Used to modify the existing account details of a customer.\n",
    "3) Used to generate a monthly bill for a credit card number for a given month and year.\n",
    "4) Used to display the transactions made by a customer between two dates. Order by year, month, and day in descending order.\n"
   ]
  },
  {
   "cell_type": "code",
   "execution_count": null,
   "id": "27f10569",
   "metadata": {},
   "outputs": [],
   "source": [
    "df_customers_pd.columns"
   ]
  },
  {
   "cell_type": "code",
   "execution_count": null,
   "id": "fadb0dde",
   "metadata": {},
   "outputs": [],
   "source": [
    "df_credit_pd.columns"
   ]
  },
  {
   "cell_type": "code",
   "execution_count": null,
   "id": "47b2fa6f",
   "metadata": {},
   "outputs": [],
   "source": [
    "trans_df = pd.merge(df_credit_pd, df_customers_pd, how='inner', left_on = 'CUST_SSN', right_on = 'SSN')"
   ]
  },
  {
   "cell_type": "markdown",
   "id": "c4dbf172",
   "metadata": {},
   "source": [
    "Find and plot which transaction type has a high rate of transactions.\n",
    "\n",
    "Note: Take a screenshot of the graphs. \n",
    "Find and plot which state has a high number of customers.\n",
    "\n",
    "Note: Take a screenshot of the graphs. \n",
    "Find and plot the sum of all transactions for each customer, and which customer has the highest transaction amount.\n",
    "hint(use CUST_SSN).\n",
    "\n",
    "Note: Take a screenshot of the graphs. \n",
    "\n"
   ]
  },
  {
   "cell_type": "markdown",
   "id": "a2a5ad24",
   "metadata": {},
   "source": [
    "## 3"
   ]
  },
  {
   "cell_type": "code",
   "execution_count": null,
   "id": "0d385a90",
   "metadata": {},
   "outputs": [],
   "source": [
    "print(df_branch.show(5))\n",
    "print(df_credit.show(5))\n",
    "print(df_customers.show(5))"
   ]
  },
  {
   "cell_type": "code",
   "execution_count": null,
   "id": "3c9e2e85",
   "metadata": {},
   "outputs": [],
   "source": [
    "pd_credit = df_credit.toPandas()\n",
    "pd_credit"
   ]
  },
  {
   "cell_type": "code",
   "execution_count": null,
   "id": "2191bf4d",
   "metadata": {},
   "outputs": [],
   "source": [
    "#numbers are right but overwriting??\n",
    "pd_credit.groupby(['TRANSACTION_TYPE']).count()"
   ]
  },
  {
   "cell_type": "code",
   "execution_count": null,
   "id": "8580d2d4",
   "metadata": {
    "scrolled": true
   },
   "outputs": [],
   "source": [
    "#df2 = df.groupby(['Courses'])['Courses'].count()\n",
    "transaction_type = pd_credit.groupby(['TRANSACTION_TYPE'])['TRANSACTION_TYPE'].count()\n",
    "transaction_type"
   ]
  },
  {
   "cell_type": "code",
   "execution_count": null,
   "id": "e97f5302",
   "metadata": {},
   "outputs": [],
   "source": [
    "transaction_names = pd_credit.TRANSACTION_TYPE.value_counts()\n",
    "transaction_names"
   ]
  },
  {
   "cell_type": "code",
   "execution_count": null,
   "id": "85bb0ae8",
   "metadata": {},
   "outputs": [],
   "source": [
    "transaction_names = pd_credit.TRANSACTION_TYPE.value_counts()\n",
    "types_df = transaction_names.reset_index()\n",
    "types_df.columns = ['categories', 'frequency']"
   ]
  },
  {
   "cell_type": "code",
   "execution_count": null,
   "id": "c0faa3ba",
   "metadata": {},
   "outputs": [],
   "source": [
    "fig, ax = plt.subplots(figsize=(10, 5))\n",
    "ax = sns.barplot(x='categories', y='frequency', data=types_df, color='purple')\n",
    "plt.title('Transaction Type')\n",
    "plt.xlabel('Number of Transactions')\n",
    "plt.ylabel('Transaction Type')\n",
    "plt.ylim(6300, 7000)\n",
    "ax.bar_label(ax.containers[0]);\n",
    "\n"
   ]
  },
  {
   "cell_type": "code",
   "execution_count": null,
   "id": "e1524d99",
   "metadata": {
    "scrolled": true
   },
   "outputs": [],
   "source": [
    "pip show matplotlib"
   ]
  },
  {
   "cell_type": "code",
   "execution_count": null,
   "id": "bfcb4323",
   "metadata": {},
   "outputs": [],
   "source": []
  },
  {
   "cell_type": "code",
   "execution_count": null,
   "id": "43cc2925",
   "metadata": {},
   "outputs": [],
   "source": [
    "pd_customers = df_customers.toPandas()\n",
    "pd_customers"
   ]
  },
  {
   "cell_type": "code",
   "execution_count": null,
   "id": "8c75d9b8",
   "metadata": {},
   "outputs": [],
   "source": [
    "states = pd_customers.groupby(['CUST_STATE'])['CUST_STATE'].count()\n",
    "states"
   ]
  },
  {
   "cell_type": "code",
   "execution_count": null,
   "id": "da03bc99",
   "metadata": {},
   "outputs": [],
   "source": [
    "state_names= pd_customers.CUST_STATE.value_counts()\n",
    "state_count = state_names.reset_index()\n",
    "state_count.columns = ['states', 'frequency']\n",
    "state_count"
   ]
  },
  {
   "cell_type": "code",
   "execution_count": null,
   "id": "fcd3ca37",
   "metadata": {},
   "outputs": [],
   "source": [
    "#limit 8\n",
    "top_8_states = state_count.nlargest(8, ['frequency'])\n",
    "top_8_states"
   ]
  },
  {
   "cell_type": "code",
   "execution_count": null,
   "id": "5a61d20c",
   "metadata": {},
   "outputs": [],
   "source": [
    "top_8= state_count.sort_values(by=['frequency'], ascending=False).head(8)\n",
    "top_8"
   ]
  },
  {
   "cell_type": "code",
   "execution_count": null,
   "id": "0fd97666",
   "metadata": {},
   "outputs": [],
   "source": [
    "fig, ax = plt.subplots(figsize=(10, 5))\n",
    "ax = sns.barplot(x='states', y='frequency', data=top_8_states, color='green')\n",
    "#ax.set_title('Transaction Type')\n",
    "#ax.set_xlabel('Number of Transactions')\n",
    "#ax.set_ylabel('Transaction Type')\n",
    "#ax.set_ylim(6300, 7000)\n",
    "plt.title('Top 8 States with the Highest Customers')\n",
    "plt.xlabel('States')\n",
    "plt.ylabel('Frequency')\n",
    "plt.ylim(25, 125)\n",
    "ax.bar_label(ax.containers[0]);"
   ]
  },
  {
   "cell_type": "code",
   "execution_count": null,
   "id": "a261eaa8",
   "metadata": {},
   "outputs": [],
   "source": [
    "pd_credit"
   ]
  },
  {
   "cell_type": "code",
   "execution_count": null,
   "id": "29b4a35d",
   "metadata": {},
   "outputs": [],
   "source": [
    "customer_transaction = pd_credit.groupby(['CUST_SSN'])['TRANSACTION_VALUE'].sum()\n",
    "customer_transaction"
   ]
  },
  {
   "cell_type": "code",
   "execution_count": null,
   "id": "3a3f66a3",
   "metadata": {},
   "outputs": [],
   "source": [
    "individual_cust = customer_transaction.reset_index()\n",
    "individual_cust.sort_values(by=['TRANSACTION_VALUE'], ascending=False, inplace=True)\n",
    "individual_cust"
   ]
  },
  {
   "cell_type": "code",
   "execution_count": null,
   "id": "b4eef8d2",
   "metadata": {},
   "outputs": [],
   "source": [
    "top_1_customer = individual_cust.head(1)\n",
    "top_1_customer"
   ]
  },
  {
   "cell_type": "code",
   "execution_count": null,
   "id": "9132dbeb",
   "metadata": {},
   "outputs": [],
   "source": [
    "top_15_customers= individual_cust.nlargest(15, ['TRANSACTION_VALUE'])\n",
    "top_15_customers"
   ]
  },
  {
   "cell_type": "code",
   "execution_count": null,
   "id": "605e1b26",
   "metadata": {},
   "outputs": [],
   "source": [
    "\n",
    "fig, ax = plt.subplots(figsize=(15, 10))\n",
    "ax = sns.barplot(x='CUST_SSN', y='TRANSACTION_VALUE', data=top_15_customers, color='purple')\n",
    "#ax.set_title('Transaction Type')\n",
    "#ax.set_xlabel('Number of Transactions')\n",
    "#ax.set_ylabel('Transaction Type')\n",
    "#ax.set_ylim(6300, 7000)\n",
    "plt.title('Top 15 Customers with the Highest Total Transaction Amounts')\n",
    "plt.xlabel('Customer by SSN')\n",
    "plt.ylabel('Total Transaction Amount')\n",
    "plt.ylim(4700, 5900)\n",
    "ax.set_xticklabels(ax.get_xticklabels(), rotation=45)\n",
    "ax.bar_label(ax.containers[0]);"
   ]
  },
  {
   "cell_type": "code",
   "execution_count": null,
   "id": "a1b06dbe",
   "metadata": {},
   "outputs": [],
   "source": []
  },
  {
   "cell_type": "code",
   "execution_count": null,
   "id": "c894bacc",
   "metadata": {},
   "outputs": [],
   "source": []
  },
  {
   "cell_type": "code",
   "execution_count": null,
   "id": "626ba04d",
   "metadata": {},
   "outputs": [],
   "source": []
  },
  {
   "cell_type": "code",
   "execution_count": null,
   "id": "7408702c",
   "metadata": {},
   "outputs": [],
   "source": []
  },
  {
   "cell_type": "markdown",
   "id": "f06d2df0",
   "metadata": {},
   "source": [
    "## 4"
   ]
  },
  {
   "cell_type": "code",
   "execution_count": null,
   "id": "5b9adf68",
   "metadata": {},
   "outputs": [],
   "source": [
    "import findspark\n",
    "findspark.init()"
   ]
  },
  {
   "cell_type": "code",
   "execution_count": null,
   "id": "2ae817b1",
   "metadata": {},
   "outputs": [],
   "source": [
    "url = 'https://raw.githubusercontent.com/platformps/LoanDataset/main/loan_data.json'\n",
    "response = requests.get(url)\n",
    "data = response.json()\n",
    "data"
   ]
  },
  {
   "cell_type": "code",
   "execution_count": null,
   "id": "4c195b9b",
   "metadata": {},
   "outputs": [],
   "source": [
    "print(response.status_code)"
   ]
  },
  {
   "cell_type": "code",
   "execution_count": null,
   "id": "9513ab10",
   "metadata": {},
   "outputs": [],
   "source": [
    "spark.stop()"
   ]
  },
  {
   "cell_type": "code",
   "execution_count": null,
   "id": "e63bb6fc",
   "metadata": {},
   "outputs": [],
   "source": [
    "spark = SparkSession.builder.master(\"local[*]\").appName(\"Loan\").getOrCreate()"
   ]
  },
  {
   "cell_type": "code",
   "execution_count": null,
   "id": "c6458766",
   "metadata": {},
   "outputs": [],
   "source": [
    "\n",
    "loan = spark.sparkContext.parallelize(data)\n",
    "df_loan = spark.read.json(loan)\n",
    "df_loan.show(5)"
   ]
  },
  {
   "cell_type": "code",
   "execution_count": null,
   "id": "56951fca",
   "metadata": {},
   "outputs": [],
   "source": [
    "type(df_loan)"
   ]
  },
  {
   "cell_type": "markdown",
   "id": "23c8e5d1",
   "metadata": {},
   "source": [
    "\n",
    "Create a Python program to GET (consume) data from the above API endpoint for the loan application dataset.\n",
    "Find the status code of the above API endpoint.\n",
    "\n",
    "Hint: status code could be 200, 400, 404, 401.\n",
    "Once Python reads data from the API, utilize PySpark to load data into RDBMS(SQL). The table name should be CDW-SAPP_loan_application in the database.\n",
    "\n",
    "Note: Use the “creditcard_capstone” database.\n",
    "\n"
   ]
  },
  {
   "cell_type": "code",
   "execution_count": null,
   "id": "7816348a",
   "metadata": {},
   "outputs": [],
   "source": [
    "df_loan.write.format(\"jdbc\") \\\n",
    "  .mode(\"append\") \\\n",
    "  .option(\"url\", \"jdbc:mysql://localhost:3306/creditcard_capstone\") \\\n",
    "  .option(\"dbtable\", \"creditcard_capstone.CDW-SAPP_loan_application \") \\\n",
    "  .option(\"user\", \"root\") \\\n",
    "  .option(\"password\", \"pass1234\") \\\n",
    "  .save()"
   ]
  },
  {
   "cell_type": "code",
   "execution_count": null,
   "id": "a91dbbdd",
   "metadata": {},
   "outputs": [],
   "source": []
  },
  {
   "cell_type": "markdown",
   "id": "f0e441fa",
   "metadata": {},
   "source": [
    "## 5"
   ]
  },
  {
   "cell_type": "code",
   "execution_count": null,
   "id": "6f638fbd",
   "metadata": {},
   "outputs": [],
   "source": [
    "pd_loan = df_loan.toPandas()\n",
    "pd_loan.head()"
   ]
  },
  {
   "cell_type": "code",
   "execution_count": null,
   "id": "cb55f3d5",
   "metadata": {},
   "outputs": [],
   "source": [
    "pd_loan['Application_Status'] = pd_loan['Application_Status'].replace(['N', 'Y'], ['Rejected', 'Approved'])\n",
    "pd_loan.head()"
   ]
  },
  {
   "cell_type": "code",
   "execution_count": null,
   "id": "091e61fa",
   "metadata": {},
   "outputs": [],
   "source": [
    "application_self_employed_approval = pd_loan.groupby(['Application_Status'])['Self_Employed'].count()\n",
    "application_self_employed_approval"
   ]
  },
  {
   "cell_type": "code",
   "execution_count": null,
   "id": "74e8d39b",
   "metadata": {
    "scrolled": true
   },
   "outputs": [],
   "source": [
    "application_self_employed_approval1 = pd_loan.groupby(['Self_Employed'])['Application_Status'].count()\n",
    "application_self_employed_approval1"
   ]
  },
  {
   "cell_type": "code",
   "execution_count": null,
   "id": "00d5780e",
   "metadata": {},
   "outputs": [],
   "source": [
    "fig_checking = pd_loan.groupby(['Application_Status', 'Self_Employed'])['Application_Status'].count()\n",
    "fig_checking"
   ]
  },
  {
   "cell_type": "code",
   "execution_count": null,
   "id": "132dbd2e",
   "metadata": {},
   "outputs": [],
   "source": [
    "pd_self_employed = pd_loan.loc[(pd_loan.Self_Employed == 'Yes')]\n",
    "emp_yes = pd_self_employed.groupby(['Application_Status'])['Application_Status'].count()\n",
    "emp_yes"
   ]
  },
  {
   "cell_type": "code",
   "execution_count": null,
   "id": "f496553d",
   "metadata": {},
   "outputs": [],
   "source": [
    "pd_self_employed2 = pd_loan.loc[(pd_loan.Application_Status == 'Approved')]\n",
    "emp_yes2 = pd_self_employed2.groupby(['Self_Employed'])['Self_Employed'].count()\n",
    "emp_yes2"
   ]
  },
  {
   "cell_type": "code",
   "execution_count": null,
   "id": "228eb43c",
   "metadata": {},
   "outputs": [],
   "source": [
    "app_response = pd_self_employed.Application_Status.value_counts()\n",
    "self_emp = app_response.reset_index()\n",
    "self_emp.columns = ['Status', 'count']"
   ]
  },
  {
   "cell_type": "code",
   "execution_count": null,
   "id": "e18588d7",
   "metadata": {},
   "outputs": [],
   "source": [
    "app_response2 = pd_self_employed2.Self_Employed.value_counts()\n",
    "self_emp2 = app_response2.reset_index()\n",
    "self_emp2.columns = ['employed_type', 'count']\n",
    "self_emp2['employed_type'] = self_emp2['employed_type'].replace(['No', 'Yes'], ['Employed_by_others', 'Self_employed'])"
   ]
  },
  {
   "cell_type": "code",
   "execution_count": null,
   "id": "63870b61",
   "metadata": {},
   "outputs": [],
   "source": [
    "self_emp"
   ]
  },
  {
   "cell_type": "code",
   "execution_count": null,
   "id": "c14ab0c3",
   "metadata": {},
   "outputs": [],
   "source": [
    "self_emp2"
   ]
  },
  {
   "cell_type": "code",
   "execution_count": null,
   "id": "2d9adb77",
   "metadata": {},
   "outputs": [],
   "source": [
    "\n",
    "plt.pie(self_emp['count'], labels=self_emp['Status'], autopct='%1.1f%%')\n",
    "plt.title('Of all the self-employed, percentage approval')\n",
    "plt.axis('equal')\n",
    "plt.show();"
   ]
  },
  {
   "cell_type": "code",
   "execution_count": null,
   "id": "42b2877a",
   "metadata": {
    "scrolled": true
   },
   "outputs": [],
   "source": [
    "\n",
    "plt.pie(self_emp2['count'], labels=self_emp2['employed_type'], autopct='%1.1f%%')\n",
    "plt.title('Of all applications approved, percentage self-employed')\n",
    "plt.axis('equal')\n",
    "plt.show();\n",
    "\n"
   ]
  },
  {
   "cell_type": "code",
   "execution_count": null,
   "id": "a9fe1f5a",
   "metadata": {},
   "outputs": [],
   "source": [
    "fig, ax = plt.subplots(figsize=(10, 15))\n",
    "ax = sns.barplot(x='Status', y='count', data=self_emp, color='purple')\n",
    "plt.title('Application Status by Self-Employed')\n",
    "plt.xlabel('Application Status')\n",
    "plt.ylabel('Number of Applications')\n",
    "ax.bar_label(ax.containers[0]);"
   ]
  },
  {
   "cell_type": "code",
   "execution_count": null,
   "id": "d195de4f",
   "metadata": {},
   "outputs": [],
   "source": [
    "fig, ax = plt.subplots(figsize=(10, 15))\n",
    "ax = sns.barplot(x='employed_type', y='count', data=self_emp2, color='purple')\n",
    "plt.title('Application Status by Self-Employed')\n",
    "plt.xlabel('Self Employed Status')\n",
    "plt.ylabel('Number of Applications')\n",
    "ax.bar_label(ax.containers[0]);"
   ]
  },
  {
   "cell_type": "code",
   "execution_count": null,
   "id": "cdd71637",
   "metadata": {},
   "outputs": [],
   "source": []
  },
  {
   "cell_type": "code",
   "execution_count": null,
   "id": "c73b9e59",
   "metadata": {},
   "outputs": [],
   "source": []
  },
  {
   "cell_type": "code",
   "execution_count": null,
   "id": "7b89ebaf",
   "metadata": {},
   "outputs": [],
   "source": [
    "fig_checking2 = pd_loan.groupby(['Gender', 'Married', 'Application_Status'])['Application_Status'].count()\n",
    "fig_checking2"
   ]
  },
  {
   "cell_type": "code",
   "execution_count": null,
   "id": "b7eb25c1",
   "metadata": {},
   "outputs": [],
   "source": [
    "pd_married_male = pd_loan.loc[(pd_loan.Gender == 'Male') & (pd_loan.Married == 'Yes')]\n",
    "pd_married_men = pd_married_male.groupby(['Application_Status'])['Application_Status'].count()\n",
    "pd_married_men\n"
   ]
  },
  {
   "cell_type": "code",
   "execution_count": null,
   "id": "5644beea",
   "metadata": {},
   "outputs": [],
   "source": [
    "app_status_married_men = pd_married_male.Application_Status.value_counts()\n",
    "married_men = app_status_married_men.reset_index()\n",
    "married_men.columns = ['Status', 'count']"
   ]
  },
  {
   "cell_type": "code",
   "execution_count": null,
   "id": "78e17f90",
   "metadata": {},
   "outputs": [],
   "source": [
    "plt.pie(married_men['count'], labels=married_men['Status'], autopct='%1.1f%%')\n",
    "plt.title('Married Men Application Approval')\n",
    "plt.axis('equal')\n",
    "plt.show();"
   ]
  },
  {
   "cell_type": "code",
   "execution_count": null,
   "id": "183169e5",
   "metadata": {},
   "outputs": [],
   "source": [
    "pd_credit.columns"
   ]
  },
  {
   "cell_type": "code",
   "execution_count": null,
   "id": "27c5808c",
   "metadata": {},
   "outputs": [],
   "source": [
    "print(pd_credit.sort_values(by=['TIMEID'], ascending=False).head(2))\n",
    "print(pd_credit.sort_values(by=['TIMEID'], ascending=True).head(2))"
   ]
  },
  {
   "cell_type": "code",
   "execution_count": null,
   "id": "30472b5e",
   "metadata": {},
   "outputs": [],
   "source": [
    "monthly_transactions = pd_credit.groupby(['MONTH'])['TRANSACTION_VALUE'].sum()\n",
    "monthly_transactions"
   ]
  },
  {
   "cell_type": "code",
   "execution_count": null,
   "id": "683dc2b0",
   "metadata": {},
   "outputs": [],
   "source": [
    "month_count = monthly_transactions.reset_index()\n",
    "month_count.columns = ['month', 'total_transactions']\n",
    "month_count"
   ]
  },
  {
   "cell_type": "code",
   "execution_count": null,
   "id": "a02b99d8",
   "metadata": {},
   "outputs": [],
   "source": [
    "month_count.dtypes"
   ]
  },
  {
   "cell_type": "code",
   "execution_count": null,
   "id": "2ccabaac",
   "metadata": {},
   "outputs": [],
   "source": [
    "month_count['month'] = month_count['month'].apply(str)\n",
    "month_count['month'] = month_count['month'].replace(['1','2','3','4','5','6','7','8','9','10','11','12'], \n",
    "                          ['Jan','Feb','Mar','Apr','May','Jun','Jul','Aug','Sept','Oct','Nov','Dec'])\n",
    "#month_count.loc[:,'total_transactions'] ='$'+ month_count['total_transactions'].map('{:,.0f}'.format)\n",
    "month_count"
   ]
  },
  {
   "cell_type": "code",
   "execution_count": null,
   "id": "e4629520",
   "metadata": {},
   "outputs": [],
   "source": [
    "top_3_months = month_count.sort_values(by=['total_transactions'], ascending=False).head(3)\n",
    "top_3_months"
   ]
  },
  {
   "cell_type": "code",
   "execution_count": null,
   "id": "0d8c2b7e",
   "metadata": {},
   "outputs": [],
   "source": [
    "fig, ax = plt.subplots(figsize=(15, 10))\n",
    "ax = sns.barplot(x='month', y='total_transactions', data=top_3_months, color='green')\n",
    "plt.title('Top 3 Months with the Highest Total Transactions')\n",
    "plt.xlabel('Months')\n",
    "plt.ylabel('transaction amount')\n",
    "plt.ylim(201000, 203000)\n",
    "ax.bar_label(ax.containers[0]);"
   ]
  },
  {
   "cell_type": "markdown",
   "id": "ed897d57",
   "metadata": {},
   "source": [
    "Find and plot which branch processed the highest total dollar value of healthcare transactions."
   ]
  },
  {
   "cell_type": "code",
   "execution_count": null,
   "id": "07367379",
   "metadata": {},
   "outputs": [],
   "source": [
    "pd_credit.head(5)"
   ]
  },
  {
   "cell_type": "code",
   "execution_count": null,
   "id": "d1d2bfcc",
   "metadata": {},
   "outputs": [],
   "source": [
    "pd_credit.info()"
   ]
  },
  {
   "cell_type": "code",
   "execution_count": null,
   "id": "23704523",
   "metadata": {},
   "outputs": [],
   "source": [
    "pd_branch = df_branch.toPandas()\n",
    "pd_branch.head()"
   ]
  },
  {
   "cell_type": "code",
   "execution_count": null,
   "id": "812e438a",
   "metadata": {},
   "outputs": [],
   "source": [
    "healthcare_trans_pd = pd_credit.loc[(pd_credit.TRANSACTION_TYPE == 'Healthcare')]\n",
    "healthcare_by_branch = healthcare_trans_pd.groupby(['BRANCH_CODE'])['TRANSACTION_VALUE'].sum()\n",
    "healthcare_by_branch"
   ]
  },
  {
   "cell_type": "code",
   "execution_count": null,
   "id": "12805ab0",
   "metadata": {},
   "outputs": [],
   "source": [
    "healthcare_total_df = healthcare_by_branch.reset_index()\n",
    "healthcare_total_df"
   ]
  },
  {
   "cell_type": "code",
   "execution_count": null,
   "id": "1abf1734",
   "metadata": {},
   "outputs": [],
   "source": [
    "healthcare_tran_allcolumns_df = pd.merge(healthcare_total_df, pd_branch, on ='BRANCH_CODE')\n",
    "healthcare_tran_allcolumns_df.head(5)"
   ]
  },
  {
   "cell_type": "code",
   "execution_count": null,
   "id": "252ea85d",
   "metadata": {},
   "outputs": [],
   "source": [
    "healthcare_tran_df = healthcare_tran_allcolumns_df[['BRANCH_CODE', 'TRANSACTION_VALUE', 'BRANCH_NAME']].copy()\n",
    "healthcare_tran_df"
   ]
  },
  {
   "cell_type": "code",
   "execution_count": null,
   "id": "92981280",
   "metadata": {},
   "outputs": [],
   "source": [
    "pd_branch['BRANCH_NAME'].value_counts()"
   ]
  },
  {
   "cell_type": "code",
   "execution_count": null,
   "id": "bfbf9c13",
   "metadata": {},
   "outputs": [],
   "source": [
    "top_branch_for_healthcare_trans = healthcare_total_df.sort_values(by=['TRANSACTION_VALUE'], ascending=False).head(1)\n",
    "top_branch_for_healthcare_trans"
   ]
  },
  {
   "cell_type": "code",
   "execution_count": null,
   "id": "384ddb49",
   "metadata": {},
   "outputs": [],
   "source": [
    "fig, ax = plt.subplots(figsize=(10, 5))\n",
    "ax = sns.barplot(x='BRANCH_CODE', y='TRANSACTION_VALUE', data=top_branch_for_healthcare_trans, color='purple')\n",
    "plt.title('Top Branch for Healthcare transactions')\n",
    "plt.xlabel('Branch')\n",
    "plt.ylabel('Amount')\n",
    "plt.ylim(4300, 4400)\n",
    "ax.bar_label(ax.containers[0]);"
   ]
  },
  {
   "cell_type": "code",
   "execution_count": null,
   "id": "ae2a251c",
   "metadata": {},
   "outputs": [],
   "source": []
  },
  {
   "cell_type": "code",
   "execution_count": null,
   "id": "6684d029",
   "metadata": {},
   "outputs": [],
   "source": []
  },
  {
   "cell_type": "code",
   "execution_count": null,
   "id": "c7f26d90",
   "metadata": {},
   "outputs": [],
   "source": []
  },
  {
   "cell_type": "code",
   "execution_count": null,
   "id": "5bfec4ff",
   "metadata": {},
   "outputs": [],
   "source": []
  },
  {
   "cell_type": "code",
   "execution_count": null,
   "id": "4404b57d",
   "metadata": {},
   "outputs": [],
   "source": []
  },
  {
   "cell_type": "code",
   "execution_count": null,
   "id": "efc23658",
   "metadata": {},
   "outputs": [],
   "source": [
    "spark.stop()"
   ]
  },
  {
   "cell_type": "code",
   "execution_count": null,
   "id": "907de0f3",
   "metadata": {},
   "outputs": [],
   "source": []
  },
  {
   "cell_type": "markdown",
   "id": "4db43daa",
   "metadata": {},
   "source": [
    "Find and plot the percentage of applications approved for self-employed applicants.\n",
    "Note: Take a screenshot of the graph. \n",
    "Find the percentage of rejection for married male applicants.\n",
    "Note: Take a screenshot of the graph.\n",
    "Find and plot the top three months with the largest transaction data.\n",
    "Note: Take a screenshot of the graph. \n",
    "Find and plot which branch processed the highest total dollar value of healthcare transactions.\n",
    "Note: Take a screenshot of the graph. \n",
    "\n"
   ]
  }
 ],
 "metadata": {
  "kernelspec": {
   "display_name": "ps_capstone4",
   "language": "python",
   "name": "ps_capstone4"
  },
  "language_info": {
   "codemirror_mode": {
    "name": "ipython",
    "version": 3
   },
   "file_extension": ".py",
   "mimetype": "text/x-python",
   "name": "python",
   "nbconvert_exporter": "python",
   "pygments_lexer": "ipython3",
   "version": "3.8.5"
  }
 },
 "nbformat": 4,
 "nbformat_minor": 5
}
