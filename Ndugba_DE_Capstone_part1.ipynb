{
 "cells": [
  {
   "cell_type": "code",
   "execution_count": 1,
   "id": "3d94c91d",
   "metadata": {},
   "outputs": [],
   "source": [
    "# Imports \n",
    "import findspark\n",
    "findspark.add_packages('mysql:mysql-connector-java:8.0.11')\n",
    "from pyspark.sql import SparkSession\n",
    "from pyspark.sql.functions import*\n",
    "from pyspark.sql.types import*\n",
    "\n",
    "import ipywidgets as widgets\n",
    "import matplotlib.pyplot as plt\n",
    "import numpy as np\n",
    "import pandas as pd\n",
    "\n",
    "import requests\n",
    "import seaborn as sns\n",
    "import warnings\n",
    "warnings.filterwarnings(\"ignore\") \n"
   ]
  },
  {
   "cell_type": "markdown",
   "id": "c388b414",
   "metadata": {},
   "source": [
    "## Loading Data and creating Spark DataFrames"
   ]
  },
  {
   "cell_type": "code",
   "execution_count": 2,
   "id": "f5a99316",
   "metadata": {},
   "outputs": [
    {
     "name": "stdout",
     "output_type": "stream",
     "text": [
      ":: loading settings :: url = jar:file:/Users/purple/opt/anaconda3/envs/ps_capstone/lib/python3.10/site-packages/pyspark/jars/ivy-2.5.0.jar!/org/apache/ivy/core/settings/ivysettings.xml\n"
     ]
    },
    {
     "name": "stderr",
     "output_type": "stream",
     "text": [
      "Ivy Default Cache set to: /Users/purple/.ivy2/cache\n",
      "The jars for the packages stored in: /Users/purple/.ivy2/jars\n",
      "mysql#mysql-connector-java added as a dependency\n",
      ":: resolving dependencies :: org.apache.spark#spark-submit-parent-5a6555fc-da5e-465d-87d2-3dda52601ec6;1.0\n",
      "\tconfs: [default]\n",
      "\tfound mysql#mysql-connector-java;8.0.11 in central\n",
      "\tfound com.google.protobuf#protobuf-java;2.6.0 in central\n",
      ":: resolution report :: resolve 167ms :: artifacts dl 7ms\n",
      "\t:: modules in use:\n",
      "\tcom.google.protobuf#protobuf-java;2.6.0 from central in [default]\n",
      "\tmysql#mysql-connector-java;8.0.11 from central in [default]\n",
      "\t---------------------------------------------------------------------\n",
      "\t|                  |            modules            ||   artifacts   |\n",
      "\t|       conf       | number| search|dwnlded|evicted|| number|dwnlded|\n",
      "\t---------------------------------------------------------------------\n",
      "\t|      default     |   2   |   0   |   0   |   0   ||   2   |   0   |\n",
      "\t---------------------------------------------------------------------\n",
      ":: retrieving :: org.apache.spark#spark-submit-parent-5a6555fc-da5e-465d-87d2-3dda52601ec6\n",
      "\tconfs: [default]\n",
      "\t0 artifacts copied, 2 already retrieved (0kB/5ms)\n",
      "23/03/01 23:03:35 WARN NativeCodeLoader: Unable to load native-hadoop library for your platform... using builtin-java classes where applicable\n",
      "Using Spark's default log4j profile: org/apache/spark/log4j-defaults.properties\n",
      "Setting default log level to \"WARN\".\n",
      "To adjust logging level use sc.setLogLevel(newLevel). For SparkR, use setLogLevel(newLevel).\n"
     ]
    }
   ],
   "source": [
    "spark = SparkSession.builder.master(\"local[*]\").appName(\"Credit_Cards\").getOrCreate()"
   ]
  },
  {
   "cell_type": "code",
   "execution_count": 3,
   "id": "21095632",
   "metadata": {},
   "outputs": [
    {
     "name": "stderr",
     "output_type": "stream",
     "text": [
      "                                                                                \r"
     ]
    }
   ],
   "source": [
    "df_branch = spark.read.json('data/cdw_sapp_branch.json')  \n",
    "df_credit = spark.read.json('data/cdw_sapp_credit.json') \n",
    "df_customers = spark.read.json('data/cdw_sapp_custmer.json')"
   ]
  },
  {
   "cell_type": "code",
   "execution_count": 4,
   "id": "c4346005",
   "metadata": {},
   "outputs": [
    {
     "data": {
      "text/plain": [
       "pyspark.sql.dataframe.DataFrame"
      ]
     },
     "execution_count": 4,
     "metadata": {},
     "output_type": "execute_result"
    }
   ],
   "source": [
    "type(df_branch)"
   ]
  },
  {
   "cell_type": "markdown",
   "id": "5738c810",
   "metadata": {},
   "source": [
    "# Cleaning DataFrames\n"
   ]
  },
  {
   "cell_type": "markdown",
   "id": "6ff156fc",
   "metadata": {},
   "source": [
    "### Cleaning the branch df"
   ]
  },
  {
   "cell_type": "code",
   "execution_count": 5,
   "id": "6f2ec16d",
   "metadata": {},
   "outputs": [
    {
     "name": "stdout",
     "output_type": "stream",
     "text": [
      "+-----------------+-----------+------------+------------+------------+-----------------+----------+--------------------+\n",
      "|      BRANCH_CITY|BRANCH_CODE| BRANCH_NAME|BRANCH_PHONE|BRANCH_STATE|    BRANCH_STREET|BRANCH_ZIP|        LAST_UPDATED|\n",
      "+-----------------+-----------+------------+------------+------------+-----------------+----------+--------------------+\n",
      "|        Lakeville|          1|Example Bank|  1234565276|          MN|     Bridle Court|     55044|2018-04-18T16:51:...|\n",
      "|          Huntley|          2|Example Bank|  1234618993|          IL|Washington Street|     60142|2018-04-18T16:51:...|\n",
      "|SouthRichmondHill|          3|Example Bank|  1234985926|          NY|    Warren Street|     11419|2018-04-18T16:51:...|\n",
      "|       Middleburg|          4|Example Bank|  1234663064|          FL| Cleveland Street|     32068|2018-04-18T16:51:...|\n",
      "|    KingOfPrussia|          5|Example Bank|  1234849701|          PA|      14th Street|     19406|2018-04-18T16:51:...|\n",
      "+-----------------+-----------+------------+------------+------------+-----------------+----------+--------------------+\n",
      "only showing top 5 rows\n",
      "\n"
     ]
    }
   ],
   "source": [
    "df_branch.show(5)"
   ]
  },
  {
   "cell_type": "code",
   "execution_count": 6,
   "id": "715e0686",
   "metadata": {},
   "outputs": [
    {
     "data": {
      "text/plain": [
       "['BRANCH_CITY',\n",
       " 'BRANCH_CODE',\n",
       " 'BRANCH_NAME',\n",
       " 'BRANCH_PHONE',\n",
       " 'BRANCH_STATE',\n",
       " 'BRANCH_STREET',\n",
       " 'BRANCH_ZIP',\n",
       " 'LAST_UPDATED']"
      ]
     },
     "execution_count": 6,
     "metadata": {},
     "output_type": "execute_result"
    }
   ],
   "source": [
    "df_branch.columns"
   ]
  },
  {
   "cell_type": "code",
   "execution_count": 7,
   "id": "271acbad",
   "metadata": {},
   "outputs": [
    {
     "name": "stdout",
     "output_type": "stream",
     "text": [
      "+------------+\n",
      "|BRANCH_PHONE|\n",
      "+------------+\n",
      "|  1234565276|\n",
      "|  1234618993|\n",
      "|  1234985926|\n",
      "|  1234663064|\n",
      "|  1234849701|\n",
      "+------------+\n",
      "only showing top 5 rows\n",
      "\n"
     ]
    }
   ],
   "source": [
    "df_branch.select('BRANCH_PHONE').show(5)"
   ]
  },
  {
   "cell_type": "code",
   "execution_count": 8,
   "id": "b137eb43",
   "metadata": {},
   "outputs": [
    {
     "name": "stdout",
     "output_type": "stream",
     "text": [
      "+-------------+\n",
      "| BRANCH_PHONE|\n",
      "+-------------+\n",
      "|(123)456-5276|\n",
      "|(123)461-8993|\n",
      "|(123)498-5926|\n",
      "|(123)466-3064|\n",
      "|(123)484-9701|\n",
      "+-------------+\n",
      "only showing top 5 rows\n",
      "\n"
     ]
    }
   ],
   "source": [
    "#transforming the branch df\n",
    "df_branch = df_branch.withColumn('BRANCH_PHONE', concat(lit('('), col('BRANCH_PHONE')[0:3], lit(')'), \n",
    "                                col('BRANCH_PHONE')[4:3], lit('-'), col('BRANCH_PHONE')[7:9]))\n",
    "\n",
    "df_branch.select('BRANCH_PHONE').show(5)"
   ]
  },
  {
   "cell_type": "code",
   "execution_count": 9,
   "id": "1e773b16",
   "metadata": {},
   "outputs": [
    {
     "name": "stdout",
     "output_type": "stream",
     "text": [
      "+-----------+-----------+-----------+------------+------------+-------------+----------+------------+\n",
      "|BRANCH_CITY|BRANCH_CODE|BRANCH_NAME|BRANCH_PHONE|BRANCH_STATE|BRANCH_STREET|BRANCH_ZIP|LAST_UPDATED|\n",
      "+-----------+-----------+-----------+------------+------------+-------------+----------+------------+\n",
      "+-----------+-----------+-----------+------------+------------+-------------+----------+------------+\n",
      "\n"
     ]
    }
   ],
   "source": [
    "#checking for nulls in zip code\n",
    "df_branch.filter(df_branch.BRANCH_ZIP.isNull()).show()"
   ]
  },
  {
   "cell_type": "code",
   "execution_count": 10,
   "id": "53df8674",
   "metadata": {},
   "outputs": [
    {
     "name": "stdout",
     "output_type": "stream",
     "text": [
      "115\n",
      "0\n",
      "115\n"
     ]
    }
   ],
   "source": [
    "#there are no nulls in branch zip\n",
    "print(df_branch.count())\n",
    "print(df_branch.filter(col('BRANCH_ZIP').isNull()).count())\n",
    "print(df_branch.filter(col('BRANCH_ZIP').isNotNull()).count())"
   ]
  },
  {
   "cell_type": "code",
   "execution_count": 11,
   "id": "001cf129",
   "metadata": {},
   "outputs": [
    {
     "data": {
      "text/plain": [
       "DataFrame[BRANCH_CITY: string, BRANCH_CODE: bigint, BRANCH_NAME: string, BRANCH_PHONE: string, BRANCH_STATE: string, BRANCH_STREET: string, BRANCH_ZIP: bigint, LAST_UPDATED: string]"
      ]
     },
     "execution_count": 11,
     "metadata": {},
     "output_type": "execute_result"
    }
   ],
   "source": [
    "df_branch.na.fill(value=99999,subset=['BRANCH_ZIP'])\n"
   ]
  },
  {
   "cell_type": "markdown",
   "id": "155edf12",
   "metadata": {},
   "source": [
    "### Cleaning the credit df"
   ]
  },
  {
   "cell_type": "code",
   "execution_count": 12,
   "id": "d20389c4",
   "metadata": {},
   "outputs": [
    {
     "name": "stdout",
     "output_type": "stream",
     "text": [
      "+-----------+----------------+---------+---+-----+--------------+----------------+-----------------+----+\n",
      "|BRANCH_CODE|  CREDIT_CARD_NO| CUST_SSN|DAY|MONTH|TRANSACTION_ID|TRANSACTION_TYPE|TRANSACTION_VALUE|YEAR|\n",
      "+-----------+----------------+---------+---+-----+--------------+----------------+-----------------+----+\n",
      "|        114|4210653349028689|123459988| 14|    2|             1|       Education|             78.9|2018|\n",
      "|         35|4210653349028689|123459988| 20|    3|             2|   Entertainment|            14.24|2018|\n",
      "|        160|4210653349028689|123459988|  8|    7|             3|         Grocery|             56.7|2018|\n",
      "|        114|4210653349028689|123459988| 19|    4|             4|   Entertainment|            59.73|2018|\n",
      "|         93|4210653349028689|123459988| 10|   10|             5|             Gas|             3.59|2018|\n",
      "+-----------+----------------+---------+---+-----+--------------+----------------+-----------------+----+\n",
      "only showing top 5 rows\n",
      "\n"
     ]
    }
   ],
   "source": [
    "df_credit.show(5)"
   ]
  },
  {
   "cell_type": "code",
   "execution_count": 13,
   "id": "895ad6af",
   "metadata": {},
   "outputs": [
    {
     "data": {
      "text/plain": [
       "['BRANCH_CODE',\n",
       " 'CREDIT_CARD_NO',\n",
       " 'CUST_SSN',\n",
       " 'DAY',\n",
       " 'MONTH',\n",
       " 'TRANSACTION_ID',\n",
       " 'TRANSACTION_TYPE',\n",
       " 'TRANSACTION_VALUE',\n",
       " 'YEAR']"
      ]
     },
     "execution_count": 13,
     "metadata": {},
     "output_type": "execute_result"
    }
   ],
   "source": [
    "df_credit.columns"
   ]
  },
  {
   "cell_type": "code",
   "execution_count": 14,
   "id": "a9bbae08",
   "metadata": {},
   "outputs": [
    {
     "name": "stdout",
     "output_type": "stream",
     "text": [
      "+-----------+----------------+---------+---+-----+--------------+----------------+-----------------+----+----------+\n",
      "|BRANCH_CODE|      CUST_CC_NO| CUST_SSN|DAY|MONTH|TRANSACTION_ID|TRANSACTION_TYPE|TRANSACTION_VALUE|YEAR|    TIMEID|\n",
      "+-----------+----------------+---------+---+-----+--------------+----------------+-----------------+----+----------+\n",
      "|        114|4210653349028689|123459988| 14|    2|             1|       Education|             78.9|2018|2018-02-14|\n",
      "|         35|4210653349028689|123459988| 20|    3|             2|   Entertainment|            14.24|2018|2018-03-20|\n",
      "|        160|4210653349028689|123459988|  8|    7|             3|         Grocery|             56.7|2018|2018-07-08|\n",
      "|        114|4210653349028689|123459988| 19|    4|             4|   Entertainment|            59.73|2018|2018-04-19|\n",
      "|         93|4210653349028689|123459988| 10|   10|             5|             Gas|             3.59|2018|2018-10-10|\n",
      "+-----------+----------------+---------+---+-----+--------------+----------------+-----------------+----+----------+\n",
      "only showing top 5 rows\n",
      "\n"
     ]
    }
   ],
   "source": [
    "df_credit = df_credit.withColumnRenamed('CREDIT_CARD_NO', 'CUST_CC_NO')\n",
    "df_credit = df_credit.withColumn('TIMEID', expr('make_date(YEAR, MONTH, DAY)'))\n",
    "df_credit.show(5)"
   ]
  },
  {
   "cell_type": "markdown",
   "id": "b5a14c18",
   "metadata": {},
   "source": [
    "### Cleaning the customers df"
   ]
  },
  {
   "cell_type": "code",
   "execution_count": 15,
   "id": "f75537e0",
   "metadata": {},
   "outputs": [
    {
     "name": "stdout",
     "output_type": "stream",
     "text": [
      "+----------+\n",
      "|CUST_PHONE|\n",
      "+----------+\n",
      "|   1237818|\n",
      "|   1238933|\n",
      "|   1243018|\n",
      "|   1243215|\n",
      "|   1242074|\n",
      "+----------+\n",
      "only showing top 5 rows\n",
      "\n"
     ]
    }
   ],
   "source": [
    "df_customers.select('CUST_PHONE').show(5)"
   ]
  },
  {
   "cell_type": "code",
   "execution_count": 16,
   "id": "a00d89b0",
   "metadata": {},
   "outputs": [
    {
     "name": "stdout",
     "output_type": "stream",
     "text": [
      "+-------------+\n",
      "|   CUST_PHONE|\n",
      "+-------------+\n",
      "|(617)123-7818|\n",
      "|(617)123-8933|\n",
      "|(617)124-3018|\n",
      "|(617)124-3215|\n",
      "|(617)124-2074|\n",
      "+-------------+\n",
      "only showing top 5 rows\n",
      "\n"
     ]
    }
   ],
   "source": [
    "df_customers = df_customers.withColumn('CUST_PHONE', concat(lit('(617)'), col('CUST_PHONE')[1:3], \n",
    "                                        lit('-'), col('CUST_PHONE')[4:8] ))\n",
    "df_customers.select('CUST_PHONE').show(5)"
   ]
  },
  {
   "cell_type": "code",
   "execution_count": 17,
   "id": "f9ce3498",
   "metadata": {
    "scrolled": true
   },
   "outputs": [
    {
     "data": {
      "text/plain": [
       "['APT_NO',\n",
       " 'CREDIT_CARD_NO',\n",
       " 'CUST_CITY',\n",
       " 'CUST_COUNTRY',\n",
       " 'CUST_EMAIL',\n",
       " 'CUST_PHONE',\n",
       " 'CUST_STATE',\n",
       " 'CUST_ZIP',\n",
       " 'FIRST_NAME',\n",
       " 'LAST_NAME',\n",
       " 'LAST_UPDATED',\n",
       " 'MIDDLE_NAME',\n",
       " 'SSN',\n",
       " 'STREET_NAME']"
      ]
     },
     "execution_count": 17,
     "metadata": {},
     "output_type": "execute_result"
    }
   ],
   "source": [
    "df_customers.columns"
   ]
  },
  {
   "cell_type": "code",
   "execution_count": 18,
   "id": "483cecac",
   "metadata": {},
   "outputs": [
    {
     "name": "stdout",
     "output_type": "stream",
     "text": [
      "+------+----------------+------------+-------------+-------------------+-------------+----------+--------+----------+---------+--------------------+-----------+---------+-----------------+--------------------+\n",
      "|APT_NO|  Credit_card_no|   CUST_CITY| CUST_COUNTRY|         CUST_EMAIL|   CUST_PHONE|CUST_STATE|CUST_ZIP|FIRST_NAME|LAST_NAME|        LAST_UPDATED|MIDDLE_NAME|      SSN|      STREET_NAME| FULL_STREET_ADDRESS|\n",
      "+------+----------------+------------+-------------+-------------------+-------------+----------+--------+----------+---------+--------------------+-----------+---------+-----------------+--------------------+\n",
      "|   656|4210653310061055|     Natchez|United States|AHooper@example.com|(617)123-7818|        MS|   39120|      Alec|   Hooper|2018-04-21T12:49:...|         wm|123456100|Main Street North|656,Main Street N...|\n",
      "|   829|4210653310102868|Wethersfield|United States|EHolman@example.com|(617)123-8933|        CT|   06109|      Etta|   Holman|2018-04-21T12:49:...|    brendan|123453023|    Redwood Drive|   829,Redwood Drive|\n",
      "|   683|4210653310116272|     Huntley|United States|WDunham@example.com|(617)124-3018|        IL|   60142|    Wilber|   Dunham|2018-04-21T12:49:...|   ezequiel|123454487| 12th Street East|683,12th Street East|\n",
      "|   253|4210653310195948|   NewBerlin|United States| EHardy@example.com|(617)124-3215|        WI|   53151|   Eugenio|    Hardy|2018-04-21T12:49:...|      trina|123459758|Country Club Road|253,Country Club ...|\n",
      "|   301|4210653310356919|      ElPaso|United States| WAyers@example.com|(617)124-2074|        TX|   79930|   Wilfred|    Ayers|2018-04-21T12:49:...|        may|123454431|   Madison Street|  301,Madison Street|\n",
      "+------+----------------+------------+-------------+-------------------+-------------+----------+--------+----------+---------+--------------------+-----------+---------+-----------------+--------------------+\n",
      "only showing top 5 rows\n",
      "\n"
     ]
    }
   ],
   "source": [
    "#transforming the customer df\n",
    "df_customers = df_customers.withColumn('FIRST_NAME', initcap(df_customers['FIRST_NAME']))\n",
    "df_customers = df_customers.withColumn('MIDDLE_NAME', lower(df_customers['MIDDLE_NAME']))\n",
    "df_customers = df_customers.withColumn('LAST_NAME', initcap(df_customers['LAST_NAME']))\n",
    "df_customers = df_customers.withColumnRenamed('CREDIT_CARD_NO', 'Credit_card_no')\n",
    "df_customers = df_customers.withColumn('FULL_STREET_ADDRESS', concat(col('APT_NO'),lit(','),col('STREET_NAME')))\n",
    "df_customers.show(5)\n"
   ]
  },
  {
   "cell_type": "code",
   "execution_count": 19,
   "id": "17727568",
   "metadata": {},
   "outputs": [
    {
     "data": {
      "text/plain": [
       "['Credit_card_no',\n",
       " 'CUST_CITY',\n",
       " 'CUST_COUNTRY',\n",
       " 'CUST_EMAIL',\n",
       " 'CUST_PHONE',\n",
       " 'CUST_STATE',\n",
       " 'CUST_ZIP',\n",
       " 'FIRST_NAME',\n",
       " 'LAST_NAME',\n",
       " 'LAST_UPDATED',\n",
       " 'MIDDLE_NAME',\n",
       " 'SSN',\n",
       " 'FULL_STREET_ADDRESS']"
      ]
     },
     "execution_count": 19,
     "metadata": {},
     "output_type": "execute_result"
    }
   ],
   "source": [
    "#dropping address and apt cols\n",
    "df_customers = df_customers.drop('APT_NO', 'STREET_NAME')\n",
    "df_customers.columns"
   ]
  },
  {
   "cell_type": "code",
   "execution_count": 20,
   "id": "e86ade7e",
   "metadata": {},
   "outputs": [
    {
     "name": "stdout",
     "output_type": "stream",
     "text": [
      "+-----------------+-----------+------------+-------------+------------+-----------------+----------+--------------------+\n",
      "|      BRANCH_CITY|BRANCH_CODE| BRANCH_NAME| BRANCH_PHONE|BRANCH_STATE|    BRANCH_STREET|BRANCH_ZIP|        LAST_UPDATED|\n",
      "+-----------------+-----------+------------+-------------+------------+-----------------+----------+--------------------+\n",
      "|        Lakeville|          1|Example Bank|(123)456-5276|          MN|     Bridle Court|     55044|2018-04-18T16:51:...|\n",
      "|          Huntley|          2|Example Bank|(123)461-8993|          IL|Washington Street|     60142|2018-04-18T16:51:...|\n",
      "|SouthRichmondHill|          3|Example Bank|(123)498-5926|          NY|    Warren Street|     11419|2018-04-18T16:51:...|\n",
      "|       Middleburg|          4|Example Bank|(123)466-3064|          FL| Cleveland Street|     32068|2018-04-18T16:51:...|\n",
      "|    KingOfPrussia|          5|Example Bank|(123)484-9701|          PA|      14th Street|     19406|2018-04-18T16:51:...|\n",
      "+-----------------+-----------+------------+-------------+------------+-----------------+----------+--------------------+\n",
      "only showing top 5 rows\n",
      "\n",
      "None\n",
      "+-----------+----------------+---------+---+-----+--------------+----------------+-----------------+----+----------+\n",
      "|BRANCH_CODE|      CUST_CC_NO| CUST_SSN|DAY|MONTH|TRANSACTION_ID|TRANSACTION_TYPE|TRANSACTION_VALUE|YEAR|    TIMEID|\n",
      "+-----------+----------------+---------+---+-----+--------------+----------------+-----------------+----+----------+\n",
      "|        114|4210653349028689|123459988| 14|    2|             1|       Education|             78.9|2018|2018-02-14|\n",
      "|         35|4210653349028689|123459988| 20|    3|             2|   Entertainment|            14.24|2018|2018-03-20|\n",
      "|        160|4210653349028689|123459988|  8|    7|             3|         Grocery|             56.7|2018|2018-07-08|\n",
      "|        114|4210653349028689|123459988| 19|    4|             4|   Entertainment|            59.73|2018|2018-04-19|\n",
      "|         93|4210653349028689|123459988| 10|   10|             5|             Gas|             3.59|2018|2018-10-10|\n",
      "+-----------+----------------+---------+---+-----+--------------+----------------+-----------------+----+----------+\n",
      "only showing top 5 rows\n",
      "\n",
      "None\n",
      "+----------------+------------+-------------+-------------------+-------------+----------+--------+----------+---------+--------------------+-----------+---------+--------------------+\n",
      "|  Credit_card_no|   CUST_CITY| CUST_COUNTRY|         CUST_EMAIL|   CUST_PHONE|CUST_STATE|CUST_ZIP|FIRST_NAME|LAST_NAME|        LAST_UPDATED|MIDDLE_NAME|      SSN| FULL_STREET_ADDRESS|\n",
      "+----------------+------------+-------------+-------------------+-------------+----------+--------+----------+---------+--------------------+-----------+---------+--------------------+\n",
      "|4210653310061055|     Natchez|United States|AHooper@example.com|(617)123-7818|        MS|   39120|      Alec|   Hooper|2018-04-21T12:49:...|         wm|123456100|656,Main Street N...|\n",
      "|4210653310102868|Wethersfield|United States|EHolman@example.com|(617)123-8933|        CT|   06109|      Etta|   Holman|2018-04-21T12:49:...|    brendan|123453023|   829,Redwood Drive|\n",
      "|4210653310116272|     Huntley|United States|WDunham@example.com|(617)124-3018|        IL|   60142|    Wilber|   Dunham|2018-04-21T12:49:...|   ezequiel|123454487|683,12th Street East|\n",
      "|4210653310195948|   NewBerlin|United States| EHardy@example.com|(617)124-3215|        WI|   53151|   Eugenio|    Hardy|2018-04-21T12:49:...|      trina|123459758|253,Country Club ...|\n",
      "|4210653310356919|      ElPaso|United States| WAyers@example.com|(617)124-2074|        TX|   79930|   Wilfred|    Ayers|2018-04-21T12:49:...|        may|123454431|  301,Madison Street|\n",
      "+----------------+------------+-------------+-------------------+-------------+----------+--------+----------+---------+--------------------+-----------+---------+--------------------+\n",
      "only showing top 5 rows\n",
      "\n",
      "None\n"
     ]
    }
   ],
   "source": [
    "print(df_branch.show(5))\n",
    "print(df_credit.show(5))\n",
    "print(df_customers.show(5))"
   ]
  },
  {
   "cell_type": "code",
   "execution_count": 21,
   "id": "dcc8748c",
   "metadata": {},
   "outputs": [
    {
     "name": "stdout",
     "output_type": "stream",
     "text": [
      "root\n",
      " |-- BRANCH_CITY: string (nullable = true)\n",
      " |-- BRANCH_CODE: long (nullable = true)\n",
      " |-- BRANCH_NAME: string (nullable = true)\n",
      " |-- BRANCH_PHONE: string (nullable = true)\n",
      " |-- BRANCH_STATE: string (nullable = true)\n",
      " |-- BRANCH_STREET: string (nullable = true)\n",
      " |-- BRANCH_ZIP: long (nullable = true)\n",
      " |-- LAST_UPDATED: string (nullable = true)\n",
      "\n"
     ]
    }
   ],
   "source": [
    "df_branch.printSchema()\n"
   ]
  },
  {
   "cell_type": "code",
   "execution_count": 22,
   "id": "b6722b97",
   "metadata": {},
   "outputs": [
    {
     "name": "stdout",
     "output_type": "stream",
     "text": [
      "root\n",
      " |-- BRANCH_CODE: long (nullable = true)\n",
      " |-- CUST_CC_NO: string (nullable = true)\n",
      " |-- CUST_SSN: long (nullable = true)\n",
      " |-- DAY: long (nullable = true)\n",
      " |-- MONTH: long (nullable = true)\n",
      " |-- TRANSACTION_ID: long (nullable = true)\n",
      " |-- TRANSACTION_TYPE: string (nullable = true)\n",
      " |-- TRANSACTION_VALUE: double (nullable = true)\n",
      " |-- YEAR: long (nullable = true)\n",
      " |-- TIMEID: date (nullable = true)\n",
      "\n"
     ]
    }
   ],
   "source": [
    "df_credit.printSchema()\n"
   ]
  },
  {
   "cell_type": "code",
   "execution_count": 23,
   "id": "a2b3ba93",
   "metadata": {
    "scrolled": true
   },
   "outputs": [
    {
     "name": "stdout",
     "output_type": "stream",
     "text": [
      "root\n",
      " |-- Credit_card_no: string (nullable = true)\n",
      " |-- CUST_CITY: string (nullable = true)\n",
      " |-- CUST_COUNTRY: string (nullable = true)\n",
      " |-- CUST_EMAIL: string (nullable = true)\n",
      " |-- CUST_PHONE: string (nullable = true)\n",
      " |-- CUST_STATE: string (nullable = true)\n",
      " |-- CUST_ZIP: string (nullable = true)\n",
      " |-- FIRST_NAME: string (nullable = true)\n",
      " |-- LAST_NAME: string (nullable = true)\n",
      " |-- LAST_UPDATED: string (nullable = true)\n",
      " |-- MIDDLE_NAME: string (nullable = true)\n",
      " |-- SSN: long (nullable = true)\n",
      " |-- FULL_STREET_ADDRESS: string (nullable = true)\n",
      "\n"
     ]
    }
   ],
   "source": [
    "df_customers.printSchema()"
   ]
  },
  {
   "cell_type": "code",
   "execution_count": 24,
   "id": "b3679c52",
   "metadata": {},
   "outputs": [
    {
     "name": "stderr",
     "output_type": "stream",
     "text": [
      "Wed Mar 01 23:03:50 EST 2023 WARN: Establishing SSL connection without server's identity verification is not recommended. According to MySQL 5.5.45+, 5.6.26+ and 5.7.6+ requirements SSL connection must be established by default if explicit option isn't set. For compliance with existing applications not using SSL the verifyServerCertificate property is set to 'false'. You need either to explicitly disable SSL by setting useSSL=false, or set useSSL=true and provide truststore for server certificate verification.\n",
      "Wed Mar 01 23:03:51 EST 2023 WARN: Establishing SSL connection without server's identity verification is not recommended. According to MySQL 5.5.45+, 5.6.26+ and 5.7.6+ requirements SSL connection must be established by default if explicit option isn't set. For compliance with existing applications not using SSL the verifyServerCertificate property is set to 'false'. You need either to explicitly disable SSL by setting useSSL=false, or set useSSL=true and provide truststore for server certificate verification.\n",
      "Wed Mar 01 23:03:51 EST 2023 WARN: Establishing SSL connection without server's identity verification is not recommended. According to MySQL 5.5.45+, 5.6.26+ and 5.7.6+ requirements SSL connection must be established by default if explicit option isn't set. For compliance with existing applications not using SSL the verifyServerCertificate property is set to 'false'. You need either to explicitly disable SSL by setting useSSL=false, or set useSSL=true and provide truststore for server certificate verification.\n"
     ]
    }
   ],
   "source": [
    "df_branch.write.format(\"jdbc\") \\\n",
    "  .mode(\"overwrite\") \\\n",
    "  .option(\"driver\", \"com.mysql.cj.jdbc.Driver\")\\\n",
    "  .option(\"url\", \"jdbc:mysql://localhost:3306/creditcard_capstone\") \\\n",
    "  .option(\"dbtable\", \"creditcard_capstone.CDW_SAPP_BRANCH\") \\\n",
    "  .option(\"user\", \"root\") \\\n",
    "  .option(\"password\", \"pass1234\") \\\n",
    "  .save()"
   ]
  },
  {
   "cell_type": "code",
   "execution_count": 25,
   "id": "61ee4616",
   "metadata": {},
   "outputs": [
    {
     "name": "stderr",
     "output_type": "stream",
     "text": [
      "Wed Mar 01 23:03:51 EST 2023 WARN: Establishing SSL connection without server's identity verification is not recommended. According to MySQL 5.5.45+, 5.6.26+ and 5.7.6+ requirements SSL connection must be established by default if explicit option isn't set. For compliance with existing applications not using SSL the verifyServerCertificate property is set to 'false'. You need either to explicitly disable SSL by setting useSSL=false, or set useSSL=true and provide truststore for server certificate verification.\n",
      "Wed Mar 01 23:03:52 EST 2023 WARN: Establishing SSL connection without server's identity verification is not recommended. According to MySQL 5.5.45+, 5.6.26+ and 5.7.6+ requirements SSL connection must be established by default if explicit option isn't set. For compliance with existing applications not using SSL the verifyServerCertificate property is set to 'false'. You need either to explicitly disable SSL by setting useSSL=false, or set useSSL=true and provide truststore for server certificate verification.\n",
      "Wed Mar 01 23:03:52 EST 2023 WARN: Establishing SSL connection without server's identity verification is not recommended. According to MySQL 5.5.45+, 5.6.26+ and 5.7.6+ requirements SSL connection must be established by default if explicit option isn't set. For compliance with existing applications not using SSL the verifyServerCertificate property is set to 'false'. You need either to explicitly disable SSL by setting useSSL=false, or set useSSL=true and provide truststore for server certificate verification.\n",
      "Wed Mar 01 23:03:52 EST 2023 WARN: Establishing SSL connection without server's identity verification is not recommended. According to MySQL 5.5.45+, 5.6.26+ and 5.7.6+ requirements SSL connection must be established by default if explicit option isn't set. For compliance with existing applications not using SSL the verifyServerCertificate property is set to 'false'. You need either to explicitly disable SSL by setting useSSL=false, or set useSSL=true and provide truststore for server certificate verification.\n",
      "Wed Mar 01 23:03:54 EST 2023 WARN: Establishing SSL connection without server's identity verification is not recommended. According to MySQL 5.5.45+, 5.6.26+ and 5.7.6+ requirements SSL connection must be established by default if explicit option isn't set. For compliance with existing applications not using SSL the verifyServerCertificate property is set to 'false'. You need either to explicitly disable SSL by setting useSSL=false, or set useSSL=true and provide truststore for server certificate verification.\n"
     ]
    }
   ],
   "source": [
    "df_credit.write.format(\"jdbc\") \\\n",
    "  .mode(\"overwrite\") \\\n",
    "  .option(\"driver\", \"com.mysql.cj.jdbc.Driver\")\\\n",
    "  .option(\"url\", \"jdbc:mysql://localhost:3306/creditcard_capstone\") \\\n",
    "  .option(\"dbtable\", \"creditcard_capstone.CDW_SAPP_CREDIT_CARD\") \\\n",
    "  .option(\"user\", \"root\") \\\n",
    "  .option(\"password\", \"pass1234\") \\\n",
    "  .save()"
   ]
  },
  {
   "cell_type": "code",
   "execution_count": 26,
   "id": "237cd7e7",
   "metadata": {},
   "outputs": [
    {
     "name": "stderr",
     "output_type": "stream",
     "text": [
      "Wed Mar 01 23:03:55 EST 2023 WARN: Establishing SSL connection without server's identity verification is not recommended. According to MySQL 5.5.45+, 5.6.26+ and 5.7.6+ requirements SSL connection must be established by default if explicit option isn't set. For compliance with existing applications not using SSL the verifyServerCertificate property is set to 'false'. You need either to explicitly disable SSL by setting useSSL=false, or set useSSL=true and provide truststore for server certificate verification.\n",
      "Wed Mar 01 23:03:55 EST 2023 WARN: Establishing SSL connection without server's identity verification is not recommended. According to MySQL 5.5.45+, 5.6.26+ and 5.7.6+ requirements SSL connection must be established by default if explicit option isn't set. For compliance with existing applications not using SSL the verifyServerCertificate property is set to 'false'. You need either to explicitly disable SSL by setting useSSL=false, or set useSSL=true and provide truststore for server certificate verification.\n",
      "Wed Mar 01 23:03:55 EST 2023 WARN: Establishing SSL connection without server's identity verification is not recommended. According to MySQL 5.5.45+, 5.6.26+ and 5.7.6+ requirements SSL connection must be established by default if explicit option isn't set. For compliance with existing applications not using SSL the verifyServerCertificate property is set to 'false'. You need either to explicitly disable SSL by setting useSSL=false, or set useSSL=true and provide truststore for server certificate verification.\n"
     ]
    }
   ],
   "source": [
    "df_customers.write.format(\"jdbc\") \\\n",
    "  .mode(\"overwrite\") \\\n",
    "  .option(\"driver\", \"com.mysql.cj.jdbc.Driver\")\\\n",
    "  .option(\"url\", \"jdbc:mysql://localhost:3306/creditcard_capstone\") \\\n",
    "  .option(\"dbtable\", \"creditcard_capstone.CDW_SAPP_CUSTOMER\") \\\n",
    "  .option(\"user\", \"root\") \\\n",
    "  .option(\"password\", \"pass1234\") \\\n",
    "  .save()"
   ]
  },
  {
   "cell_type": "code",
   "execution_count": null,
   "id": "e4705553",
   "metadata": {},
   "outputs": [],
   "source": []
  },
  {
   "cell_type": "markdown",
   "id": "59e42ee1",
   "metadata": {},
   "source": [
    "# Data Wrangling"
   ]
  },
  {
   "cell_type": "code",
   "execution_count": 27,
   "id": "4ac290b8",
   "metadata": {
    "scrolled": true
   },
   "outputs": [
    {
     "name": "stdout",
     "output_type": "stream",
     "text": [
      "+-----------------+-----------+------------+-------------+------------+-----------------+----------+--------------------+\n",
      "|      BRANCH_CITY|BRANCH_CODE| BRANCH_NAME| BRANCH_PHONE|BRANCH_STATE|    BRANCH_STREET|BRANCH_ZIP|        LAST_UPDATED|\n",
      "+-----------------+-----------+------------+-------------+------------+-----------------+----------+--------------------+\n",
      "|        Lakeville|          1|Example Bank|(123)456-5276|          MN|     Bridle Court|     55044|2018-04-18T16:51:...|\n",
      "|          Huntley|          2|Example Bank|(123)461-8993|          IL|Washington Street|     60142|2018-04-18T16:51:...|\n",
      "|SouthRichmondHill|          3|Example Bank|(123)498-5926|          NY|    Warren Street|     11419|2018-04-18T16:51:...|\n",
      "|       Middleburg|          4|Example Bank|(123)466-3064|          FL| Cleveland Street|     32068|2018-04-18T16:51:...|\n",
      "|    KingOfPrussia|          5|Example Bank|(123)484-9701|          PA|      14th Street|     19406|2018-04-18T16:51:...|\n",
      "+-----------------+-----------+------------+-------------+------------+-----------------+----------+--------------------+\n",
      "only showing top 5 rows\n",
      "\n",
      "+-----------+----------------+---------+---+-----+--------------+----------------+-----------------+----+----------+\n",
      "|BRANCH_CODE|      CUST_CC_NO| CUST_SSN|DAY|MONTH|TRANSACTION_ID|TRANSACTION_TYPE|TRANSACTION_VALUE|YEAR|    TIMEID|\n",
      "+-----------+----------------+---------+---+-----+--------------+----------------+-----------------+----+----------+\n",
      "|        114|4210653349028689|123459988| 14|    2|             1|       Education|             78.9|2018|2018-02-14|\n",
      "|         35|4210653349028689|123459988| 20|    3|             2|   Entertainment|            14.24|2018|2018-03-20|\n",
      "|        160|4210653349028689|123459988|  8|    7|             3|         Grocery|             56.7|2018|2018-07-08|\n",
      "|        114|4210653349028689|123459988| 19|    4|             4|   Entertainment|            59.73|2018|2018-04-19|\n",
      "|         93|4210653349028689|123459988| 10|   10|             5|             Gas|             3.59|2018|2018-10-10|\n",
      "+-----------+----------------+---------+---+-----+--------------+----------------+-----------------+----+----------+\n",
      "only showing top 5 rows\n",
      "\n",
      "+----------------+------------+-------------+-------------------+-------------+----------+--------+----------+---------+--------------------+-----------+---------+--------------------+\n",
      "|  Credit_card_no|   CUST_CITY| CUST_COUNTRY|         CUST_EMAIL|   CUST_PHONE|CUST_STATE|CUST_ZIP|FIRST_NAME|LAST_NAME|        LAST_UPDATED|MIDDLE_NAME|      SSN| FULL_STREET_ADDRESS|\n",
      "+----------------+------------+-------------+-------------------+-------------+----------+--------+----------+---------+--------------------+-----------+---------+--------------------+\n",
      "|4210653310061055|     Natchez|United States|AHooper@example.com|(617)123-7818|        MS|   39120|      Alec|   Hooper|2018-04-21T12:49:...|         wm|123456100|656,Main Street N...|\n",
      "|4210653310102868|Wethersfield|United States|EHolman@example.com|(617)123-8933|        CT|   06109|      Etta|   Holman|2018-04-21T12:49:...|    brendan|123453023|   829,Redwood Drive|\n",
      "|4210653310116272|     Huntley|United States|WDunham@example.com|(617)124-3018|        IL|   60142|    Wilber|   Dunham|2018-04-21T12:49:...|   ezequiel|123454487|683,12th Street East|\n",
      "|4210653310195948|   NewBerlin|United States| EHardy@example.com|(617)124-3215|        WI|   53151|   Eugenio|    Hardy|2018-04-21T12:49:...|      trina|123459758|253,Country Club ...|\n",
      "|4210653310356919|      ElPaso|United States| WAyers@example.com|(617)124-2074|        TX|   79930|   Wilfred|    Ayers|2018-04-21T12:49:...|        may|123454431|  301,Madison Street|\n",
      "+----------------+------------+-------------+-------------------+-------------+----------+--------+----------+---------+--------------------+-----------+---------+--------------------+\n",
      "only showing top 5 rows\n",
      "\n"
     ]
    }
   ],
   "source": [
    "df_branch.show(5)\n",
    "df_credit.show(5)\n",
    "df_customers.show(5)"
   ]
  },
  {
   "cell_type": "code",
   "execution_count": 28,
   "id": "61b16687",
   "metadata": {},
   "outputs": [
    {
     "name": "stdout",
     "output_type": "stream",
     "text": [
      "root\n",
      " |-- BRANCH_CODE: long (nullable = true)\n",
      " |-- CUST_CC_NO: string (nullable = true)\n",
      " |-- CUST_SSN: long (nullable = true)\n",
      " |-- DAY: long (nullable = true)\n",
      " |-- MONTH: long (nullable = true)\n",
      " |-- TRANSACTION_ID: long (nullable = true)\n",
      " |-- TRANSACTION_TYPE: string (nullable = true)\n",
      " |-- TRANSACTION_VALUE: double (nullable = true)\n",
      " |-- YEAR: long (nullable = true)\n",
      " |-- TIMEID: date (nullable = true)\n",
      " |-- Credit_card_no: string (nullable = true)\n",
      " |-- CUST_CITY: string (nullable = true)\n",
      " |-- CUST_COUNTRY: string (nullable = true)\n",
      " |-- CUST_EMAIL: string (nullable = true)\n",
      " |-- CUST_PHONE: string (nullable = true)\n",
      " |-- CUST_STATE: string (nullable = true)\n",
      " |-- CUST_ZIP: string (nullable = true)\n",
      " |-- FIRST_NAME: string (nullable = true)\n",
      " |-- LAST_NAME: string (nullable = true)\n",
      " |-- LAST_UPDATED: string (nullable = true)\n",
      " |-- MIDDLE_NAME: string (nullable = true)\n",
      " |-- SSN: long (nullable = true)\n",
      " |-- FULL_STREET_ADDRESS: string (nullable = true)\n",
      "\n"
     ]
    }
   ],
   "source": [
    "df_cust_and_credit = df_credit.join(df_customers, df_credit.CUST_SSN == df_customers.SSN,\"outer\")\n",
    "df_cust_and_credit.printSchema()"
   ]
  },
  {
   "cell_type": "code",
   "execution_count": 29,
   "id": "8292a994",
   "metadata": {},
   "outputs": [
    {
     "name": "stdout",
     "output_type": "stream",
     "text": [
      "root\n",
      " |-- BRANCH_CODE: long (nullable = true)\n",
      " |-- CUST_CC_NO: string (nullable = true)\n",
      " |-- CUST_SSN: long (nullable = true)\n",
      " |-- DAY: long (nullable = true)\n",
      " |-- MONTH: long (nullable = true)\n",
      " |-- TRANSACTION_ID: long (nullable = true)\n",
      " |-- TRANSACTION_TYPE: string (nullable = true)\n",
      " |-- TRANSACTION_VALUE: double (nullable = true)\n",
      " |-- YEAR: long (nullable = true)\n",
      " |-- TIMEID: date (nullable = true)\n",
      " |-- BRANCH_CITY: string (nullable = true)\n",
      " |-- BRANCHCODE: long (nullable = true)\n",
      " |-- BRANCH_NAME: string (nullable = true)\n",
      " |-- BRANCH_PHONE: string (nullable = true)\n",
      " |-- BRANCH_STATE: string (nullable = true)\n",
      " |-- BRANCH_STREET: string (nullable = true)\n",
      " |-- BRANCH_ZIP: long (nullable = true)\n",
      " |-- LAST_UPDATED: string (nullable = true)\n",
      "\n"
     ]
    }
   ],
   "source": [
    "#changing BRANCH_CODE name - to avoid ambigous column error when querying\n",
    "df_branch = df_branch.withColumnRenamed('BRANCH_CODE','BRANCHCODE') \n",
    "df_branch_and_credit = df_credit.join(df_branch, df_credit.BRANCH_CODE == df_branch.BRANCHCODE, \"outer\")\n",
    "df_branch_and_credit.printSchema()"
   ]
  },
  {
   "cell_type": "code",
   "execution_count": 30,
   "id": "80686099",
   "metadata": {},
   "outputs": [],
   "source": [
    "#dropped cols to be able to check for nulls\n",
    "df_cust_and_credit = df_cust_and_credit.drop('TIMEID')\n",
    "df_cust_and_credit = df_cust_and_credit.drop('LAST_UPDATED')\n",
    "df_branch_and_credit = df_branch_and_credit.drop('BRANCHCODE')"
   ]
  },
  {
   "cell_type": "code",
   "execution_count": 31,
   "id": "84883066",
   "metadata": {},
   "outputs": [
    {
     "name": "stderr",
     "output_type": "stream",
     "text": [
      "[Stage 34:>                                                         (0 + 1) / 1]\r"
     ]
    },
    {
     "name": "stdout",
     "output_type": "stream",
     "text": [
      "+-----------+----------+--------+---+-----+--------------+----------------+-----------------+----+--------------+---------+------------+----------+----------+----------+--------+----------+---------+-----------+---+-------------------+\n",
      "|BRANCH_CODE|CUST_CC_NO|CUST_SSN|DAY|MONTH|TRANSACTION_ID|TRANSACTION_TYPE|TRANSACTION_VALUE|YEAR|Credit_card_no|CUST_CITY|CUST_COUNTRY|CUST_EMAIL|CUST_PHONE|CUST_STATE|CUST_ZIP|FIRST_NAME|LAST_NAME|MIDDLE_NAME|SSN|FULL_STREET_ADDRESS|\n",
      "+-----------+----------+--------+---+-----+--------------+----------------+-----------------+----+--------------+---------+------------+----------+----------+----------+--------+----------+---------+-----------+---+-------------------+\n",
      "|          0|         0|       0|  0|    0|             0|               0|                0|   0|             0|        0|           0|         0|         0|         0|       0|         0|        0|          0|  0|                  0|\n",
      "+-----------+----------+--------+---+-----+--------------+----------------+-----------------+----+--------------+---------+------------+----------+----------+----------+--------+----------+---------+-----------+---+-------------------+\n",
      "\n"
     ]
    },
    {
     "name": "stderr",
     "output_type": "stream",
     "text": [
      "\r",
      "                                                                                \r"
     ]
    }
   ],
   "source": [
    "#checking for nulls\n",
    "df_cust_and_credit.select([count(when(isnan(c), c)).alias(c) for c in df_cust_and_credit.columns]).show()"
   ]
  },
  {
   "cell_type": "code",
   "execution_count": 32,
   "id": "e0c7afc2",
   "metadata": {},
   "outputs": [
    {
     "name": "stdout",
     "output_type": "stream",
     "text": [
      "+-----------+----------+--------+---+-----+--------------+----------------+-----------------+----+--------------+---------+------------+----------+----------+----------+--------+----------+---------+-----------+---+-------------------+\n",
      "|BRANCH_CODE|CUST_CC_NO|CUST_SSN|DAY|MONTH|TRANSACTION_ID|TRANSACTION_TYPE|TRANSACTION_VALUE|YEAR|Credit_card_no|CUST_CITY|CUST_COUNTRY|CUST_EMAIL|CUST_PHONE|CUST_STATE|CUST_ZIP|FIRST_NAME|LAST_NAME|MIDDLE_NAME|SSN|FULL_STREET_ADDRESS|\n",
      "+-----------+----------+--------+---+-----+--------------+----------------+-----------------+----+--------------+---------+------------+----------+----------+----------+--------+----------+---------+-----------+---+-------------------+\n",
      "|          0|         0|       0|  0|    0|             0|               0|                0|   0|             0|        0|           0|         0|         0|         0|       0|         0|        0|          0|  0|                  0|\n",
      "+-----------+----------+--------+---+-----+--------------+----------------+-----------------+----+--------------+---------+------------+----------+----------+----------+--------+----------+---------+-----------+---+-------------------+\n",
      "\n"
     ]
    }
   ],
   "source": [
    "df_cust_and_credit.select([count(when(col(c).isNull(), c)).alias(c) for c in df_cust_and_credit.columns]).show()"
   ]
  },
  {
   "cell_type": "code",
   "execution_count": null,
   "id": "0cc51106",
   "metadata": {},
   "outputs": [],
   "source": []
  },
  {
   "cell_type": "code",
   "execution_count": 33,
   "id": "e3b628ff",
   "metadata": {
    "scrolled": true
   },
   "outputs": [],
   "source": [
    "pd_branch = df_branch.toPandas()\n",
    "pd_credit = df_credit.toPandas()\n",
    "pd_customers = df_customers.toPandas()"
   ]
  },
  {
   "cell_type": "code",
   "execution_count": 34,
   "id": "9269dedd",
   "metadata": {},
   "outputs": [],
   "source": [
    "pd_credit = pd_credit.rename(columns = {'CUST_SSN':'SSN'})\n",
    "pd_customer_credit = pd.merge(pd_credit, pd_customers, on ='SSN')"
   ]
  },
  {
   "cell_type": "code",
   "execution_count": 35,
   "id": "391aaabd",
   "metadata": {},
   "outputs": [
    {
     "data": {
      "text/plain": [
       "2018    46694\n",
       "Name: YEAR, dtype: int64"
      ]
     },
     "execution_count": 35,
     "metadata": {},
     "output_type": "execute_result"
    }
   ],
   "source": [
    "pd_customer_credit['YEAR'].value_counts()"
   ]
  },
  {
   "cell_type": "code",
   "execution_count": 36,
   "id": "50a57bc6",
   "metadata": {},
   "outputs": [
    {
     "data": {
      "text/plain": [
       "TRANSACTION_TYPE\n",
       "Bills            351405.28\n",
       "Education        337980.07\n",
       "Entertainment    338950.10\n",
       "Gas              336059.26\n",
       "Grocery          337051.63\n",
       "Healthcare       340476.20\n",
       "Test             341310.37\n",
       "Name: TRANSACTION_VALUE, dtype: float64"
      ]
     },
     "execution_count": 36,
     "metadata": {},
     "output_type": "execute_result"
    }
   ],
   "source": [
    "pd_customer_credit = pd_customer_credit.drop(['CUST_CC_NO','CUST_EMAIL','TIMEID','TRANSACTION_ID',\n",
    "                'Credit_card_no', 'CUST_PHONE', 'LAST_UPDATED', 'CUST_CITY','CUST_COUNTRY'], axis=1)\n",
    "pd_trans_type = pd_customer_credit.groupby(['TRANSACTION_TYPE'])['TRANSACTION_VALUE'].sum()\n",
    "pd_trans_type"
   ]
  },
  {
   "cell_type": "code",
   "execution_count": 37,
   "id": "d327183f",
   "metadata": {},
   "outputs": [],
   "source": [
    "#https://towardsdatascience.com/bring-your-jupyter-notebook-to-life-with-interactive-widgets-bc12e03f0916\n",
    "ALL = 'ALL'\n",
    "def unique_sorted_values_plus_ALL(array):\n",
    "    unique = array.unique().tolist()\n",
    "    unique.sort()\n",
    "    unique.insert(0, ALL)\n",
    "    return unique"
   ]
  },
  {
   "cell_type": "code",
   "execution_count": null,
   "id": "40df8e9b",
   "metadata": {},
   "outputs": [],
   "source": []
  },
  {
   "cell_type": "code",
   "execution_count": null,
   "id": "11e45ee8",
   "metadata": {},
   "outputs": [],
   "source": []
  },
  {
   "cell_type": "code",
   "execution_count": null,
   "id": "1ddd43a6",
   "metadata": {},
   "outputs": [],
   "source": []
  },
  {
   "cell_type": "code",
   "execution_count": 38,
   "id": "ee04a7cb",
   "metadata": {},
   "outputs": [
    {
     "data": {
      "application/vnd.jupyter.widget-view+json": {
       "model_id": "b4191905b4474044825d01432097111f",
       "version_major": 2,
       "version_minor": 0
      },
      "text/plain": [
       "Dropdown(options=('ALL', '01810', '02127', '02155', '02169', '02780', '06109', '06511', '07111', '07501', '076…"
      ]
     },
     "metadata": {},
     "output_type": "display_data"
    },
    {
     "data": {
      "application/vnd.jupyter.widget-view+json": {
       "model_id": "5dab867aa4c4422cb1ee30ef6652aeb9",
       "version_major": 2,
       "version_minor": 0
      },
      "text/plain": [
       "Dropdown(options=('ALL', 1, 2, 3, 4, 5, 6, 7, 8, 9, 10, 11, 12), value='ALL')"
      ]
     },
     "metadata": {},
     "output_type": "display_data"
    }
   ],
   "source": [
    "output = widgets.Output()\n",
    "\n",
    "dropdown_zipcode = widgets.Dropdown(options = unique_sorted_values_plus_ALL(pd_customer_credit.CUST_ZIP))\n",
    "dropdown_month = widgets.Dropdown(options = unique_sorted_values_plus_ALL(pd_customer_credit.MONTH))\n",
    "\n",
    "def common_filtering(month, zipcode):\n",
    "    output.clear_output()\n",
    "    \n",
    "    if (month == ALL) & (zipcode == ALL):\n",
    "        common_filter = pd_customer_credit\n",
    "    elif (month == ALL):\n",
    "        common_filter = pd_customer_credit[pd_customer_credit.CUST_ZIP == zipcode]\n",
    "    elif (zipcode == ALL):\n",
    "        common_filter = pd_customer_credit[pd_customer_credit.MONTH == month]\n",
    "    else:\n",
    "        common_filter = pd_customer_credit[(pd_customer_credit.MONTH == month) & \n",
    "                                  (pd_customer_credit.CUST_ZIP == zipcode)]\n",
    "    \n",
    "    with output:\n",
    "        display(common_filter)\n",
    "        \n",
    "        \n",
    "def dropdown_month_eventhandler(change):\n",
    "    common_filtering(change.new, dropdown_zipcode.value)\n",
    "    \n",
    "def dropdown_zipcode_eventhandler(change):\n",
    "    common_filtering(dropdown_month.value, change.new)\n",
    "\n",
    "dropdown_month.observe(dropdown_month_eventhandler, names='value')\n",
    "dropdown_zipcode.observe(dropdown_zipcode_eventhandler, names='value')\n",
    "\n",
    "\n",
    "\n",
    "display(dropdown_zipcode)\n",
    "display(dropdown_month)"
   ]
  },
  {
   "cell_type": "code",
   "execution_count": 39,
   "id": "b326382a",
   "metadata": {},
   "outputs": [
    {
     "data": {
      "application/vnd.jupyter.widget-view+json": {
       "model_id": "c977003b80584ed5adbe893f239b6518",
       "version_major": 2,
       "version_minor": 0
      },
      "text/plain": [
       "Output(outputs=({'output_type': 'display_data', 'data': {'text/plain': '       BRANCH_CODE        SSN  DAY  MO…"
      ]
     },
     "metadata": {},
     "output_type": "display_data"
    }
   ],
   "source": [
    "display(output)"
   ]
  },
  {
   "cell_type": "code",
   "execution_count": 40,
   "id": "062f871f",
   "metadata": {},
   "outputs": [],
   "source": [
    "df_branch.createOrReplaceTempView(\"branch\")\n",
    "df_credit.createOrReplaceTempView(\"credit\")\n",
    "df_customers.createOrReplaceTempView(\"customers\")\n",
    "df_cust_and_credit.createOrReplaceTempView(\"cc\")\n",
    "df_branch_and_credit.createOrReplaceTempView(\"bcr\")"
   ]
  },
  {
   "cell_type": "code",
   "execution_count": 41,
   "id": "b87fb000",
   "metadata": {},
   "outputs": [
    {
     "name": "stdout",
     "output_type": "stream",
     "text": [
      "Please enter your 5 digit zipcode: 22180\n",
      "Please enter your 4 digit year: 2018\n",
      "Please choose a month from 1 through 12: 5\n",
      "+---------+----------+--------+----+-----+---+\n",
      "|LAST_NAME|FIRST_NAME|CUST_ZIP|YEAR|MONTH|DAY|\n",
      "+---------+----------+--------+----+-----+---+\n",
      "|   Spence|      Fred|   22180|2018|    5| 28|\n",
      "|   Savage|     Clara|   22180|2018|    5| 26|\n",
      "|  Salinas|     Keven|   22180|2018|    5| 24|\n",
      "|     Kemp|    Sheila|   22180|2018|    5| 23|\n",
      "|  Conklin|  Harrison|   22180|2018|    5| 23|\n",
      "|   Savage|     Clara|   22180|2018|    5| 22|\n",
      "|   Spence|      Fred|   22180|2018|    5| 22|\n",
      "|      Poe|    Leslie|   22180|2018|    5| 21|\n",
      "|   Ramsey|      Omar|   22180|2018|    5| 21|\n",
      "|  Conklin|  Harrison|   22180|2018|    5| 19|\n",
      "|   Savage|     Clara|   22180|2018|    5| 18|\n",
      "|   Krause|    Nannie|   22180|2018|    5| 18|\n",
      "|  Conklin|  Harrison|   22180|2018|    5| 17|\n",
      "|  Salinas|     Keven|   22180|2018|    5| 17|\n",
      "|     Kemp|    Sheila|   22180|2018|    5| 16|\n",
      "|   Spence|      Fred|   22180|2018|    5| 16|\n",
      "|   Savage|     Clara|   22180|2018|    5| 15|\n",
      "|      Poe|    Leslie|   22180|2018|    5| 15|\n",
      "|  Conklin|  Harrison|   22180|2018|    5| 15|\n",
      "|   Spence|      Fred|   22180|2018|    5| 15|\n",
      "|  Salinas|     Keven|   22180|2018|    5| 14|\n",
      "|     Kemp|    Sheila|   22180|2018|    5| 14|\n",
      "|   Ramsey|      Omar|   22180|2018|    5| 14|\n",
      "|  Mcclain|      Kurt|   22180|2018|    5| 14|\n",
      "|   Ramsey|      Omar|   22180|2018|    5| 14|\n",
      "|     Kemp|    Sheila|   22180|2018|    5| 13|\n",
      "|   Spence|      Fred|   22180|2018|    5| 13|\n",
      "|      Poe|    Leslie|   22180|2018|    5| 13|\n",
      "|  Mcclain|      Kurt|   22180|2018|    5| 11|\n",
      "|   Ramsey|      Omar|   22180|2018|    5|  9|\n",
      "|      Poe|    Leslie|   22180|2018|    5|  8|\n",
      "|  Salinas|     Keven|   22180|2018|    5|  7|\n",
      "|  Mcclain|      Kurt|   22180|2018|    5|  6|\n",
      "|   Savage|     Clara|   22180|2018|    5|  5|\n",
      "|     Kemp|    Sheila|   22180|2018|    5|  4|\n",
      "|   Savage|     Clara|   22180|2018|    5|  4|\n",
      "|     Kemp|    Sheila|   22180|2018|    5|  3|\n",
      "|      Poe|    Leslie|   22180|2018|    5|  2|\n",
      "|   Savage|     Clara|   22180|2018|    5|  2|\n",
      "|  Salinas|     Keven|   22180|2018|    5|  1|\n",
      "+---------+----------+--------+----+-----+---+\n",
      "\n"
     ]
    }
   ],
   "source": [
    "##22180, 2018, 5\n",
    "zipcode = input(\"Please enter your 5 digit zipcode: \" )\n",
    "year = input(\"Please enter your 4 digit year: \" )\n",
    "month = input(\"Please choose a month from 1 through 12: \" )\n",
    "\n",
    "def get_transactions_by_zipcode(zipcode, year, month):\n",
    "    results = spark.sql(\"SELECT cc.LAST_NAME, cc.FIRST_NAME, cc.CUST_ZIP, cc.YEAR, cc.MONTH, cc.DAY \\\n",
    "            FROM cc \\\n",
    "            WHERE cc.CUST_ZIP = '{}' AND cc.YEAR = '{}' AND cc.MONTH = '{}' \\\n",
    "            ORDER BY cc.DAY DESC\".format(str(zipcode), str(year), str(month)))\n",
    "\n",
    "    results.show(1000)\n",
    "\n",
    "get_transactions_by_zipcode(zipcode, year, month)\n"
   ]
  },
  {
   "cell_type": "code",
   "execution_count": null,
   "id": "506ed5ff",
   "metadata": {},
   "outputs": [],
   "source": []
  },
  {
   "cell_type": "code",
   "execution_count": null,
   "id": "7df3f103",
   "metadata": {},
   "outputs": [],
   "source": []
  },
  {
   "cell_type": "code",
   "execution_count": null,
   "id": "2e5af272",
   "metadata": {},
   "outputs": [],
   "source": []
  },
  {
   "cell_type": "code",
   "execution_count": 42,
   "id": "7b855969",
   "metadata": {},
   "outputs": [
    {
     "name": "stdout",
     "output_type": "stream",
     "text": [
      "Please choose transaction type from the following - Education, Entertainment  Healthcare, Grocery, Test, Gas, Bills: Entertainment\n",
      "+----------------+----------------+-----------+\n",
      "|TRANSACTION_TYPE|num_transactions|total_value|\n",
      "+----------------+----------------+-----------+\n",
      "|   Entertainment|            6635|   338950.1|\n",
      "+----------------+----------------+-----------+\n",
      "\n"
     ]
    }
   ],
   "source": [
    "transaction_type = input(\"Please choose transaction type from the following - Education, Entertainment\\\n",
    "  Healthcare, Grocery, Test, Gas, Bills: \" )\n",
    "\n",
    "def get_transaction_by_type(transaction_type):\n",
    "    transactions = spark.sql(\"SELECT TRANSACTION_TYPE, COUNT(*) AS num_transactions, ROUND(SUM(TRANSACTION_VALUE),2) AS total_value \\\n",
    "                               FROM credit \\\n",
    "                               WHERE TRANSACTION_TYPE = '{}' \\\n",
    "                               GROUP BY TRANSACTION_TYPE\".format(transaction_type))\n",
    "    transactions.show()\n",
    "    \n",
    "get_transaction_by_type(transaction_type)"
   ]
  },
  {
   "cell_type": "code",
   "execution_count": 43,
   "id": "3bfbc9a0",
   "metadata": {},
   "outputs": [
    {
     "name": "stdout",
     "output_type": "stream",
     "text": [
      "Please choose a state from the following list (NY, GA, PA, FL, IL, MI, MD, NJ, CA, OH,  NC, VA, MA, TX, WI, SC, MN, MS, KY, WA, IA, CT, IN, MT, AR, AL): PA\n",
      "+-----------+----------------+-----------+\n",
      "|BRANCH_CODE|num_transactions|total_value|\n",
      "+-----------+----------------+-----------+\n",
      "|         22|             399|   20198.76|\n",
      "|        149|             405|   20609.27|\n",
      "|          5|             421|   22053.74|\n",
      "|        192|             361|   18366.99|\n",
      "|        156|             404|   20610.98|\n",
      "|         49|             404|   20791.93|\n",
      "|        118|             394|   20506.13|\n",
      "|         18|             422|   22106.49|\n",
      "|        125|             411|   20325.64|\n",
      "|         15|             384|   19516.27|\n",
      "|        117|             445|   22365.06|\n",
      "+-----------+----------------+-----------+\n",
      "\n"
     ]
    }
   ],
   "source": [
    "state_name = input(\"Please choose a state from the following list (NY, GA, PA, FL, IL, MI, MD, NJ, CA, OH, \\\n",
    " NC, VA, MA, TX, WI, SC, MN, MS, KY, WA, IA, CT, IN, MT, AR, AL): \" )\n",
    "\n",
    "def transactions_by_state(state_name):\n",
    "    trans_by_state = spark.sql(\"SELECT BRANCH_CODE, COUNT(*) AS num_transactions, ROUND(SUM(TRANSACTION_VALUE),2) AS total_value \\\n",
    "                               FROM bcr \\\n",
    "                               WHERE BRANCH_STATE = '{}' \\\n",
    "                               GROUP BY BRANCH_CODE\".format(state_name))\n",
    "    trans_by_state.show(100)\n",
    "    \n",
    "transactions_by_state(state_name)"
   ]
  },
  {
   "cell_type": "code",
   "execution_count": 44,
   "id": "b715b0c7",
   "metadata": {},
   "outputs": [
    {
     "name": "stdout",
     "output_type": "stream",
     "text": [
      "Please choose a state from the following list (NY, GA, PA, FL, IL, MI, MD, NJ, CA, OH,NC, VA, MA, TX, WI, SC, MN, MS, KY, WA, IA, CT, IN, MT, AR, AL): PA\n",
      "+--------------+------------------------+\n",
      "|Branches_in_PA|Total_Transactions_Value|\n",
      "+--------------+------------------------+\n",
      "|          4450|               227451.26|\n",
      "+--------------+------------------------+\n",
      "\n"
     ]
    }
   ],
   "source": [
    "state = input(\"Please choose a state from the following list (NY, GA, PA, FL, IL, MI, MD, NJ, CA, OH,\\\n",
    "NC, VA, MA, TX, WI, SC, MN, MS, KY, WA, IA, CT, IN, MT, AR, AL): \")\n",
    "\n",
    "def get_branch_transaction_info(state):\n",
    "    trans_by_branch_state = spark.sql(f\"SELECT COUNT(bcr.BRANCH_STATE) as Branches_in_{state}, \\\n",
    "    ROUND(SUM(bcr.TRANSACTION_VALUE),2) as Total_Transactions_Value \\\n",
    "    FROM bcr \\\n",
    "    WHERE bcr.BRANCH_STATE = '{state}'\")\n",
    "    trans_by_branch_state.show()\n",
    "\n",
    "get_branch_transaction_info(state)\n"
   ]
  },
  {
   "cell_type": "code",
   "execution_count": 45,
   "id": "ec524bb5",
   "metadata": {
    "scrolled": true
   },
   "outputs": [
    {
     "name": "stdout",
     "output_type": "stream",
     "text": [
      "Please enter your social security number: 123456100\n",
      "+----------------+---------+-------------+-------------------+-------------+----------+--------+----------+---------+--------------------+-----------+---------+--------------------+\n",
      "|  Credit_card_no|CUST_CITY| CUST_COUNTRY|         CUST_EMAIL|   CUST_PHONE|CUST_STATE|CUST_ZIP|FIRST_NAME|LAST_NAME|        LAST_UPDATED|MIDDLE_NAME|      SSN| FULL_STREET_ADDRESS|\n",
      "+----------------+---------+-------------+-------------------+-------------+----------+--------+----------+---------+--------------------+-----------+---------+--------------------+\n",
      "|4210653310061055|  Natchez|United States|AHooper@example.com|(617)123-7818|        MS|   39120|      Alec|   Hooper|2018-04-21T12:49:...|         wm|123456100|656,Main Street N...|\n",
      "+----------------+---------+-------------+-------------------+-------------+----------+--------+----------+---------+--------------------+-----------+---------+--------------------+\n",
      "\n"
     ]
    }
   ],
   "source": [
    "#123459988\n",
    "customer_ssn = input(\"Please enter your social security number: \")\n",
    "\n",
    "def get_customer_information(customer_ssn):\n",
    "    customer_info = spark.sql(\"SELECT * \\\n",
    "    FROM customers \\\n",
    "    WHERE customers.SSN = '{}'\".format(customer_ssn))\n",
    "    customer_info.show()\n",
    "\n",
    "get_customer_information(customer_ssn)\n"
   ]
  },
  {
   "cell_type": "code",
   "execution_count": 46,
   "id": "84bb3a23",
   "metadata": {},
   "outputs": [
    {
     "name": "stdout",
     "output_type": "stream",
     "text": [
      "Please enter your social security number: 123456100\n",
      "Please enter in the field you would like to change (Credit_card_no, CUST_CITY, CUST_COUNTRY,  CUST_EMAIL, CUST_PHONE, CUST_STATE, CUST_ZIP, FIRST_NAME, LAST_NAME, MIDDLE_NAME, SSN): CUST_ZIP\n",
      "Please enter the changed information: 99999\n"
     ]
    },
    {
     "name": "stderr",
     "output_type": "stream",
     "text": [
      "                                                                                \r"
     ]
    },
    {
     "name": "stdout",
     "output_type": "stream",
     "text": [
      "+----------------+-----------------+-------------+--------------------+-------------+----------+--------+----------+----------+--------------------+-----------+---------+--------------------+--------------------+\n",
      "|  Credit_card_no|        CUST_CITY| CUST_COUNTRY|          CUST_EMAIL|   CUST_PHONE|CUST_STATE|CUST_ZIP|FIRST_NAME| LAST_NAME|        LAST_UPDATED|MIDDLE_NAME|      SSN| FULL_STREET_ADDRESS|         lastUpdated|\n",
      "+----------------+-----------------+-------------+--------------------+-------------+----------+--------+----------+----------+--------------------+-----------+---------+--------------------+--------------------+\n",
      "|4210653310061055|          Natchez|United States| AHooper@example.com|(617)123-7818|        MS|   99999|      Alec|    Hooper|2018-04-21T12:49:...|         wm|123456100|656,Main Street N...|2023-03-01 23:05:...|\n",
      "|4210653310102868|     Wethersfield|United States| EHolman@example.com|(617)123-8933|        CT|   06109|      Etta|    Holman|2018-04-21T12:49:...|    brendan|123453023|   829,Redwood Drive|2023-03-01 23:05:...|\n",
      "|4210653310116272|          Huntley|United States| WDunham@example.com|(617)124-3018|        IL|   60142|    Wilber|    Dunham|2018-04-21T12:49:...|   ezequiel|123454487|683,12th Street East|2023-03-01 23:05:...|\n",
      "|4210653310195948|        NewBerlin|United States|  EHardy@example.com|(617)124-3215|        WI|   53151|   Eugenio|     Hardy|2018-04-21T12:49:...|      trina|123459758|253,Country Club ...|2023-03-01 23:05:...|\n",
      "|4210653310356919|           ElPaso|United States|  WAyers@example.com|(617)124-2074|        TX|   79930|   Wilfred|     Ayers|2018-04-21T12:49:...|        may|123454431|  301,Madison Street|2023-03-01 23:05:...|\n",
      "|4210653310395982|     NorthOlmsted|United States|BWoodard@example.com|(617)124-2570|        OH|   44070|      Beau|   Woodard|2018-04-21T12:49:...|    ambrose|123454202|    3,Colonial Drive|2023-03-01 23:05:...|\n",
      "|4210653310400536|           Vienna|United States|   SKemp@example.com|(617)123-9685|        VA|   22180|    Sheila|      Kemp|2018-04-21T12:49:...|      larry|123451799|   84,Belmont Avenue|2023-03-01 23:05:...|\n",
      "|4210653310459911|           Duarte|United States| WHurley@example.com|(617)123-8213|        CA|   91010|     Wendy|    Hurley|2018-04-21T12:49:...|        ora|123453875|    728,Oxford Court|2023-03-01 23:05:...|\n",
      "|4210653310773972|           Owosso|United States|AGilmore@example.com|(617)124-0689|        MI|   48867|      Alec|   Gilmore|2018-04-21T12:49:...|     tracie|123457511|    81,Forest Street|2023-03-01 23:05:...|\n",
      "|4210653310794854|             Zion|United States|    BLau@example.com|(617)123-5222|        IL|   60099|    Barbra|       Lau|2018-04-21T12:49:...|    mitchel|123457464|    561,Court Street|2023-03-01 23:05:...|\n",
      "|4210653310817373|       Youngstown|United States|EThomson@example.com|(617)124-1363|        OH|   44512|   Edmundo|   Thomson|2018-04-21T12:49:...|      denny|123457639|   622,Cypress Court|2023-03-01 23:05:...|\n",
      "|4210653310844617|      Summerville|United States| ETruong@example.com|(617)123-6228|        SC|   29483|      Elsa|    Truong|2018-04-21T12:49:...|   isabelle|123453242| 924,8th Street West|2023-03-01 23:05:...|\n",
      "|4210653311015303|           ElPaso|United States|HMckinney@example...|(617)123-8165|        TX|   79930|     Homer|  Mckinney|2018-04-21T12:49:...|      henry|123454339|     611,East Avenue|2023-03-01 23:05:...|\n",
      "|4210653311215039|           Fenton|United States|   RKidd@example.com|(617)123-4730|        MI|   48430|      Rita|      Kidd|2018-04-21T12:49:...|     rickey|123454537|        680,Route 44|2023-03-01 23:05:...|\n",
      "|4210653311229354|       Grandville|United States|ABallard@example.com|(617)124-2113|        MI|   49418|    Amalia|   Ballard|2018-04-21T12:49:...|  heriberto|123452373|    71,Warren Street|2023-03-01 23:05:...|\n",
      "|4210653311652836|         YubaCity|United States| PThomas@example.com|(617)123-9888|        CA|   95993|     Patty|    Thomas|2018-04-21T12:49:...|   angelita|123455343|    195,Jones Street|2023-03-01 23:05:...|\n",
      "|4210653311707126|        CapeCoral|United States| JMorrow@example.com|(617)124-0158|        FL|   33904|  Josefina|    Morrow|2018-04-21T12:49:...|   dorothea|123451533|      500,New Street|2023-03-01 23:05:...|\n",
      "|4210653311730764|       Brookfield|United States|NAndrews@example.com|(617)124-1408|        WI|   53045|    Nelson|   Andrews|2018-04-21T12:49:...|  jefferson|123459278| 989,Division Street|2023-03-01 23:05:...|\n",
      "|4210653311898082|         Richmond|United States|MSchneider@exampl...|(617)123-8390|        VA|   23223|    Miquel| Schneider|2018-04-21T12:49:...|     maximo|123456915|    810,Maple Street|2023-03-01 23:05:...|\n",
      "|4210653312021765|      WestChester|United States|PTidwell@example.com|(617)123-5067|        PA|   19380|    Parker|   Tidwell|2018-04-21T12:49:...|    arnulfo|123453807|      649,Eagle Road|2023-03-01 23:05:...|\n",
      "|4210653312200846|     NewBaltimore|United States|  BSwift@example.com|(617)124-0001|        MI|   48047|     Basil|     Swift|2018-04-21T12:49:...|     ramiro|123458078|   298,George Street|2023-03-01 23:05:...|\n",
      "|4210653312241914|         Bethesda|United States|  WLopez@example.com|(617)124-1312|        MD|   20814|    Wilmer|     Lopez|2018-04-21T12:49:...|    nanette|123459628|  761,Cottage Street|2023-03-01 23:05:...|\n",
      "|4210653312261759|           Parlin|United States|KHiggins@example.com|(617)123-5511|        NJ|   08859|     Karyn|   Higgins|2018-04-21T12:49:...|   isabella|123453196| 242,2nd Street East|2023-03-01 23:05:...|\n",
      "|4210653312346064|         Dearborn|United States| LGaines@example.com|(617)123-7317|        MI|   48124|    Lauren|    Gaines|2018-04-21T12:49:...|      edith|123456466|     133,Winding Way|2023-03-01 23:05:...|\n",
      "|4210653312454227|           Vienna|United States|    LPoe@example.com|(617)124-0777|        VA|   22180|    Leslie|       Poe|2018-04-21T12:49:...|    jacklyn|123457402|  147,Lincoln Street|2023-03-01 23:05:...|\n",
      "|4210653312478046|        Davenport|United States|  MRamey@example.com|(617)123-9863|        IA|   52804|   Maurice|     Ramey|2018-04-21T12:49:...|      lorna|123455692|    860,Grant Avenue|2023-03-01 23:05:...|\n",
      "|4210653312480040|         Victoria|United States| CIbarra@example.com|(617)124-1909|        TX|   77904|  Courtney|    Ibarra|2018-04-21T12:49:...|     debora|123451806|     743,Penn Street|2023-03-01 23:05:...|\n",
      "|4210653312528499|        SouthLyon|United States|ISellers@example.com|(617)124-0817|        MI|   48178|      Ines|   Sellers|2018-04-21T12:49:...|      tomas|123459918|   644,School Street|2023-03-01 23:05:...|\n",
      "|4210653312535133|         Torrance|United States| EMurphy@example.com|(617)123-7126|        CA|   90505|     Elden|    Murphy|2018-04-21T12:49:...|   carolina|123453988|   760,Madison Court|2023-03-01 23:05:...|\n",
      "|4210653312569486|        NewBerlin|United States|  EGarza@example.com|(617)124-1268|        WI|   53151|    Edison|     Garza|2018-04-21T12:49:...|    shannon|123457321|      599,New Street|2023-03-01 23:05:...|\n",
      "|4210653312588692|          Rowlett|United States|TRichards@example...|(617)123-6077|        TX|   75088|    Tracey|  Richards|2018-04-21T12:49:...|     austin|123451068|     147,Durham Road|2023-03-01 23:05:...|\n",
      "|4210653312665358|       Bettendorf|United States|BOconnor@example.com|(617)123-6989|        IA|   52722|     Benny|   Oconnor|2018-04-21T12:49:...|     lorrie|123455295|     740,Maiden Lane|2023-03-01 23:05:...|\n",
      "|4210653312797359|        Frederick|United States| JRamsey@example.com|(617)123-9774|        MD|   21701| Jeannette|    Ramsey|2018-04-21T12:49:...|       phil|123458509|  214,Edgewood Drive|2023-03-01 23:05:...|\n",
      "|4210653312837854|        Jonesboro|United States|   RHood@example.com|(617)123-6561|        GA|   30236|       Rey|      Hood|2018-04-21T12:49:...|      britt|123454698| 111,Riverside Drive|2023-03-01 23:05:...|\n",
      "|4210653312838058|         Paterson|United States| RMcneil@example.com|(617)123-7290|        NJ|   07501|     Reyes|    Mcneil|2018-04-21T12:49:...|    chasity|123452805|   850,School Street|2023-03-01 23:05:...|\n",
      "|4210653312952302|         Torrance|United States|SCoulter@example.com|(617)124-1213|        CA|   90505|     Shari|   Coulter|2018-04-21T12:49:...|    mildred|123453796|       824,Fawn Lane|2023-03-01 23:05:...|\n",
      "|4210653313003223|     RedondoBeach|United States|EAnthony@example.com|(617)124-0339|        CA|   90278|      Elsa|   Anthony|2018-04-21T12:49:...|        ted|123459916| 475,Hillcrest Drive|2023-03-01 23:05:...|\n",
      "|4210653313038847|       Grandville|United States|MEmerson@example.com|(617)124-3173|        MI|   49418|   Marcelo|   Emerson|2018-04-21T12:49:...|    gonzalo|123454933| 404,Marshall Street|2023-03-01 23:05:...|\n",
      "|4210653313070993|           Helena|United States|    KAli@example.com|(617)123-9467|        MT|   59601| Katherine|       Ali|2018-04-21T12:49:...|     harvey|123453463|   413,Hamilton Road|2023-03-01 23:05:...|\n",
      "|4210653313088465|       Gettysburg|United States|CMcdermott@exampl...|(617)124-0377|        PA|   17325|   Celeste| Mcdermott|2018-04-21T12:49:...|     andrew|123455975|   563,Edgewood Road|2023-03-01 23:05:...|\n",
      "|4210653313138450|           Chaska|United States|MChapman@example.com|(617)123-6237|        MN|   55318|   Miranda|   Chapman|2018-04-21T12:49:...|     corina|123452214|340,Jefferson Street|2023-03-01 23:05:...|\n",
      "|4210653313155866|           Helena|United States|EEstrada@example.com|(617)123-9268|        MT|   59601|  Eldridge|   Estrada|2018-04-21T12:49:...|       oren|123454458|105,4th Street South|2023-03-01 23:05:...|\n",
      "|4210653313170152|         Rockaway|United States|     KWu@example.com|(617)124-0334|        NJ|   07866|      Kyle|        Wu|2018-04-21T12:49:...|      cathy|123455875|   411,Fairway Drive|2023-03-01 23:05:...|\n",
      "|4210653313259504|     RedondoBeach|United States|   BChoi@example.com|(617)123-8212|        CA|   90278| Broderick|      Choi|2018-04-21T12:49:...|    raleigh|123453014|        182,Route 29|2023-03-01 23:05:...|\n",
      "|4210653313338885|            Osseo|United States|ACisneros@example...|(617)123-7706|        MN|   55311|     Addie|  Cisneros|2018-04-21T12:49:...|      scott|123458645|158,Fieldstone Drive|2023-03-01 23:05:...|\n",
      "|4210653313592576|       Middleburg|United States|MNicholson@exampl...|(617)124-1801|        FL|   32068|   Merrill| Nicholson|2018-04-21T12:49:...|     santos|123455038|  618,Woodland Drive|2023-03-01 23:05:...|\n",
      "|4210653313622611|    Mechanicsburg|United States|JValenzuela@examp...|(617)123-9079|        PA|   17050| Johnathon|Valenzuela|2018-04-21T12:49:...|   jennifer|123458633| 610,Briarwood Court|2023-03-01 23:05:...|\n",
      "|4210653313825914|  NewPhiladelphia|United States|  JMoody@example.com|(617)123-5080|        OH|   44663|    Jasmin|     Moody|2018-04-21T12:49:...|    rosario|123459909|    472,Grant Street|2023-03-01 23:05:...|\n",
      "|4210653313922436|           Racine|United States| BGalvan@example.com|(617)124-2974|        WI|   53402|     Bette|    Galvan|2018-04-21T12:49:...|     leonor|123458342| 448,Columbia Street|2023-03-01 23:05:...|\n",
      "|4210653313938481|         Bethesda|United States|JHampton@example.com|(617)123-8964|        MD|   20814|    Joanne|   Hampton|2018-04-21T12:49:...|   laurence|123454006|      605,3rd Street|2023-03-01 23:05:...|\n",
      "|4210653314009556|          Trenton|United States|  DParks@example.com|(617)123-5784|        NJ|   08610|     Daryl|     Parks|2018-04-21T12:49:...|       erin|123451071|     84,Broad Street|2023-03-01 23:05:...|\n",
      "|4210653314024981|     Simpsonville|United States|   TMetz@example.com|(617)124-2024|        SC|   29680|       Ted|      Metz|2018-04-21T12:49:...|      brain|123455726|    44,Myrtle Avenue|2023-03-01 23:05:...|\n",
      "|4210653314044121|          Conyers|United States| TSharpe@example.com|(617)123-6528|        GA|   30012|     Titus|    Sharpe|2018-04-21T12:49:...|     antone|123453966|     471,Lake Avenue|2023-03-01 23:05:...|\n",
      "|4210653314209155|         PalmCity|United States|   BYork@example.com|(617)123-5377|        FL|   34990|    Bertie|      York|2018-04-21T12:49:...|   mercedes|123452454|      398,Eagle Road|2023-03-01 23:05:...|\n",
      "|4210653314345212|SouthRichmondHill|United States|NEscobar@example.com|(617)123-8055|        NY|   11419|     Nigel|   Escobar|2018-04-21T12:49:...|       aida|123457640|   791,School Street|2023-03-01 23:05:...|\n",
      "|4210653314449645|        Pittsford|United States|CPhillips@example...|(617)123-4648|        NY|   14534|  Cristina|  Phillips|2018-04-21T12:49:...|    beatriz|123454917|833,Westminster D...|2023-03-01 23:05:...|\n",
      "|4210653314629341|       Reidsville|United States|ADougherty@exampl...|(617)123-8759|        NC|   27320|      Alex| Dougherty|2018-04-21T12:49:...|       jame|123456436| 501,Crescent Street|2023-03-01 23:05:...|\n",
      "|4210653314812374|            Osseo|United States|   LDiaz@example.com|(617)124-1214|        MN|   55311|     Lorna|      Diaz|2018-04-21T12:49:...|      aimee|123451995|847,Lafayette Street|2023-03-01 23:05:...|\n",
      "|4210653314932835|        SiouxCity|United States| PGaines@example.com|(617)123-8426|        IA|   51106|     Pearl|    Gaines|2018-04-21T12:49:...|     marion|123457910|     249,Aspen Court|2023-03-01 23:05:...|\n",
      "|4210653314938984|     Kernersville|United States|RKennedy@example.com|(617)124-0490|        NC|   27284| Rigoberto|   Kennedy|2018-04-21T12:49:...|    annette|123451152|   235,Laurel Street|2023-03-01 23:05:...|\n",
      "|4210653314968535|           Apopka|United States|  KNeely@example.com|(617)123-5742|        FL|   32703|     Kayla|     Neely|2018-04-21T12:49:...|     dionne|123456143|         936,Route 4|2023-03-01 23:05:...|\n",
      "|4210653315077043|           Racine|United States|    JLaw@example.com|(617)123-8023|        WI|   53402|   Jasmine|       Law|2018-04-21T12:49:...|     doreen|123456538|   953,Poplar Street|2023-03-01 23:05:...|\n",
      "|4210653315118577|       Greenville|United States|FMccarty@example.com|(617)124-2721|        NC|   27834|    Freddy|   Mccarty|2018-04-21T12:49:...|    thurman|123459532|    811,Jones Street|2023-03-01 23:05:...|\n",
      "|4210653315377872|            Osseo|United States|CHilliard@example...|(617)123-6666|        MN|   55311|    Calvin|  Hilliard|2018-04-21T12:49:...|     angelo|123454003|   757,Parker Street|2023-03-01 23:05:...|\n",
      "|4210653315430155|         Marietta|United States|AMitchell@example...|(617)123-6567|        GA|   30008|   Aurelia|  Mitchell|2018-04-21T12:49:...|    leonard|123451818|   888,Dogwood Drive|2023-03-01 23:05:...|\n",
      "|4210653315439830|         Richmond|United States|  DBoyer@example.com|(617)123-7087|        VA|   23223|    Dionne|     Boyer|2018-04-21T12:49:...|    refugio|123457867|  627,Orchard Street|2023-03-01 23:05:...|\n",
      "|4210653315516879|        Pittsford|United States|LBritton@example.com|(617)123-4689|        NY|   14534|     Lucio|   Britton|2018-04-21T12:49:...|      bette|123459968|  635,Central Avenue|2023-03-01 23:05:...|\n",
      "|4210653315537073|       Middleburg|United States|MWoodard@example.com|(617)123-5632|        FL|   32068|  Mercedes|   Woodard|2018-04-21T12:49:...|    coleman|123451454|   660,Bridge Street|2023-03-01 23:05:...|\n",
      "|4210653315577947|       FloralPark|United States| AParker@example.com|(617)123-5625|        NY|   11001|     Alyce|    Parker|2018-04-21T12:49:...|     alissa|123459940|   265,Summer Street|2023-03-01 23:05:...|\n",
      "|4210653315669217|        Pittsford|United States|FMckinley@example...|(617)124-1925|        NY|   14534|   Felicia|  Mckinley|2018-04-21T12:49:...|        may|123455734|698,Washington St...|2023-03-01 23:05:...|\n",
      "|4210653315752398|         Wilmette|United States|FMeredith@example...|(617)123-6886|        IL|   60091|   Francis|  Meredith|2018-04-21T12:49:...|    donnell|123455638|  417,Lincoln Street|2023-03-01 23:05:...|\n",
      "|4210653315806331|       Loganville|United States|    JAli@example.com|(617)124-1596|        GA|   30052|   Jasmine|       Ali|2018-04-21T12:49:...|     manual|123452555| 414,Hamilton Street|2023-03-01 23:05:...|\n",
      "|4210653315863825|         Rockaway|United States|TRaymond@example.com|(617)123-7046|        NJ|   07866|      Tony|   Raymond|2018-04-21T12:49:...|     millie|123459155|    177,Pearl Street|2023-03-01 23:05:...|\n",
      "|4210653315888773|     RedondoBeach|United States| LWhalen@example.com|(617)124-1870|        CA|   90278|    Lillie|    Whalen|2018-04-21T12:49:...|     deanne|123457454|   697,Myrtle Street|2023-03-01 23:05:...|\n",
      "|4210653316211933|          Andover|United States|  JStone@example.com|(617)123-7809|        MA|   01810|   Janelle|     Stone|2018-04-21T12:49:...|    claudia|123453191| 701,Virginia Street|2023-03-01 23:05:...|\n",
      "|4210653316373749|       Starkville|United States|COconnor@example.com|(617)123-5055|        MS|   39759|    Cherry|   Oconnor|2018-04-21T12:49:...|    rodrick|123457655|    122,Jones Street|2023-03-01 23:05:...|\n",
      "|4210653316379921|          Taunton|United States| JGolden@example.com|(617)124-0126|        MA|   02780| Jeannette|    Golden|2018-04-21T12:49:...|       alan|123458966|496,Hillcrest Avenue|2023-03-01 23:05:...|\n",
      "|4210653316451779|     Hillsborough|United States| PKelley@example.com|(617)124-2953|        NJ|   08844|    Palmer|    Kelley|2018-04-21T12:49:...|        lee|123457778|      662,2nd Avenue|2023-03-01 23:05:...|\n",
      "|4210653316473643|        Jonesboro|United States| EHoward@example.com|(617)123-8707|        GA|   30236| Elizabeth|    Howard|2018-04-21T12:49:...|    desiree|123456356|     226,West Street|2023-03-01 23:05:...|\n",
      "|4210653316474645|          Huntley|United States| RChacon@example.com|(617)124-1884|        IL|   60142|    Rodger|    Chacon|2018-04-21T12:49:...|      ronny|123457245|   793,Summer Street|2023-03-01 23:05:...|\n",
      "|4210653316625296|       Burnsville|United States|AHammond@example.com|(617)123-6710|        MN|   55337|    Arline|   Hammond|2018-04-21T12:49:...|    marcelo|123456455| 365,Franklin Avenue|2023-03-01 23:05:...|\n",
      "|4210653316694056|           Boston|United States|    TLiu@example.com|(617)124-1788|        MA|   02127|     Tonya|       Liu|2018-04-21T12:49:...|   porfirio|123458724| 193,Harrison Avenue|2023-03-01 23:05:...|\n",
      "|4210653316694706|       Sykesville|United States| LAlford@example.com|(617)124-1627|        MD|   21784|    Lonnie|    Alford|2018-04-21T12:49:...|     anibal|123453881| 202,Highland Avenue|2023-03-01 23:05:...|\n",
      "|4210653316705450|       Youngstown|United States|   KBall@example.com|(617)123-6413|        OH|   44512|      Kris|      Ball|2018-04-21T12:49:...|    herbert|123455462|     34,Heather Lane|2023-03-01 23:05:...|\n",
      "|4210653316731195|  FernandinaBeach|United States|  ENorth@example.com|(617)123-9786|        FL|   32034|    Elnora|     North|2018-04-21T12:49:...|   beatrice|123453534|66,Washington Avenue|2023-03-01 23:05:...|\n",
      "|4210653316827505|       Carrollton|United States|   OFinn@example.com|(617)124-3309|        GA|   30117|      Oren|      Finn|2018-04-21T12:49:...| bernadette|123451037|     389,Winding Way|2023-03-01 23:05:...|\n",
      "|4210653316957315|         Clermont|United States|MSkinner@example.com|(617)123-8484|        FL|   34711|     Mindy|   Skinner|2018-04-21T12:49:...|       lucy|123458809|    529,Laurel Drive|2023-03-01 23:05:...|\n",
      "|4210653317141342|        Irvington|United States|CGreenberg@exampl...|(617)124-2571|        NJ|   07111|   Carroll| Greenberg|2018-04-21T12:49:...|   emmanuel|123459879| 293,3rd Street East|2023-03-01 23:05:...|\n",
      "|4210653317157493|       Grandville|United States|   SDang@example.com|(617)123-7680|        MI|   49418|   Stephen|      Dang|2018-04-21T12:49:...|     prince|123454064|     197,Wall Street|2023-03-01 23:05:...|\n",
      "|4210653317182916|      Mooresville|United States|   TVera@example.com|(617)123-7294|        NC|   28115|   Thurman|      Vera|2018-04-21T12:49:...|  granville|123458668| 831,Glenwood Avenue|2023-03-01 23:05:...|\n",
      "|4210653317297619|          Paducah|United States|  RTerry@example.com|(617)123-9486|        KY|   42001|   Rosario|     Terry|2018-04-21T12:49:...|   eldridge|123457998|   862,Willow Street|2023-03-01 23:05:...|\n",
      "|4210653317338150|         LaCrosse|United States|JGodfrey@example.com|(617)123-5810|        WI|   54601|        Jo|   Godfrey|2018-04-21T12:49:...|     sylvia|123459742|   310,Sunset Avenue|2023-03-01 23:05:...|\n",
      "|4210653317357817|   DeerfieldBeach|United States|VButcher@example.com|(617)123-7499|        FL|   33442|    Vaughn|   Butcher|2018-04-21T12:49:...|   valentin|123456582|    267,Maple Avenue|2023-03-01 23:05:...|\n",
      "|4210653317360015|         Wilmette|United States| AGraves@example.com|(617)124-3302|        IL|   60091|   Ambrose|    Graves|2018-04-21T12:49:...|        iva|123453565|   830,Edgewood Road|2023-03-01 23:05:...|\n",
      "|4210653317392678|       Oconomowoc|United States|  CNoble@example.com|(617)124-0992|        WI|   53066| Charmaine|     Noble|2018-04-21T12:49:...|     kelsey|123457286| 736,Harrison Avenue|2023-03-01 23:05:...|\n",
      "|4210653317478942|      Mooresville|United States|BArredondo@exampl...|(617)123-7603|        NC|   28115|      Bill| Arredondo|2018-04-21T12:49:...|  cornelius|123454502| 298,Strawberry Lane|2023-03-01 23:05:...|\n",
      "|4210653317631607|       Youngstown|United States|    TLiu@example.com|(617)124-2793|        OH|   44512|       Tom|       Liu|2018-04-21T12:49:...|   kathrine|123456407| 138,Briarwood Court|2023-03-01 23:05:...|\n",
      "|4210653317697275|             Cary|United States|  JEwing@example.com|(617)123-9137|        NC|   27511|   Jacklyn|     Ewing|2018-04-21T12:49:...|    jocelyn|123456940|       429,Ivy Court|2023-03-01 23:05:...|\n",
      "|4210653317717426|     Kernersville|United States|RSheppard@example...|(617)124-1281|        NC|   27284|      Robt|  Sheppard|2018-04-21T12:49:...|    nanette|123457152| 508,Sheffield Drive|2023-03-01 23:05:...|\n",
      "|4210653317772173|       Grandville|United States|LWhitfield@exampl...|(617)124-0248|        MI|   49418|    Lorrie| Whitfield|2018-04-21T12:49:...|      lorna|123457070|335,Broad Street ...|2023-03-01 23:05:...|\n",
      "+----------------+-----------------+-------------+--------------------+-------------+----------+--------+----------+----------+--------------------+-----------+---------+--------------------+--------------------+\n",
      "only showing top 100 rows\n",
      "\n"
     ]
    },
    {
     "data": {
      "text/plain": [
       "DataFrame[Credit_card_no: string, CUST_CITY: string, CUST_COUNTRY: string, CUST_EMAIL: string, CUST_PHONE: string, CUST_STATE: string, CUST_ZIP: string, FIRST_NAME: string, LAST_NAME: string, LAST_UPDATED: string, MIDDLE_NAME: string, SSN: bigint, FULL_STREET_ADDRESS: string, lastUpdated: timestamp]"
      ]
     },
     "execution_count": 46,
     "metadata": {},
     "output_type": "execute_result"
    }
   ],
   "source": [
    "ssn = input(\"Please enter your social security number: \")\n",
    "field = input(\"Please enter in the field you would like to change (Credit_card_no, CUST_CITY, CUST_COUNTRY, \\\n",
    " CUST_EMAIL, CUST_PHONE, CUST_STATE, CUST_ZIP, FIRST_NAME, LAST_NAME, MIDDLE_NAME, SSN): \")\n",
    "new_value = input(\"Please enter the changed information: \")\n",
    "\n",
    "\n",
    "def update_customer_info(ssn, field, new_value):\n",
    "    customers_fun = df_customers\n",
    "    if field in ['CUST_PHONE', 'SSN']:\n",
    "        customers_fun = customers_fun.withColumn(field, when(customers_fun.SSN == ssn, new_value).otherwise(customers_fun[field]))\n",
    "        customers_fun = customers_fun.withColumn('lastUpdated', current_timestamp())\n",
    "    else:\n",
    "        customers_fun = customers_fun.withColumn(field, when(customers_fun.SSN == ssn, new_value).otherwise(customers_fun[field]))\n",
    "        customers_fun = customers_fun.withColumn('lastUpdated', current_timestamp())\n",
    "    customers_fun.write.mode(\"overwrite\").saveAsTable(\"customers\")\n",
    "\n",
    "    customers_fun.show(100)\n",
    "    return customers_fun\n",
    "\n",
    "update_customer_info(ssn, field, new_value)\n",
    "\n",
    "    \n"
   ]
  },
  {
   "cell_type": "code",
   "execution_count": 47,
   "id": "d1df7ebb",
   "metadata": {},
   "outputs": [
    {
     "name": "stdout",
     "output_type": "stream",
     "text": [
      "Please enter your credit card number: 4210653349028689\n",
      "Please enter the year you would like to view the bill for: 2018\n",
      "Please enter the month you would like to view the bill for: 2\n",
      "+----------+---------+---------+------------+\n",
      "|FIRST_NAME|LAST_NAME| CUST_SSN|MONTHLY_BILL|\n",
      "+----------+---------+---------+------------+\n",
      "|    Amalia|   Campos|123459988|      358.91|\n",
      "+----------+---------+---------+------------+\n",
      "\n"
     ]
    }
   ],
   "source": [
    "#4210653349028689,  2  2018\n",
    "cc_number = input(\"Please enter your credit card number: \")\n",
    "year = input(\"Please enter the year you would like to view the bill for: \")\n",
    "month = input(\"Please enter the month you would like to view the bill for: \")\n",
    "\n",
    "def get_customer_bill(cc_number, year, month):\n",
    "    customer_bill = spark.sql(\"SELECT cc.FIRST_NAME, cc.LAST_NAME, cc.CUST_SSN, \\\n",
    "    ROUND(SUM(TRANSACTION_VALUE), 2) AS MONTHLY_BILL \\\n",
    "    FROM cc \\\n",
    "    WHERE cc.CUST_CC_NO = '{}' AND cc.YEAR = {} AND cc.MONTH = {} \\\n",
    "    GROUP BY cc.CUST_SSN, cc.FIRST_NAME, cc.LAST_NAME\".format(str(cc_number), str(year), str(month)))\n",
    "    customer_bill.show()\n",
    "    \n",
    "\n",
    "get_customer_bill(cc_number, year, month)\n"
   ]
  },
  {
   "cell_type": "code",
   "execution_count": 48,
   "id": "a417e1d6",
   "metadata": {},
   "outputs": [],
   "source": [
    "# reset variables need all columns that were dropped earlier\n",
    "df_cust_and_credit = df_credit.join(df_customers, df_credit.CUST_SSN == df_customers.SSN,\"outer\")\n",
    "df_cust_and_credit.createOrReplaceTempView(\"ccbill\")"
   ]
  },
  {
   "cell_type": "code",
   "execution_count": 49,
   "id": "ef7ae7de",
   "metadata": {},
   "outputs": [
    {
     "name": "stdout",
     "output_type": "stream",
     "text": [
      "root\n",
      " |-- BRANCH_CODE: long (nullable = true)\n",
      " |-- CUST_CC_NO: string (nullable = true)\n",
      " |-- CUST_SSN: long (nullable = true)\n",
      " |-- DAY: long (nullable = true)\n",
      " |-- MONTH: long (nullable = true)\n",
      " |-- TRANSACTION_ID: long (nullable = true)\n",
      " |-- TRANSACTION_TYPE: string (nullable = true)\n",
      " |-- TRANSACTION_VALUE: double (nullable = true)\n",
      " |-- YEAR: long (nullable = true)\n",
      " |-- TIMEID: date (nullable = true)\n",
      " |-- Credit_card_no: string (nullable = true)\n",
      " |-- CUST_CITY: string (nullable = true)\n",
      " |-- CUST_COUNTRY: string (nullable = true)\n",
      " |-- CUST_EMAIL: string (nullable = true)\n",
      " |-- CUST_PHONE: string (nullable = true)\n",
      " |-- CUST_STATE: string (nullable = true)\n",
      " |-- CUST_ZIP: string (nullable = true)\n",
      " |-- FIRST_NAME: string (nullable = true)\n",
      " |-- LAST_NAME: string (nullable = true)\n",
      " |-- LAST_UPDATED: string (nullable = true)\n",
      " |-- MIDDLE_NAME: string (nullable = true)\n",
      " |-- SSN: long (nullable = true)\n",
      " |-- FULL_STREET_ADDRESS: string (nullable = true)\n",
      "\n"
     ]
    }
   ],
   "source": [
    "df_cust_and_credit.printSchema()"
   ]
  },
  {
   "cell_type": "code",
   "execution_count": 50,
   "id": "7a8bf466",
   "metadata": {},
   "outputs": [
    {
     "name": "stdout",
     "output_type": "stream",
     "text": [
      "Please enter your social security number: 123452490\n",
      "Please enter your transaction start date as (YYYY-MM-DD): 2018-01-01\n",
      "Please enter your transaction end date as (YYYY-MM-DD): 2018-08-01\n",
      "+----------+---------+-----------------+----------+----------------+\n",
      "|FIRST_NAME|LAST_NAME|TRANSACTION_VALUE|    TIMEID|      CUST_CC_NO|\n",
      "+----------+---------+-----------------+----------+----------------+\n",
      "|     Clara|   Savage|            49.92|2018-08-01|4210653341381529|\n",
      "|     Clara|   Savage|            17.09|2018-07-23|4210653341381529|\n",
      "|     Clara|   Savage|            94.82|2018-07-22|4210653341381529|\n",
      "|     Clara|   Savage|            56.97|2018-07-20|4210653341381529|\n",
      "|     Clara|   Savage|             13.1|2018-07-14|4210653341381529|\n",
      "|     Clara|   Savage|            53.38|2018-07-13|4210653341381529|\n",
      "|     Clara|   Savage|            26.19|2018-07-13|4210653341381529|\n",
      "|     Clara|   Savage|             8.37|2018-07-03|4210653341381529|\n",
      "|     Clara|   Savage|            36.17|2018-06-25|4210653341381529|\n",
      "|     Clara|   Savage|            26.39|2018-06-19|4210653341381529|\n",
      "|     Clara|   Savage|            25.63|2018-06-19|4210653341381529|\n",
      "|     Clara|   Savage|            69.88|2018-06-17|4210653341381529|\n",
      "|     Clara|   Savage|            37.32|2018-06-04|4210653341381529|\n",
      "|     Clara|   Savage|            82.69|2018-06-02|4210653341381529|\n",
      "|     Clara|   Savage|            41.33|2018-05-26|4210653341381529|\n",
      "|     Clara|   Savage|            49.35|2018-05-22|4210653341381529|\n",
      "|     Clara|   Savage|            88.12|2018-05-18|4210653341381529|\n",
      "|     Clara|   Savage|            92.71|2018-05-15|4210653341381529|\n",
      "|     Clara|   Savage|            52.63|2018-05-05|4210653341381529|\n",
      "|     Clara|   Savage|            86.31|2018-05-04|4210653341381529|\n",
      "|     Clara|   Savage|            35.01|2018-05-02|4210653341381529|\n",
      "|     Clara|   Savage|            53.18|2018-04-25|4210653341381529|\n",
      "|     Clara|   Savage|            22.25|2018-04-18|4210653341381529|\n",
      "|     Clara|   Savage|            40.73|2018-04-17|4210653341381529|\n",
      "|     Clara|   Savage|            84.43|2018-04-16|4210653341381529|\n",
      "|     Clara|   Savage|            26.95|2018-04-12|4210653341381529|\n",
      "|     Clara|   Savage|            79.41|2018-03-28|4210653341381529|\n",
      "|     Clara|   Savage|            60.45|2018-03-23|4210653341381529|\n",
      "|     Clara|   Savage|            30.38|2018-03-18|4210653341381529|\n",
      "|     Clara|   Savage|            49.69|2018-03-16|4210653341381529|\n",
      "|     Clara|   Savage|            36.95|2018-03-14|4210653341381529|\n",
      "|     Clara|   Savage|            20.77|2018-03-07|4210653341381529|\n",
      "|     Clara|   Savage|            97.63|2018-03-04|4210653341381529|\n",
      "|     Clara|   Savage|            40.29|2018-03-02|4210653341381529|\n",
      "|     Clara|   Savage|            92.27|2018-02-11|4210653341381529|\n",
      "|     Clara|   Savage|            37.76|2018-02-10|4210653341381529|\n",
      "|     Clara|   Savage|            29.47|2018-02-08|4210653341381529|\n",
      "|     Clara|   Savage|            42.69|2018-02-02|4210653341381529|\n",
      "|     Clara|   Savage|            36.12|2018-02-01|4210653341381529|\n",
      "|     Clara|   Savage|            19.05|2018-01-27|4210653341381529|\n",
      "|     Clara|   Savage|            92.99|2018-01-26|4210653341381529|\n",
      "|     Clara|   Savage|            16.47|2018-01-25|4210653341381529|\n",
      "|     Clara|   Savage|            98.84|2018-01-18|4210653341381529|\n",
      "|     Clara|   Savage|            67.48|2018-01-18|4210653341381529|\n",
      "|     Clara|   Savage|            22.76|2018-01-15|4210653341381529|\n",
      "|     Clara|   Savage|            99.57|2018-01-13|4210653341381529|\n",
      "|     Clara|   Savage|            43.01|2018-01-09|4210653341381529|\n",
      "|     Clara|   Savage|            72.51|2018-01-08|4210653341381529|\n",
      "|     Clara|   Savage|            88.71|2018-01-07|4210653341381529|\n",
      "|     Clara|   Savage|            19.35|2018-01-03|4210653341381529|\n",
      "+----------+---------+-----------------+----------+----------------+\n",
      "\n"
     ]
    }
   ],
   "source": [
    "#123452490\n",
    "\n",
    "ssn = input(\"Please enter your social security number: \")\n",
    "start_date = input(\"Please enter your transaction start date as (YYYY-MM-DD): \")\n",
    "end_date = input(\"Please enter your transaction end date as (YYYY-MM-DD): \")\n",
    "\n",
    "def get_customer_transactions(ssn, start_date, end_date): \n",
    "    customer_transactions = spark.sql(\"SELECT ccbill.FIRST_NAME, ccbill.LAST_NAME, ccbill.TRANSACTION_VALUE, \\\n",
    "    ccbill.TIMEID, ccbill.CUST_CC_NO \\\n",
    "    FROM ccbill \\\n",
    "    WHERE ccbill.SSN = '{}' AND ccbill.TIMEID BETWEEN '{}' AND '{}' \\\n",
    "    ORDER BY YEAR, TIMEID DESC\".format(ssn, start_date, end_date))\n",
    "    customer_transactions.show(2000)\n",
    "\n",
    "get_customer_transactions(ssn, start_date, end_date)"
   ]
  },
  {
   "cell_type": "markdown",
   "id": "a2a5ad24",
   "metadata": {},
   "source": [
    "## 3"
   ]
  },
  {
   "cell_type": "code",
   "execution_count": 51,
   "id": "0d385a90",
   "metadata": {},
   "outputs": [
    {
     "data": {
      "text/plain": [
       "DataFrame[Credit_card_no: string, CUST_CITY: string, CUST_COUNTRY: string, CUST_EMAIL: string, CUST_PHONE: string, CUST_STATE: string, CUST_ZIP: string, FIRST_NAME: string, LAST_NAME: string, LAST_UPDATED: string, MIDDLE_NAME: string, SSN: bigint, FULL_STREET_ADDRESS: string]"
      ]
     },
     "execution_count": 51,
     "metadata": {},
     "output_type": "execute_result"
    }
   ],
   "source": [
    "#recalling spark df from above\n",
    "df_branch\n",
    "df_credit\n",
    "df_customers"
   ]
  },
  {
   "cell_type": "code",
   "execution_count": 52,
   "id": "33ec1436",
   "metadata": {},
   "outputs": [],
   "source": [
    "df_branch_and_credit = df_credit.join(df_branch, df_credit.BRANCH_CODE == df_branch.BRANCHCODE, \"outer\")\n",
    "df_cust_and_credit = df_credit.join(df_customers, df_credit.CUST_SSN == df_customers.SSN,\"outer\")"
   ]
  },
  {
   "cell_type": "code",
   "execution_count": 53,
   "id": "2a86e091",
   "metadata": {},
   "outputs": [],
   "source": [
    "#creating pandas dataframes to use\n",
    "pd_branch = df_branch.toPandas()\n",
    "pd_credit = df_credit.toPandas()\n",
    "pd_customers = df_customers.toPandas()\n",
    "pd_branch_and_credit = df_branch_and_credit.toPandas()\n",
    "pd_cust_and_credit = df_cust_and_credit.toPandas()"
   ]
  },
  {
   "cell_type": "code",
   "execution_count": 54,
   "id": "8580d2d4",
   "metadata": {
    "scrolled": true
   },
   "outputs": [
    {
     "data": {
      "text/plain": [
       "TRANSACTION_TYPE\n",
       "Bills            6861\n",
       "Education        6638\n",
       "Entertainment    6635\n",
       "Gas              6605\n",
       "Grocery          6549\n",
       "Healthcare       6723\n",
       "Test             6683\n",
       "Name: TRANSACTION_TYPE, dtype: int64"
      ]
     },
     "execution_count": 54,
     "metadata": {},
     "output_type": "execute_result"
    }
   ],
   "source": [
    "#df2 = df.groupby(['Courses'])['Courses'].count()\n",
    "transaction_type = pd_credit.groupby(['TRANSACTION_TYPE'])['TRANSACTION_TYPE'].count()\n",
    "transaction_type"
   ]
  },
  {
   "cell_type": "code",
   "execution_count": 55,
   "id": "e97f5302",
   "metadata": {},
   "outputs": [
    {
     "data": {
      "text/plain": [
       "Bills            6861\n",
       "Healthcare       6723\n",
       "Test             6683\n",
       "Education        6638\n",
       "Entertainment    6635\n",
       "Gas              6605\n",
       "Grocery          6549\n",
       "Name: TRANSACTION_TYPE, dtype: int64"
      ]
     },
     "execution_count": 55,
     "metadata": {},
     "output_type": "execute_result"
    }
   ],
   "source": [
    "transaction_names = pd_credit.TRANSACTION_TYPE.value_counts()\n",
    "transaction_names"
   ]
  },
  {
   "cell_type": "code",
   "execution_count": 58,
   "id": "85bb0ae8",
   "metadata": {},
   "outputs": [],
   "source": [
    "transaction_names = pd_credit.TRANSACTION_TYPE.value_counts()\n",
    "types_df = transaction_names.reset_index()\n",
    "types_df.columns = ['categories', 'frequency']"
   ]
  },
  {
   "cell_type": "code",
   "execution_count": 59,
   "id": "c0faa3ba",
   "metadata": {},
   "outputs": [
    {
     "data": {
      "image/png": "[encoded data removed]",
      "text/plain": [
       "<Figure size 1000x500 with 1 Axes>"
      ]
     },
     "metadata": {},
     "output_type": "display_data"
    }
   ],
   "source": [
    "fig, ax = plt.subplots(figsize=(10, 5))\n",
    "ax = sns.barplot(x='categories', y='frequency', data=types_df, color='purple')\n",
    "plt.title('Transaction Type')\n",
    "plt.xlabel('Number of Transactions')\n",
    "plt.ylabel('Transaction Type')\n",
    "plt.ylim(6300, 7000)\n",
    "ax.bar_label(ax.containers[0])\n",
    "plt.savefig('./images/transaction_types_amounts', dpi=500); "
   ]
  },
  {
   "cell_type": "code",
   "execution_count": 60,
   "id": "8c75d9b8",
   "metadata": {},
   "outputs": [
    {
     "data": {
      "text/plain": [
       "CUST_STATE\n",
       "AL     5\n",
       "AR     5\n",
       "CA    45\n",
       "CT    14\n",
       "FL    64\n",
       "GA    73\n",
       "IA    21\n",
       "IL    58\n",
       "IN    13\n",
       "KY    17\n",
       "MA    33\n",
       "MD    50\n",
       "MI    44\n",
       "MN    28\n",
       "MS    24\n",
       "MT     9\n",
       "NC    37\n",
       "NJ    53\n",
       "NY    96\n",
       "OH    44\n",
       "PA    72\n",
       "SC    30\n",
       "TX    33\n",
       "VA    39\n",
       "WA    16\n",
       "WI    29\n",
       "Name: CUST_STATE, dtype: int64"
      ]
     },
     "execution_count": 60,
     "metadata": {},
     "output_type": "execute_result"
    }
   ],
   "source": [
    "states = pd_customers.groupby(['CUST_STATE'])['CUST_STATE'].count()\n",
    "states"
   ]
  },
  {
   "cell_type": "code",
   "execution_count": 61,
   "id": "da03bc99",
   "metadata": {},
   "outputs": [
    {
     "data": {
      "text/html": [
       "<div>\n",
       "<style scoped>\n",
       "    .dataframe tbody tr th:only-of-type {\n",
       "        vertical-align: middle;\n",
       "    }\n",
       "\n",
       "    .dataframe tbody tr th {\n",
       "        vertical-align: top;\n",
       "    }\n",
       "\n",
       "    .dataframe thead th {\n",
       "        text-align: right;\n",
       "    }\n",
       "</style>\n",
       "<table border=\"1\" class=\"dataframe\">\n",
       "  <thead>\n",
       "    <tr style=\"text-align: right;\">\n",
       "      <th></th>\n",
       "      <th>states</th>\n",
       "      <th>frequency</th>\n",
       "    </tr>\n",
       "  </thead>\n",
       "  <tbody>\n",
       "    <tr>\n",
       "      <th>0</th>\n",
       "      <td>NY</td>\n",
       "      <td>96</td>\n",
       "    </tr>\n",
       "    <tr>\n",
       "      <th>1</th>\n",
       "      <td>GA</td>\n",
       "      <td>73</td>\n",
       "    </tr>\n",
       "    <tr>\n",
       "      <th>2</th>\n",
       "      <td>PA</td>\n",
       "      <td>72</td>\n",
       "    </tr>\n",
       "    <tr>\n",
       "      <th>3</th>\n",
       "      <td>FL</td>\n",
       "      <td>64</td>\n",
       "    </tr>\n",
       "    <tr>\n",
       "      <th>4</th>\n",
       "      <td>IL</td>\n",
       "      <td>58</td>\n",
       "    </tr>\n",
       "    <tr>\n",
       "      <th>5</th>\n",
       "      <td>NJ</td>\n",
       "      <td>53</td>\n",
       "    </tr>\n",
       "    <tr>\n",
       "      <th>6</th>\n",
       "      <td>MD</td>\n",
       "      <td>50</td>\n",
       "    </tr>\n",
       "    <tr>\n",
       "      <th>7</th>\n",
       "      <td>CA</td>\n",
       "      <td>45</td>\n",
       "    </tr>\n",
       "    <tr>\n",
       "      <th>8</th>\n",
       "      <td>OH</td>\n",
       "      <td>44</td>\n",
       "    </tr>\n",
       "    <tr>\n",
       "      <th>9</th>\n",
       "      <td>MI</td>\n",
       "      <td>44</td>\n",
       "    </tr>\n",
       "    <tr>\n",
       "      <th>10</th>\n",
       "      <td>VA</td>\n",
       "      <td>39</td>\n",
       "    </tr>\n",
       "    <tr>\n",
       "      <th>11</th>\n",
       "      <td>NC</td>\n",
       "      <td>37</td>\n",
       "    </tr>\n",
       "    <tr>\n",
       "      <th>12</th>\n",
       "      <td>TX</td>\n",
       "      <td>33</td>\n",
       "    </tr>\n",
       "    <tr>\n",
       "      <th>13</th>\n",
       "      <td>MA</td>\n",
       "      <td>33</td>\n",
       "    </tr>\n",
       "    <tr>\n",
       "      <th>14</th>\n",
       "      <td>SC</td>\n",
       "      <td>30</td>\n",
       "    </tr>\n",
       "    <tr>\n",
       "      <th>15</th>\n",
       "      <td>WI</td>\n",
       "      <td>29</td>\n",
       "    </tr>\n",
       "    <tr>\n",
       "      <th>16</th>\n",
       "      <td>MN</td>\n",
       "      <td>28</td>\n",
       "    </tr>\n",
       "    <tr>\n",
       "      <th>17</th>\n",
       "      <td>MS</td>\n",
       "      <td>24</td>\n",
       "    </tr>\n",
       "    <tr>\n",
       "      <th>18</th>\n",
       "      <td>IA</td>\n",
       "      <td>21</td>\n",
       "    </tr>\n",
       "    <tr>\n",
       "      <th>19</th>\n",
       "      <td>KY</td>\n",
       "      <td>17</td>\n",
       "    </tr>\n",
       "    <tr>\n",
       "      <th>20</th>\n",
       "      <td>WA</td>\n",
       "      <td>16</td>\n",
       "    </tr>\n",
       "    <tr>\n",
       "      <th>21</th>\n",
       "      <td>CT</td>\n",
       "      <td>14</td>\n",
       "    </tr>\n",
       "    <tr>\n",
       "      <th>22</th>\n",
       "      <td>IN</td>\n",
       "      <td>13</td>\n",
       "    </tr>\n",
       "    <tr>\n",
       "      <th>23</th>\n",
       "      <td>MT</td>\n",
       "      <td>9</td>\n",
       "    </tr>\n",
       "    <tr>\n",
       "      <th>24</th>\n",
       "      <td>AR</td>\n",
       "      <td>5</td>\n",
       "    </tr>\n",
       "    <tr>\n",
       "      <th>25</th>\n",
       "      <td>AL</td>\n",
       "      <td>5</td>\n",
       "    </tr>\n",
       "  </tbody>\n",
       "</table>\n",
       "</div>"
      ],
      "text/plain": [
       "   states  frequency\n",
       "0      NY         96\n",
       "1      GA         73\n",
       "2      PA         72\n",
       "3      FL         64\n",
       "4      IL         58\n",
       "5      NJ         53\n",
       "6      MD         50\n",
       "7      CA         45\n",
       "8      OH         44\n",
       "9      MI         44\n",
       "10     VA         39\n",
       "11     NC         37\n",
       "12     TX         33\n",
       "13     MA         33\n",
       "14     SC         30\n",
       "15     WI         29\n",
       "16     MN         28\n",
       "17     MS         24\n",
       "18     IA         21\n",
       "19     KY         17\n",
       "20     WA         16\n",
       "21     CT         14\n",
       "22     IN         13\n",
       "23     MT          9\n",
       "24     AR          5\n",
       "25     AL          5"
      ]
     },
     "execution_count": 61,
     "metadata": {},
     "output_type": "execute_result"
    }
   ],
   "source": [
    "state_names= pd_customers.CUST_STATE.value_counts()\n",
    "state_count = state_names.reset_index()\n",
    "state_count.columns = ['states', 'frequency']\n",
    "state_count"
   ]
  },
  {
   "cell_type": "code",
   "execution_count": 62,
   "id": "fcd3ca37",
   "metadata": {},
   "outputs": [
    {
     "data": {
      "text/html": [
       "<div>\n",
       "<style scoped>\n",
       "    .dataframe tbody tr th:only-of-type {\n",
       "        vertical-align: middle;\n",
       "    }\n",
       "\n",
       "    .dataframe tbody tr th {\n",
       "        vertical-align: top;\n",
       "    }\n",
       "\n",
       "    .dataframe thead th {\n",
       "        text-align: right;\n",
       "    }\n",
       "</style>\n",
       "<table border=\"1\" class=\"dataframe\">\n",
       "  <thead>\n",
       "    <tr style=\"text-align: right;\">\n",
       "      <th></th>\n",
       "      <th>states</th>\n",
       "      <th>frequency</th>\n",
       "    </tr>\n",
       "  </thead>\n",
       "  <tbody>\n",
       "    <tr>\n",
       "      <th>0</th>\n",
       "      <td>NY</td>\n",
       "      <td>96</td>\n",
       "    </tr>\n",
       "    <tr>\n",
       "      <th>1</th>\n",
       "      <td>GA</td>\n",
       "      <td>73</td>\n",
       "    </tr>\n",
       "    <tr>\n",
       "      <th>2</th>\n",
       "      <td>PA</td>\n",
       "      <td>72</td>\n",
       "    </tr>\n",
       "    <tr>\n",
       "      <th>3</th>\n",
       "      <td>FL</td>\n",
       "      <td>64</td>\n",
       "    </tr>\n",
       "    <tr>\n",
       "      <th>4</th>\n",
       "      <td>IL</td>\n",
       "      <td>58</td>\n",
       "    </tr>\n",
       "    <tr>\n",
       "      <th>5</th>\n",
       "      <td>NJ</td>\n",
       "      <td>53</td>\n",
       "    </tr>\n",
       "    <tr>\n",
       "      <th>6</th>\n",
       "      <td>MD</td>\n",
       "      <td>50</td>\n",
       "    </tr>\n",
       "    <tr>\n",
       "      <th>7</th>\n",
       "      <td>CA</td>\n",
       "      <td>45</td>\n",
       "    </tr>\n",
       "  </tbody>\n",
       "</table>\n",
       "</div>"
      ],
      "text/plain": [
       "  states  frequency\n",
       "0     NY         96\n",
       "1     GA         73\n",
       "2     PA         72\n",
       "3     FL         64\n",
       "4     IL         58\n",
       "5     NJ         53\n",
       "6     MD         50\n",
       "7     CA         45"
      ]
     },
     "execution_count": 62,
     "metadata": {},
     "output_type": "execute_result"
    }
   ],
   "source": [
    "#limit 8\n",
    "top_8_states = state_count.nlargest(8, ['frequency'])\n",
    "top_8_states"
   ]
  },
  {
   "cell_type": "code",
   "execution_count": 63,
   "id": "0fd97666",
   "metadata": {},
   "outputs": [
    {
     "data": {
      "image/png": "[encoded data removed]",
      "text/plain": [
       "<Figure size 1000x500 with 1 Axes>"
      ]
     },
     "metadata": {},
     "output_type": "display_data"
    }
   ],
   "source": [
    "fig, ax = plt.subplots(figsize=(10, 5))\n",
    "ax = sns.barplot(x='states', y='frequency', data=top_8_states, color='green')\n",
    "#ax.set_title('Transaction Type')\n",
    "#ax.set_xlabel('Number of Transactions')\n",
    "#ax.set_ylabel('Transaction Type')\n",
    "#ax.set_ylim(6300, 7000)\n",
    "plt.title('Top 8 States with the Highest Customers')\n",
    "plt.xlabel('States')\n",
    "plt.ylabel('Frequency')\n",
    "plt.ylim(25, 125)\n",
    "ax.bar_label(ax.containers[0])\n",
    "plt.savefig('./images/top_8_states_by_customer', dpi=500);"
   ]
  },
  {
   "cell_type": "code",
   "execution_count": 64,
   "id": "29b4a35d",
   "metadata": {},
   "outputs": [
    {
     "data": {
      "text/plain": [
       "CUST_SSN\n",
       "123451007    2037.98\n",
       "123451012    4025.69\n",
       "123451037    2122.20\n",
       "123451041    1085.14\n",
       "123451068    2810.54\n",
       "              ...   \n",
       "123459940      96.27\n",
       "123459965    2152.70\n",
       "123459968     964.21\n",
       "123459978    3091.78\n",
       "123459988    4760.29\n",
       "Name: TRANSACTION_VALUE, Length: 952, dtype: float64"
      ]
     },
     "execution_count": 64,
     "metadata": {},
     "output_type": "execute_result"
    }
   ],
   "source": [
    "customer_transaction = pd_credit.groupby(['CUST_SSN'])['TRANSACTION_VALUE'].sum()\n",
    "customer_transaction"
   ]
  },
  {
   "cell_type": "code",
   "execution_count": 65,
   "id": "3a3f66a3",
   "metadata": {},
   "outputs": [
    {
     "data": {
      "text/html": [
       "<div>\n",
       "<style scoped>\n",
       "    .dataframe tbody tr th:only-of-type {\n",
       "        vertical-align: middle;\n",
       "    }\n",
       "\n",
       "    .dataframe tbody tr th {\n",
       "        vertical-align: top;\n",
       "    }\n",
       "\n",
       "    .dataframe thead th {\n",
       "        text-align: right;\n",
       "    }\n",
       "</style>\n",
       "<table border=\"1\" class=\"dataframe\">\n",
       "  <thead>\n",
       "    <tr style=\"text-align: right;\">\n",
       "      <th></th>\n",
       "      <th>CUST_SSN</th>\n",
       "      <th>TRANSACTION_VALUE</th>\n",
       "    </tr>\n",
       "  </thead>\n",
       "  <tbody>\n",
       "    <tr>\n",
       "      <th>14</th>\n",
       "      <td>123451125</td>\n",
       "      <td>5633.07</td>\n",
       "    </tr>\n",
       "    <tr>\n",
       "      <th>177</th>\n",
       "      <td>123452783</td>\n",
       "      <td>5548.14</td>\n",
       "    </tr>\n",
       "    <tr>\n",
       "      <th>248</th>\n",
       "      <td>123453486</td>\n",
       "      <td>5476.08</td>\n",
       "    </tr>\n",
       "    <tr>\n",
       "      <th>814</th>\n",
       "      <td>123458668</td>\n",
       "      <td>5314.97</td>\n",
       "    </tr>\n",
       "    <tr>\n",
       "      <th>599</th>\n",
       "      <td>123456678</td>\n",
       "      <td>5261.03</td>\n",
       "    </tr>\n",
       "    <tr>\n",
       "      <th>...</th>\n",
       "      <td>...</td>\n",
       "      <td>...</td>\n",
       "    </tr>\n",
       "    <tr>\n",
       "      <th>493</th>\n",
       "      <td>123455652</td>\n",
       "      <td>73.59</td>\n",
       "    </tr>\n",
       "    <tr>\n",
       "      <th>238</th>\n",
       "      <td>123453375</td>\n",
       "      <td>73.08</td>\n",
       "    </tr>\n",
       "    <tr>\n",
       "      <th>873</th>\n",
       "      <td>123459201</td>\n",
       "      <td>61.67</td>\n",
       "    </tr>\n",
       "    <tr>\n",
       "      <th>129</th>\n",
       "      <td>123452345</td>\n",
       "      <td>10.41</td>\n",
       "    </tr>\n",
       "    <tr>\n",
       "      <th>82</th>\n",
       "      <td>123451837</td>\n",
       "      <td>2.15</td>\n",
       "    </tr>\n",
       "  </tbody>\n",
       "</table>\n",
       "<p>952 rows × 2 columns</p>\n",
       "</div>"
      ],
      "text/plain": [
       "      CUST_SSN  TRANSACTION_VALUE\n",
       "14   123451125            5633.07\n",
       "177  123452783            5548.14\n",
       "248  123453486            5476.08\n",
       "814  123458668            5314.97\n",
       "599  123456678            5261.03\n",
       "..         ...                ...\n",
       "493  123455652              73.59\n",
       "238  123453375              73.08\n",
       "873  123459201              61.67\n",
       "129  123452345              10.41\n",
       "82   123451837               2.15\n",
       "\n",
       "[952 rows x 2 columns]"
      ]
     },
     "execution_count": 65,
     "metadata": {},
     "output_type": "execute_result"
    }
   ],
   "source": [
    "individual_cust = customer_transaction.reset_index()\n",
    "individual_cust.sort_values(by=['TRANSACTION_VALUE'], ascending=False, inplace=True)\n",
    "individual_cust"
   ]
  },
  {
   "cell_type": "code",
   "execution_count": 66,
   "id": "b4eef8d2",
   "metadata": {},
   "outputs": [
    {
     "data": {
      "text/html": [
       "<div>\n",
       "<style scoped>\n",
       "    .dataframe tbody tr th:only-of-type {\n",
       "        vertical-align: middle;\n",
       "    }\n",
       "\n",
       "    .dataframe tbody tr th {\n",
       "        vertical-align: top;\n",
       "    }\n",
       "\n",
       "    .dataframe thead th {\n",
       "        text-align: right;\n",
       "    }\n",
       "</style>\n",
       "<table border=\"1\" class=\"dataframe\">\n",
       "  <thead>\n",
       "    <tr style=\"text-align: right;\">\n",
       "      <th></th>\n",
       "      <th>CUST_SSN</th>\n",
       "      <th>TRANSACTION_VALUE</th>\n",
       "    </tr>\n",
       "  </thead>\n",
       "  <tbody>\n",
       "    <tr>\n",
       "      <th>14</th>\n",
       "      <td>123451125</td>\n",
       "      <td>5633.07</td>\n",
       "    </tr>\n",
       "  </tbody>\n",
       "</table>\n",
       "</div>"
      ],
      "text/plain": [
       "     CUST_SSN  TRANSACTION_VALUE\n",
       "14  123451125            5633.07"
      ]
     },
     "execution_count": 66,
     "metadata": {},
     "output_type": "execute_result"
    }
   ],
   "source": [
    "biggest_spender = individual_cust.sort_values(by=['TRANSACTION_VALUE'], ascending=False).head(1)\n",
    "biggest_spender"
   ]
  },
  {
   "cell_type": "code",
   "execution_count": 67,
   "id": "9132dbeb",
   "metadata": {},
   "outputs": [
    {
     "data": {
      "text/html": [
       "<div>\n",
       "<style scoped>\n",
       "    .dataframe tbody tr th:only-of-type {\n",
       "        vertical-align: middle;\n",
       "    }\n",
       "\n",
       "    .dataframe tbody tr th {\n",
       "        vertical-align: top;\n",
       "    }\n",
       "\n",
       "    .dataframe thead th {\n",
       "        text-align: right;\n",
       "    }\n",
       "</style>\n",
       "<table border=\"1\" class=\"dataframe\">\n",
       "  <thead>\n",
       "    <tr style=\"text-align: right;\">\n",
       "      <th></th>\n",
       "      <th>CUST_SSN</th>\n",
       "      <th>TRANSACTION_VALUE</th>\n",
       "    </tr>\n",
       "  </thead>\n",
       "  <tbody>\n",
       "    <tr>\n",
       "      <th>14</th>\n",
       "      <td>123451125</td>\n",
       "      <td>5633.07</td>\n",
       "    </tr>\n",
       "    <tr>\n",
       "      <th>177</th>\n",
       "      <td>123452783</td>\n",
       "      <td>5548.14</td>\n",
       "    </tr>\n",
       "    <tr>\n",
       "      <th>248</th>\n",
       "      <td>123453486</td>\n",
       "      <td>5476.08</td>\n",
       "    </tr>\n",
       "    <tr>\n",
       "      <th>814</th>\n",
       "      <td>123458668</td>\n",
       "      <td>5314.97</td>\n",
       "    </tr>\n",
       "    <tr>\n",
       "      <th>599</th>\n",
       "      <td>123456678</td>\n",
       "      <td>5261.03</td>\n",
       "    </tr>\n",
       "    <tr>\n",
       "      <th>99</th>\n",
       "      <td>123452026</td>\n",
       "      <td>5241.18</td>\n",
       "    </tr>\n",
       "    <tr>\n",
       "      <th>152</th>\n",
       "      <td>123452518</td>\n",
       "      <td>5223.96</td>\n",
       "    </tr>\n",
       "    <tr>\n",
       "      <th>414</th>\n",
       "      <td>123454933</td>\n",
       "      <td>5203.08</td>\n",
       "    </tr>\n",
       "    <tr>\n",
       "      <th>693</th>\n",
       "      <td>123457547</td>\n",
       "      <td>5149.75</td>\n",
       "    </tr>\n",
       "    <tr>\n",
       "      <th>102</th>\n",
       "      <td>123452085</td>\n",
       "      <td>5133.29</td>\n",
       "    </tr>\n",
       "    <tr>\n",
       "      <th>524</th>\n",
       "      <td>123455898</td>\n",
       "      <td>5062.33</td>\n",
       "    </tr>\n",
       "    <tr>\n",
       "      <th>617</th>\n",
       "      <td>123456862</td>\n",
       "      <td>5046.07</td>\n",
       "    </tr>\n",
       "    <tr>\n",
       "      <th>69</th>\n",
       "      <td>123451701</td>\n",
       "      <td>5023.65</td>\n",
       "    </tr>\n",
       "    <tr>\n",
       "      <th>637</th>\n",
       "      <td>123457070</td>\n",
       "      <td>5014.01</td>\n",
       "    </tr>\n",
       "    <tr>\n",
       "      <th>699</th>\n",
       "      <td>123457654</td>\n",
       "      <td>5012.81</td>\n",
       "    </tr>\n",
       "  </tbody>\n",
       "</table>\n",
       "</div>"
      ],
      "text/plain": [
       "      CUST_SSN  TRANSACTION_VALUE\n",
       "14   123451125            5633.07\n",
       "177  123452783            5548.14\n",
       "248  123453486            5476.08\n",
       "814  123458668            5314.97\n",
       "599  123456678            5261.03\n",
       "99   123452026            5241.18\n",
       "152  123452518            5223.96\n",
       "414  123454933            5203.08\n",
       "693  123457547            5149.75\n",
       "102  123452085            5133.29\n",
       "524  123455898            5062.33\n",
       "617  123456862            5046.07\n",
       "69   123451701            5023.65\n",
       "637  123457070            5014.01\n",
       "699  123457654            5012.81"
      ]
     },
     "execution_count": 67,
     "metadata": {},
     "output_type": "execute_result"
    }
   ],
   "source": [
    "top_15_customers= individual_cust.nlargest(15, ['TRANSACTION_VALUE'])\n",
    "top_15_customers"
   ]
  },
  {
   "cell_type": "code",
   "execution_count": 68,
   "id": "605e1b26",
   "metadata": {},
   "outputs": [
    {
     "data": {
      "image/png": "[encoded data removed]",
      "text/plain": [
       "<Figure size 1500x1000 with 1 Axes>"
      ]
     },
     "metadata": {},
     "output_type": "display_data"
    }
   ],
   "source": [
    "\n",
    "fig, ax = plt.subplots(figsize=(15, 10))\n",
    "ax = sns.barplot(x='CUST_SSN', y='TRANSACTION_VALUE', data=top_15_customers, color='purple')\n",
    "#ax.set_title('Transaction Type')\n",
    "#ax.set_xlabel('Number of Transactions')\n",
    "#ax.set_ylabel('Transaction Type')\n",
    "#ax.set_ylim(6300, 7000)\n",
    "plt.title('Top 15 Customers with the Highest Total Transaction Amounts')\n",
    "plt.xlabel('Customer by SSN')\n",
    "plt.ylabel('Total Transaction Amount')\n",
    "plt.ylim(4700, 5900)\n",
    "ax.set_xticklabels(ax.get_xticklabels(), rotation=45)\n",
    "ax.bar_label(ax.containers[0])\n",
    "plt.savefig('./images/top15_customers_by_total_transaction_amounts', dpi=500);"
   ]
  },
  {
   "cell_type": "code",
   "execution_count": null,
   "id": "6967adb0",
   "metadata": {},
   "outputs": [],
   "source": []
  },
  {
   "cell_type": "code",
   "execution_count": 69,
   "id": "c894bacc",
   "metadata": {},
   "outputs": [],
   "source": [
    "pd_branch.to_csv('/Users/purple/Documents/Project/Data_Engineering/Python/Capstone1/data/pd_branch.csv', index=False)\n",
    "pd_credit.to_csv('/Users/purple/Documents/Project/Data_Engineering/Python/Capstone1/data/pd_credit.csv', index=False)\n",
    "pd_customers.to_csv('/Users/purple/Documents/Project/Data_Engineering/Python/Capstone1/data/pd_customers.csv', index=False)\n",
    "pd_branch_and_credit.to_csv('/Users/purple/Documents/Project/Data_Engineering/Python/Capstone1/data/pd_branch_and_credit.csv', index=False)\n",
    "pd_cust_and_credit.to_csv('/Users/purple/Documents/Project/Data_Engineering/Python/Capstone1/data/pd_cust_and_credit.csv', index=False)"
   ]
  },
  {
   "cell_type": "code",
   "execution_count": 70,
   "id": "626ba04d",
   "metadata": {},
   "outputs": [],
   "source": [
    "## exporting pandas dataframes to use further\n"
   ]
  },
  {
   "cell_type": "code",
   "execution_count": null,
   "id": "4404b57d",
   "metadata": {},
   "outputs": [],
   "source": []
  },
  {
   "cell_type": "code",
   "execution_count": 71,
   "id": "efc23658",
   "metadata": {},
   "outputs": [],
   "source": [
    "spark.stop()"
   ]
  },
  {
   "cell_type": "code",
   "execution_count": null,
   "id": "907de0f3",
   "metadata": {},
   "outputs": [],
   "source": []
  }
 ],
 "metadata": {
  "kernelspec": {
   "display_name": "ps_capstone",
   "language": "python",
   "name": "ps_capstone"
  },
  "language_info": {
   "codemirror_mode": {
    "name": "ipython",
    "version": 3
   },
   "file_extension": ".py",
   "mimetype": "text/x-python",
   "name": "python",
   "nbconvert_exporter": "python",
   "pygments_lexer": "ipython3",
   "version": "3.10.9"
  }
 },
 "nbformat": 4,
 "nbformat_minor": 5
}
