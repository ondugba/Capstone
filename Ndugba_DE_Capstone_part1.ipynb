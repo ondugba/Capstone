{
 "cells": [
  {
   "cell_type": "code",
   "execution_count": 1,
   "id": "3d94c91d",
   "metadata": {},
   "outputs": [],
   "source": [
    "# Imports \n",
    "import findspark\n",
    "findspark.add_packages('mysql:mysql-connector-java:8.0.11')\n",
    "from pyspark.sql import SparkSession\n",
    "from pyspark.sql.functions import*\n",
    "from pyspark.sql.types import*\n",
    "\n",
    "import ipywidgets as widgets\n",
    "import matplotlib.pyplot as plt\n",
    "import numpy as np\n",
    "import pandas as pd\n",
    "\n",
    "import requests\n",
    "import seaborn as sns\n",
    "import warnings\n",
    "warnings.filterwarnings(\"ignore\") \n"
   ]
  },
  {
   "cell_type": "markdown",
   "id": "c388b414",
   "metadata": {},
   "source": [
    "## Loading Data and creating Spark DataFrames"
   ]
  },
  {
   "cell_type": "code",
   "execution_count": 2,
   "id": "f5a99316",
   "metadata": {},
   "outputs": [
    {
     "name": "stdout",
     "output_type": "stream",
     "text": [
      ":: loading settings :: url = jar:file:/Users/purple/opt/anaconda3/envs/ps_capstone/lib/python3.10/site-packages/pyspark/jars/ivy-2.5.0.jar!/org/apache/ivy/core/settings/ivysettings.xml\n"
     ]
    },
    {
     "name": "stderr",
     "output_type": "stream",
     "text": [
      "Ivy Default Cache set to: /Users/purple/.ivy2/cache\n",
      "The jars for the packages stored in: /Users/purple/.ivy2/jars\n",
      "mysql#mysql-connector-java added as a dependency\n",
      ":: resolving dependencies :: org.apache.spark#spark-submit-parent-7fd2e20f-f367-4dfe-b8cb-d2d2f0f215ab;1.0\n",
      "\tconfs: [default]\n",
      "\tfound mysql#mysql-connector-java;8.0.11 in central\n",
      "\tfound com.google.protobuf#protobuf-java;2.6.0 in central\n",
      ":: resolution report :: resolve 174ms :: artifacts dl 9ms\n",
      "\t:: modules in use:\n",
      "\tcom.google.protobuf#protobuf-java;2.6.0 from central in [default]\n",
      "\tmysql#mysql-connector-java;8.0.11 from central in [default]\n",
      "\t---------------------------------------------------------------------\n",
      "\t|                  |            modules            ||   artifacts   |\n",
      "\t|       conf       | number| search|dwnlded|evicted|| number|dwnlded|\n",
      "\t---------------------------------------------------------------------\n",
      "\t|      default     |   2   |   0   |   0   |   0   ||   2   |   0   |\n",
      "\t---------------------------------------------------------------------\n",
      ":: retrieving :: org.apache.spark#spark-submit-parent-7fd2e20f-f367-4dfe-b8cb-d2d2f0f215ab\n",
      "\tconfs: [default]\n",
      "\t0 artifacts copied, 2 already retrieved (0kB/6ms)\n",
      "23/03/02 02:39:26 WARN NativeCodeLoader: Unable to load native-hadoop library for your platform... using builtin-java classes where applicable\n",
      "Using Spark's default log4j profile: org/apache/spark/log4j-defaults.properties\n",
      "Setting default log level to \"WARN\".\n",
      "To adjust logging level use sc.setLogLevel(newLevel). For SparkR, use setLogLevel(newLevel).\n"
     ]
    }
   ],
   "source": [
    "spark = SparkSession.builder.master(\"local[*]\").appName(\"Credit_Cards\").getOrCreate()"
   ]
  },
  {
   "cell_type": "code",
   "execution_count": 3,
   "id": "21095632",
   "metadata": {},
   "outputs": [
    {
     "name": "stderr",
     "output_type": "stream",
     "text": [
      "                                                                                \r"
     ]
    }
   ],
   "source": [
    "df_branch = spark.read.json('data/cdw_sapp_branch.json')  \n",
    "df_credit = spark.read.json('data/cdw_sapp_credit.json') \n",
    "df_customers = spark.read.json('data/cdw_sapp_custmer.json')"
   ]
  },
  {
   "cell_type": "code",
   "execution_count": 4,
   "id": "c4346005",
   "metadata": {},
   "outputs": [
    {
     "data": {
      "text/plain": [
       "pyspark.sql.dataframe.DataFrame"
      ]
     },
     "execution_count": 4,
     "metadata": {},
     "output_type": "execute_result"
    }
   ],
   "source": [
    "type(df_branch)"
   ]
  },
  {
   "cell_type": "markdown",
   "id": "5738c810",
   "metadata": {},
   "source": [
    "# Cleaning DataFrames\n"
   ]
  },
  {
   "cell_type": "markdown",
   "id": "6ff156fc",
   "metadata": {},
   "source": [
    "### Cleaning the branch df"
   ]
  },
  {
   "cell_type": "code",
   "execution_count": 5,
   "id": "6f2ec16d",
   "metadata": {},
   "outputs": [
    {
     "name": "stdout",
     "output_type": "stream",
     "text": [
      "+-----------------+-----------+------------+------------+------------+-----------------+----------+--------------------+\n",
      "|      BRANCH_CITY|BRANCH_CODE| BRANCH_NAME|BRANCH_PHONE|BRANCH_STATE|    BRANCH_STREET|BRANCH_ZIP|        LAST_UPDATED|\n",
      "+-----------------+-----------+------------+------------+------------+-----------------+----------+--------------------+\n",
      "|        Lakeville|          1|Example Bank|  1234565276|          MN|     Bridle Court|     55044|2018-04-18T16:51:...|\n",
      "|          Huntley|          2|Example Bank|  1234618993|          IL|Washington Street|     60142|2018-04-18T16:51:...|\n",
      "|SouthRichmondHill|          3|Example Bank|  1234985926|          NY|    Warren Street|     11419|2018-04-18T16:51:...|\n",
      "|       Middleburg|          4|Example Bank|  1234663064|          FL| Cleveland Street|     32068|2018-04-18T16:51:...|\n",
      "|    KingOfPrussia|          5|Example Bank|  1234849701|          PA|      14th Street|     19406|2018-04-18T16:51:...|\n",
      "+-----------------+-----------+------------+------------+------------+-----------------+----------+--------------------+\n",
      "only showing top 5 rows\n",
      "\n"
     ]
    }
   ],
   "source": [
    "df_branch.show(5)"
   ]
  },
  {
   "cell_type": "code",
   "execution_count": 6,
   "id": "715e0686",
   "metadata": {},
   "outputs": [
    {
     "data": {
      "text/plain": [
       "['BRANCH_CITY',\n",
       " 'BRANCH_CODE',\n",
       " 'BRANCH_NAME',\n",
       " 'BRANCH_PHONE',\n",
       " 'BRANCH_STATE',\n",
       " 'BRANCH_STREET',\n",
       " 'BRANCH_ZIP',\n",
       " 'LAST_UPDATED']"
      ]
     },
     "execution_count": 6,
     "metadata": {},
     "output_type": "execute_result"
    }
   ],
   "source": [
    "df_branch.columns"
   ]
  },
  {
   "cell_type": "code",
   "execution_count": 7,
   "id": "271acbad",
   "metadata": {},
   "outputs": [
    {
     "name": "stdout",
     "output_type": "stream",
     "text": [
      "+------------+\n",
      "|BRANCH_PHONE|\n",
      "+------------+\n",
      "|  1234565276|\n",
      "|  1234618993|\n",
      "|  1234985926|\n",
      "|  1234663064|\n",
      "|  1234849701|\n",
      "+------------+\n",
      "only showing top 5 rows\n",
      "\n"
     ]
    }
   ],
   "source": [
    "df_branch.select('BRANCH_PHONE').show(5)"
   ]
  },
  {
   "cell_type": "code",
   "execution_count": 8,
   "id": "b137eb43",
   "metadata": {},
   "outputs": [
    {
     "name": "stdout",
     "output_type": "stream",
     "text": [
      "+-------------+\n",
      "| BRANCH_PHONE|\n",
      "+-------------+\n",
      "|(123)456-5276|\n",
      "|(123)461-8993|\n",
      "|(123)498-5926|\n",
      "|(123)466-3064|\n",
      "|(123)484-9701|\n",
      "+-------------+\n",
      "only showing top 5 rows\n",
      "\n"
     ]
    }
   ],
   "source": [
    "#transforming the branch df\n",
    "df_branch = df_branch.withColumn('BRANCH_PHONE', concat(lit('('), col('BRANCH_PHONE')[0:3], lit(')'), \n",
    "                                col('BRANCH_PHONE')[4:3], lit('-'), col('BRANCH_PHONE')[7:9]))\n",
    "\n",
    "df_branch.select('BRANCH_PHONE').show(5)"
   ]
  },
  {
   "cell_type": "code",
   "execution_count": 9,
   "id": "1e773b16",
   "metadata": {},
   "outputs": [
    {
     "name": "stdout",
     "output_type": "stream",
     "text": [
      "+-----------+-----------+-----------+------------+------------+-------------+----------+------------+\n",
      "|BRANCH_CITY|BRANCH_CODE|BRANCH_NAME|BRANCH_PHONE|BRANCH_STATE|BRANCH_STREET|BRANCH_ZIP|LAST_UPDATED|\n",
      "+-----------+-----------+-----------+------------+------------+-------------+----------+------------+\n",
      "+-----------+-----------+-----------+------------+------------+-------------+----------+------------+\n",
      "\n"
     ]
    }
   ],
   "source": [
    "#checking for nulls in zip code\n",
    "df_branch.filter(df_branch.BRANCH_ZIP.isNull()).show()"
   ]
  },
  {
   "cell_type": "code",
   "execution_count": 10,
   "id": "53df8674",
   "metadata": {},
   "outputs": [
    {
     "name": "stdout",
     "output_type": "stream",
     "text": [
      "115\n",
      "0\n",
      "115\n"
     ]
    }
   ],
   "source": [
    "#there are no nulls in branch zip\n",
    "print(df_branch.count())\n",
    "print(df_branch.filter(col('BRANCH_ZIP').isNull()).count())\n",
    "print(df_branch.filter(col('BRANCH_ZIP').isNotNull()).count())"
   ]
  },
  {
   "cell_type": "code",
   "execution_count": 11,
   "id": "001cf129",
   "metadata": {},
   "outputs": [
    {
     "data": {
      "text/plain": [
       "DataFrame[BRANCH_CITY: string, BRANCH_CODE: bigint, BRANCH_NAME: string, BRANCH_PHONE: string, BRANCH_STATE: string, BRANCH_STREET: string, BRANCH_ZIP: bigint, LAST_UPDATED: string]"
      ]
     },
     "execution_count": 11,
     "metadata": {},
     "output_type": "execute_result"
    }
   ],
   "source": [
    "df_branch.na.fill(value=99999,subset=['BRANCH_ZIP'])\n"
   ]
  },
  {
   "cell_type": "markdown",
   "id": "155edf12",
   "metadata": {},
   "source": [
    "### Cleaning the credit df"
   ]
  },
  {
   "cell_type": "code",
   "execution_count": 12,
   "id": "d20389c4",
   "metadata": {},
   "outputs": [
    {
     "name": "stdout",
     "output_type": "stream",
     "text": [
      "+-----------+----------------+---------+---+-----+--------------+----------------+-----------------+----+\n",
      "|BRANCH_CODE|  CREDIT_CARD_NO| CUST_SSN|DAY|MONTH|TRANSACTION_ID|TRANSACTION_TYPE|TRANSACTION_VALUE|YEAR|\n",
      "+-----------+----------------+---------+---+-----+--------------+----------------+-----------------+----+\n",
      "|        114|4210653349028689|123459988| 14|    2|             1|       Education|             78.9|2018|\n",
      "|         35|4210653349028689|123459988| 20|    3|             2|   Entertainment|            14.24|2018|\n",
      "|        160|4210653349028689|123459988|  8|    7|             3|         Grocery|             56.7|2018|\n",
      "|        114|4210653349028689|123459988| 19|    4|             4|   Entertainment|            59.73|2018|\n",
      "|         93|4210653349028689|123459988| 10|   10|             5|             Gas|             3.59|2018|\n",
      "+-----------+----------------+---------+---+-----+--------------+----------------+-----------------+----+\n",
      "only showing top 5 rows\n",
      "\n"
     ]
    }
   ],
   "source": [
    "df_credit.show(5)"
   ]
  },
  {
   "cell_type": "code",
   "execution_count": 13,
   "id": "895ad6af",
   "metadata": {},
   "outputs": [
    {
     "data": {
      "text/plain": [
       "['BRANCH_CODE',\n",
       " 'CREDIT_CARD_NO',\n",
       " 'CUST_SSN',\n",
       " 'DAY',\n",
       " 'MONTH',\n",
       " 'TRANSACTION_ID',\n",
       " 'TRANSACTION_TYPE',\n",
       " 'TRANSACTION_VALUE',\n",
       " 'YEAR']"
      ]
     },
     "execution_count": 13,
     "metadata": {},
     "output_type": "execute_result"
    }
   ],
   "source": [
    "df_credit.columns"
   ]
  },
  {
   "cell_type": "code",
   "execution_count": 14,
   "id": "a9bbae08",
   "metadata": {},
   "outputs": [
    {
     "name": "stdout",
     "output_type": "stream",
     "text": [
      "+-----------+----------------+---------+---+-----+--------------+----------------+-----------------+----+----------+\n",
      "|BRANCH_CODE|      CUST_CC_NO| CUST_SSN|DAY|MONTH|TRANSACTION_ID|TRANSACTION_TYPE|TRANSACTION_VALUE|YEAR|    TIMEID|\n",
      "+-----------+----------------+---------+---+-----+--------------+----------------+-----------------+----+----------+\n",
      "|        114|4210653349028689|123459988| 14|    2|             1|       Education|             78.9|2018|2018-02-14|\n",
      "|         35|4210653349028689|123459988| 20|    3|             2|   Entertainment|            14.24|2018|2018-03-20|\n",
      "|        160|4210653349028689|123459988|  8|    7|             3|         Grocery|             56.7|2018|2018-07-08|\n",
      "|        114|4210653349028689|123459988| 19|    4|             4|   Entertainment|            59.73|2018|2018-04-19|\n",
      "|         93|4210653349028689|123459988| 10|   10|             5|             Gas|             3.59|2018|2018-10-10|\n",
      "+-----------+----------------+---------+---+-----+--------------+----------------+-----------------+----+----------+\n",
      "only showing top 5 rows\n",
      "\n"
     ]
    }
   ],
   "source": [
    "df_credit = df_credit.withColumnRenamed('CREDIT_CARD_NO', 'CUST_CC_NO')\n",
    "df_credit = df_credit.withColumn('TIMEID', expr('make_date(YEAR, MONTH, DAY)'))\n",
    "df_credit.show(5)"
   ]
  },
  {
   "cell_type": "markdown",
   "id": "b5a14c18",
   "metadata": {},
   "source": [
    "### Cleaning the customers df"
   ]
  },
  {
   "cell_type": "code",
   "execution_count": 15,
   "id": "f75537e0",
   "metadata": {},
   "outputs": [
    {
     "name": "stdout",
     "output_type": "stream",
     "text": [
      "+----------+\n",
      "|CUST_PHONE|\n",
      "+----------+\n",
      "|   1237818|\n",
      "|   1238933|\n",
      "|   1243018|\n",
      "|   1243215|\n",
      "|   1242074|\n",
      "+----------+\n",
      "only showing top 5 rows\n",
      "\n"
     ]
    }
   ],
   "source": [
    "df_customers.select('CUST_PHONE').show(5)"
   ]
  },
  {
   "cell_type": "code",
   "execution_count": 16,
   "id": "a00d89b0",
   "metadata": {},
   "outputs": [
    {
     "name": "stdout",
     "output_type": "stream",
     "text": [
      "+-------------+\n",
      "|   CUST_PHONE|\n",
      "+-------------+\n",
      "|(617)123-7818|\n",
      "|(617)123-8933|\n",
      "|(617)124-3018|\n",
      "|(617)124-3215|\n",
      "|(617)124-2074|\n",
      "+-------------+\n",
      "only showing top 5 rows\n",
      "\n"
     ]
    }
   ],
   "source": [
    "df_customers = df_customers.withColumn('CUST_PHONE', concat(lit('(617)'), col('CUST_PHONE')[1:3], \n",
    "                                        lit('-'), col('CUST_PHONE')[4:8] ))\n",
    "df_customers.select('CUST_PHONE').show(5)"
   ]
  },
  {
   "cell_type": "code",
   "execution_count": 17,
   "id": "f9ce3498",
   "metadata": {
    "scrolled": true
   },
   "outputs": [
    {
     "data": {
      "text/plain": [
       "['APT_NO',\n",
       " 'CREDIT_CARD_NO',\n",
       " 'CUST_CITY',\n",
       " 'CUST_COUNTRY',\n",
       " 'CUST_EMAIL',\n",
       " 'CUST_PHONE',\n",
       " 'CUST_STATE',\n",
       " 'CUST_ZIP',\n",
       " 'FIRST_NAME',\n",
       " 'LAST_NAME',\n",
       " 'LAST_UPDATED',\n",
       " 'MIDDLE_NAME',\n",
       " 'SSN',\n",
       " 'STREET_NAME']"
      ]
     },
     "execution_count": 17,
     "metadata": {},
     "output_type": "execute_result"
    }
   ],
   "source": [
    "df_customers.columns"
   ]
  },
  {
   "cell_type": "code",
   "execution_count": 18,
   "id": "483cecac",
   "metadata": {},
   "outputs": [
    {
     "name": "stdout",
     "output_type": "stream",
     "text": [
      "+------+----------------+------------+-------------+-------------------+-------------+----------+--------+----------+---------+--------------------+-----------+---------+-----------------+--------------------+\n",
      "|APT_NO|  Credit_card_no|   CUST_CITY| CUST_COUNTRY|         CUST_EMAIL|   CUST_PHONE|CUST_STATE|CUST_ZIP|FIRST_NAME|LAST_NAME|        LAST_UPDATED|MIDDLE_NAME|      SSN|      STREET_NAME| FULL_STREET_ADDRESS|\n",
      "+------+----------------+------------+-------------+-------------------+-------------+----------+--------+----------+---------+--------------------+-----------+---------+-----------------+--------------------+\n",
      "|   656|4210653310061055|     Natchez|United States|AHooper@example.com|(617)123-7818|        MS|   39120|      Alec|   Hooper|2018-04-21T12:49:...|         wm|123456100|Main Street North|656,Main Street N...|\n",
      "|   829|4210653310102868|Wethersfield|United States|EHolman@example.com|(617)123-8933|        CT|   06109|      Etta|   Holman|2018-04-21T12:49:...|    brendan|123453023|    Redwood Drive|   829,Redwood Drive|\n",
      "|   683|4210653310116272|     Huntley|United States|WDunham@example.com|(617)124-3018|        IL|   60142|    Wilber|   Dunham|2018-04-21T12:49:...|   ezequiel|123454487| 12th Street East|683,12th Street East|\n",
      "|   253|4210653310195948|   NewBerlin|United States| EHardy@example.com|(617)124-3215|        WI|   53151|   Eugenio|    Hardy|2018-04-21T12:49:...|      trina|123459758|Country Club Road|253,Country Club ...|\n",
      "|   301|4210653310356919|      ElPaso|United States| WAyers@example.com|(617)124-2074|        TX|   79930|   Wilfred|    Ayers|2018-04-21T12:49:...|        may|123454431|   Madison Street|  301,Madison Street|\n",
      "+------+----------------+------------+-------------+-------------------+-------------+----------+--------+----------+---------+--------------------+-----------+---------+-----------------+--------------------+\n",
      "only showing top 5 rows\n",
      "\n"
     ]
    }
   ],
   "source": [
    "#transforming the customer df\n",
    "df_customers = df_customers.withColumn('FIRST_NAME', initcap(df_customers['FIRST_NAME']))\n",
    "df_customers = df_customers.withColumn('MIDDLE_NAME', lower(df_customers['MIDDLE_NAME']))\n",
    "df_customers = df_customers.withColumn('LAST_NAME', initcap(df_customers['LAST_NAME']))\n",
    "df_customers = df_customers.withColumnRenamed('CREDIT_CARD_NO', 'Credit_card_no')\n",
    "df_customers = df_customers.withColumn('FULL_STREET_ADDRESS', concat(col('APT_NO'),lit(','),col('STREET_NAME')))\n",
    "df_customers.show(5)\n"
   ]
  },
  {
   "cell_type": "code",
   "execution_count": 19,
   "id": "17727568",
   "metadata": {},
   "outputs": [
    {
     "data": {
      "text/plain": [
       "['Credit_card_no',\n",
       " 'CUST_CITY',\n",
       " 'CUST_COUNTRY',\n",
       " 'CUST_EMAIL',\n",
       " 'CUST_PHONE',\n",
       " 'CUST_STATE',\n",
       " 'CUST_ZIP',\n",
       " 'FIRST_NAME',\n",
       " 'LAST_NAME',\n",
       " 'LAST_UPDATED',\n",
       " 'MIDDLE_NAME',\n",
       " 'SSN',\n",
       " 'FULL_STREET_ADDRESS']"
      ]
     },
     "execution_count": 19,
     "metadata": {},
     "output_type": "execute_result"
    }
   ],
   "source": [
    "#dropping address and apt cols\n",
    "df_customers = df_customers.drop('APT_NO', 'STREET_NAME')\n",
    "df_customers.columns"
   ]
  },
  {
   "cell_type": "code",
   "execution_count": 20,
   "id": "e86ade7e",
   "metadata": {},
   "outputs": [
    {
     "name": "stdout",
     "output_type": "stream",
     "text": [
      "+-----------------+-----------+------------+-------------+------------+-----------------+----------+--------------------+\n",
      "|      BRANCH_CITY|BRANCH_CODE| BRANCH_NAME| BRANCH_PHONE|BRANCH_STATE|    BRANCH_STREET|BRANCH_ZIP|        LAST_UPDATED|\n",
      "+-----------------+-----------+------------+-------------+------------+-----------------+----------+--------------------+\n",
      "|        Lakeville|          1|Example Bank|(123)456-5276|          MN|     Bridle Court|     55044|2018-04-18T16:51:...|\n",
      "|          Huntley|          2|Example Bank|(123)461-8993|          IL|Washington Street|     60142|2018-04-18T16:51:...|\n",
      "|SouthRichmondHill|          3|Example Bank|(123)498-5926|          NY|    Warren Street|     11419|2018-04-18T16:51:...|\n",
      "|       Middleburg|          4|Example Bank|(123)466-3064|          FL| Cleveland Street|     32068|2018-04-18T16:51:...|\n",
      "|    KingOfPrussia|          5|Example Bank|(123)484-9701|          PA|      14th Street|     19406|2018-04-18T16:51:...|\n",
      "+-----------------+-----------+------------+-------------+------------+-----------------+----------+--------------------+\n",
      "only showing top 5 rows\n",
      "\n",
      "None\n",
      "+-----------+----------------+---------+---+-----+--------------+----------------+-----------------+----+----------+\n",
      "|BRANCH_CODE|      CUST_CC_NO| CUST_SSN|DAY|MONTH|TRANSACTION_ID|TRANSACTION_TYPE|TRANSACTION_VALUE|YEAR|    TIMEID|\n",
      "+-----------+----------------+---------+---+-----+--------------+----------------+-----------------+----+----------+\n",
      "|        114|4210653349028689|123459988| 14|    2|             1|       Education|             78.9|2018|2018-02-14|\n",
      "|         35|4210653349028689|123459988| 20|    3|             2|   Entertainment|            14.24|2018|2018-03-20|\n",
      "|        160|4210653349028689|123459988|  8|    7|             3|         Grocery|             56.7|2018|2018-07-08|\n",
      "|        114|4210653349028689|123459988| 19|    4|             4|   Entertainment|            59.73|2018|2018-04-19|\n",
      "|         93|4210653349028689|123459988| 10|   10|             5|             Gas|             3.59|2018|2018-10-10|\n",
      "+-----------+----------------+---------+---+-----+--------------+----------------+-----------------+----+----------+\n",
      "only showing top 5 rows\n",
      "\n",
      "None\n",
      "+----------------+------------+-------------+-------------------+-------------+----------+--------+----------+---------+--------------------+-----------+---------+--------------------+\n",
      "|  Credit_card_no|   CUST_CITY| CUST_COUNTRY|         CUST_EMAIL|   CUST_PHONE|CUST_STATE|CUST_ZIP|FIRST_NAME|LAST_NAME|        LAST_UPDATED|MIDDLE_NAME|      SSN| FULL_STREET_ADDRESS|\n",
      "+----------------+------------+-------------+-------------------+-------------+----------+--------+----------+---------+--------------------+-----------+---------+--------------------+\n",
      "|4210653310061055|     Natchez|United States|AHooper@example.com|(617)123-7818|        MS|   39120|      Alec|   Hooper|2018-04-21T12:49:...|         wm|123456100|656,Main Street N...|\n",
      "|4210653310102868|Wethersfield|United States|EHolman@example.com|(617)123-8933|        CT|   06109|      Etta|   Holman|2018-04-21T12:49:...|    brendan|123453023|   829,Redwood Drive|\n",
      "|4210653310116272|     Huntley|United States|WDunham@example.com|(617)124-3018|        IL|   60142|    Wilber|   Dunham|2018-04-21T12:49:...|   ezequiel|123454487|683,12th Street East|\n",
      "|4210653310195948|   NewBerlin|United States| EHardy@example.com|(617)124-3215|        WI|   53151|   Eugenio|    Hardy|2018-04-21T12:49:...|      trina|123459758|253,Country Club ...|\n",
      "|4210653310356919|      ElPaso|United States| WAyers@example.com|(617)124-2074|        TX|   79930|   Wilfred|    Ayers|2018-04-21T12:49:...|        may|123454431|  301,Madison Street|\n",
      "+----------------+------------+-------------+-------------------+-------------+----------+--------+----------+---------+--------------------+-----------+---------+--------------------+\n",
      "only showing top 5 rows\n",
      "\n",
      "None\n"
     ]
    }
   ],
   "source": [
    "print(df_branch.show(5))\n",
    "print(df_credit.show(5))\n",
    "print(df_customers.show(5))"
   ]
  },
  {
   "cell_type": "code",
   "execution_count": 21,
   "id": "dcc8748c",
   "metadata": {},
   "outputs": [
    {
     "name": "stdout",
     "output_type": "stream",
     "text": [
      "root\n",
      " |-- BRANCH_CITY: string (nullable = true)\n",
      " |-- BRANCH_CODE: long (nullable = true)\n",
      " |-- BRANCH_NAME: string (nullable = true)\n",
      " |-- BRANCH_PHONE: string (nullable = true)\n",
      " |-- BRANCH_STATE: string (nullable = true)\n",
      " |-- BRANCH_STREET: string (nullable = true)\n",
      " |-- BRANCH_ZIP: long (nullable = true)\n",
      " |-- LAST_UPDATED: string (nullable = true)\n",
      "\n"
     ]
    }
   ],
   "source": [
    "df_branch.printSchema()\n"
   ]
  },
  {
   "cell_type": "code",
   "execution_count": 22,
   "id": "b6722b97",
   "metadata": {},
   "outputs": [
    {
     "name": "stdout",
     "output_type": "stream",
     "text": [
      "root\n",
      " |-- BRANCH_CODE: long (nullable = true)\n",
      " |-- CUST_CC_NO: string (nullable = true)\n",
      " |-- CUST_SSN: long (nullable = true)\n",
      " |-- DAY: long (nullable = true)\n",
      " |-- MONTH: long (nullable = true)\n",
      " |-- TRANSACTION_ID: long (nullable = true)\n",
      " |-- TRANSACTION_TYPE: string (nullable = true)\n",
      " |-- TRANSACTION_VALUE: double (nullable = true)\n",
      " |-- YEAR: long (nullable = true)\n",
      " |-- TIMEID: date (nullable = true)\n",
      "\n"
     ]
    }
   ],
   "source": [
    "df_credit.printSchema()\n"
   ]
  },
  {
   "cell_type": "code",
   "execution_count": 23,
   "id": "a2b3ba93",
   "metadata": {
    "scrolled": true
   },
   "outputs": [
    {
     "name": "stdout",
     "output_type": "stream",
     "text": [
      "root\n",
      " |-- Credit_card_no: string (nullable = true)\n",
      " |-- CUST_CITY: string (nullable = true)\n",
      " |-- CUST_COUNTRY: string (nullable = true)\n",
      " |-- CUST_EMAIL: string (nullable = true)\n",
      " |-- CUST_PHONE: string (nullable = true)\n",
      " |-- CUST_STATE: string (nullable = true)\n",
      " |-- CUST_ZIP: string (nullable = true)\n",
      " |-- FIRST_NAME: string (nullable = true)\n",
      " |-- LAST_NAME: string (nullable = true)\n",
      " |-- LAST_UPDATED: string (nullable = true)\n",
      " |-- MIDDLE_NAME: string (nullable = true)\n",
      " |-- SSN: long (nullable = true)\n",
      " |-- FULL_STREET_ADDRESS: string (nullable = true)\n",
      "\n"
     ]
    }
   ],
   "source": [
    "df_customers.printSchema()"
   ]
  },
  {
   "cell_type": "code",
   "execution_count": 24,
   "id": "b3679c52",
   "metadata": {},
   "outputs": [
    {
     "name": "stderr",
     "output_type": "stream",
     "text": [
      "Thu Mar 02 02:39:41 EST 2023 WARN: Establishing SSL connection without server's identity verification is not recommended. According to MySQL 5.5.45+, 5.6.26+ and 5.7.6+ requirements SSL connection must be established by default if explicit option isn't set. For compliance with existing applications not using SSL the verifyServerCertificate property is set to 'false'. You need either to explicitly disable SSL by setting useSSL=false, or set useSSL=true and provide truststore for server certificate verification.\n",
      "Thu Mar 02 02:39:42 EST 2023 WARN: Establishing SSL connection without server's identity verification is not recommended. According to MySQL 5.5.45+, 5.6.26+ and 5.7.6+ requirements SSL connection must be established by default if explicit option isn't set. For compliance with existing applications not using SSL the verifyServerCertificate property is set to 'false'. You need either to explicitly disable SSL by setting useSSL=false, or set useSSL=true and provide truststore for server certificate verification.\n",
      "Thu Mar 02 02:39:43 EST 2023 WARN: Establishing SSL connection without server's identity verification is not recommended. According to MySQL 5.5.45+, 5.6.26+ and 5.7.6+ requirements SSL connection must be established by default if explicit option isn't set. For compliance with existing applications not using SSL the verifyServerCertificate property is set to 'false'. You need either to explicitly disable SSL by setting useSSL=false, or set useSSL=true and provide truststore for server certificate verification.\n"
     ]
    }
   ],
   "source": [
    "df_branch.write.format(\"jdbc\") \\\n",
    "  .mode(\"overwrite\") \\\n",
    "  .option(\"driver\", \"com.mysql.cj.jdbc.Driver\")\\\n",
    "  .option(\"url\", \"jdbc:mysql://localhost:3306/creditcard_capstone\") \\\n",
    "  .option(\"dbtable\", \"creditcard_capstone.CDW_SAPP_BRANCH\") \\\n",
    "  .option(\"user\", \"root\") \\\n",
    "  .option(\"password\", \"pass1234\") \\\n",
    "  .save()"
   ]
  },
  {
   "cell_type": "code",
   "execution_count": 25,
   "id": "61ee4616",
   "metadata": {},
   "outputs": [
    {
     "name": "stderr",
     "output_type": "stream",
     "text": [
      "Thu Mar 02 02:39:43 EST 2023 WARN: Establishing SSL connection without server's identity verification is not recommended. According to MySQL 5.5.45+, 5.6.26+ and 5.7.6+ requirements SSL connection must be established by default if explicit option isn't set. For compliance with existing applications not using SSL the verifyServerCertificate property is set to 'false'. You need either to explicitly disable SSL by setting useSSL=false, or set useSSL=true and provide truststore for server certificate verification.\n",
      "Thu Mar 02 02:39:43 EST 2023 WARN: Establishing SSL connection without server's identity verification is not recommended. According to MySQL 5.5.45+, 5.6.26+ and 5.7.6+ requirements SSL connection must be established by default if explicit option isn't set. For compliance with existing applications not using SSL the verifyServerCertificate property is set to 'false'. You need either to explicitly disable SSL by setting useSSL=false, or set useSSL=true and provide truststore for server certificate verification.\n",
      "Thu Mar 02 02:39:43 EST 2023 WARN: Establishing SSL connection without server's identity verification is not recommended. According to MySQL 5.5.45+, 5.6.26+ and 5.7.6+ requirements SSL connection must be established by default if explicit option isn't set. For compliance with existing applications not using SSL the verifyServerCertificate property is set to 'false'. You need either to explicitly disable SSL by setting useSSL=false, or set useSSL=true and provide truststore for server certificate verification.\n",
      "Thu Mar 02 02:39:43 EST 2023 WARN: Establishing SSL connection without server's identity verification is not recommended. According to MySQL 5.5.45+, 5.6.26+ and 5.7.6+ requirements SSL connection must be established by default if explicit option isn't set. For compliance with existing applications not using SSL the verifyServerCertificate property is set to 'false'. You need either to explicitly disable SSL by setting useSSL=false, or set useSSL=true and provide truststore for server certificate verification.\n",
      "Thu Mar 02 02:39:46 EST 2023 WARN: Establishing SSL connection without server's identity verification is not recommended. According to MySQL 5.5.45+, 5.6.26+ and 5.7.6+ requirements SSL connection must be established by default if explicit option isn't set. For compliance with existing applications not using SSL the verifyServerCertificate property is set to 'false'. You need either to explicitly disable SSL by setting useSSL=false, or set useSSL=true and provide truststore for server certificate verification.\n"
     ]
    }
   ],
   "source": [
    "df_credit.write.format(\"jdbc\") \\\n",
    "  .mode(\"overwrite\") \\\n",
    "  .option(\"driver\", \"com.mysql.cj.jdbc.Driver\")\\\n",
    "  .option(\"url\", \"jdbc:mysql://localhost:3306/creditcard_capstone\") \\\n",
    "  .option(\"dbtable\", \"creditcard_capstone.CDW_SAPP_CREDIT_CARD\") \\\n",
    "  .option(\"user\", \"root\") \\\n",
    "  .option(\"password\", \"pass1234\") \\\n",
    "  .save()"
   ]
  },
  {
   "cell_type": "code",
   "execution_count": 26,
   "id": "237cd7e7",
   "metadata": {},
   "outputs": [
    {
     "name": "stderr",
     "output_type": "stream",
     "text": [
      "Thu Mar 02 02:39:46 EST 2023 WARN: Establishing SSL connection without server's identity verification is not recommended. According to MySQL 5.5.45+, 5.6.26+ and 5.7.6+ requirements SSL connection must be established by default if explicit option isn't set. For compliance with existing applications not using SSL the verifyServerCertificate property is set to 'false'. You need either to explicitly disable SSL by setting useSSL=false, or set useSSL=true and provide truststore for server certificate verification.\n",
      "Thu Mar 02 02:39:47 EST 2023 WARN: Establishing SSL connection without server's identity verification is not recommended. According to MySQL 5.5.45+, 5.6.26+ and 5.7.6+ requirements SSL connection must be established by default if explicit option isn't set. For compliance with existing applications not using SSL the verifyServerCertificate property is set to 'false'. You need either to explicitly disable SSL by setting useSSL=false, or set useSSL=true and provide truststore for server certificate verification.\n",
      "Thu Mar 02 02:39:47 EST 2023 WARN: Establishing SSL connection without server's identity verification is not recommended. According to MySQL 5.5.45+, 5.6.26+ and 5.7.6+ requirements SSL connection must be established by default if explicit option isn't set. For compliance with existing applications not using SSL the verifyServerCertificate property is set to 'false'. You need either to explicitly disable SSL by setting useSSL=false, or set useSSL=true and provide truststore for server certificate verification.\n"
     ]
    }
   ],
   "source": [
    "df_customers.write.format(\"jdbc\") \\\n",
    "  .mode(\"overwrite\") \\\n",
    "  .option(\"driver\", \"com.mysql.cj.jdbc.Driver\")\\\n",
    "  .option(\"url\", \"jdbc:mysql://localhost:3306/creditcard_capstone\") \\\n",
    "  .option(\"dbtable\", \"creditcard_capstone.CDW_SAPP_CUSTOMER\") \\\n",
    "  .option(\"user\", \"root\") \\\n",
    "  .option(\"password\", \"pass1234\") \\\n",
    "  .save()"
   ]
  },
  {
   "cell_type": "code",
   "execution_count": null,
   "id": "e4705553",
   "metadata": {},
   "outputs": [],
   "source": []
  },
  {
   "cell_type": "markdown",
   "id": "59e42ee1",
   "metadata": {},
   "source": [
    "# Data Wrangling"
   ]
  },
  {
   "cell_type": "code",
   "execution_count": 27,
   "id": "4ac290b8",
   "metadata": {
    "scrolled": true
   },
   "outputs": [
    {
     "name": "stdout",
     "output_type": "stream",
     "text": [
      "+-----------------+-----------+------------+-------------+------------+-----------------+----------+--------------------+\n",
      "|      BRANCH_CITY|BRANCH_CODE| BRANCH_NAME| BRANCH_PHONE|BRANCH_STATE|    BRANCH_STREET|BRANCH_ZIP|        LAST_UPDATED|\n",
      "+-----------------+-----------+------------+-------------+------------+-----------------+----------+--------------------+\n",
      "|        Lakeville|          1|Example Bank|(123)456-5276|          MN|     Bridle Court|     55044|2018-04-18T16:51:...|\n",
      "|          Huntley|          2|Example Bank|(123)461-8993|          IL|Washington Street|     60142|2018-04-18T16:51:...|\n",
      "|SouthRichmondHill|          3|Example Bank|(123)498-5926|          NY|    Warren Street|     11419|2018-04-18T16:51:...|\n",
      "|       Middleburg|          4|Example Bank|(123)466-3064|          FL| Cleveland Street|     32068|2018-04-18T16:51:...|\n",
      "|    KingOfPrussia|          5|Example Bank|(123)484-9701|          PA|      14th Street|     19406|2018-04-18T16:51:...|\n",
      "+-----------------+-----------+------------+-------------+------------+-----------------+----------+--------------------+\n",
      "only showing top 5 rows\n",
      "\n",
      "+-----------+----------------+---------+---+-----+--------------+----------------+-----------------+----+----------+\n",
      "|BRANCH_CODE|      CUST_CC_NO| CUST_SSN|DAY|MONTH|TRANSACTION_ID|TRANSACTION_TYPE|TRANSACTION_VALUE|YEAR|    TIMEID|\n",
      "+-----------+----------------+---------+---+-----+--------------+----------------+-----------------+----+----------+\n",
      "|        114|4210653349028689|123459988| 14|    2|             1|       Education|             78.9|2018|2018-02-14|\n",
      "|         35|4210653349028689|123459988| 20|    3|             2|   Entertainment|            14.24|2018|2018-03-20|\n",
      "|        160|4210653349028689|123459988|  8|    7|             3|         Grocery|             56.7|2018|2018-07-08|\n",
      "|        114|4210653349028689|123459988| 19|    4|             4|   Entertainment|            59.73|2018|2018-04-19|\n",
      "|         93|4210653349028689|123459988| 10|   10|             5|             Gas|             3.59|2018|2018-10-10|\n",
      "+-----------+----------------+---------+---+-----+--------------+----------------+-----------------+----+----------+\n",
      "only showing top 5 rows\n",
      "\n",
      "+----------------+------------+-------------+-------------------+-------------+----------+--------+----------+---------+--------------------+-----------+---------+--------------------+\n",
      "|  Credit_card_no|   CUST_CITY| CUST_COUNTRY|         CUST_EMAIL|   CUST_PHONE|CUST_STATE|CUST_ZIP|FIRST_NAME|LAST_NAME|        LAST_UPDATED|MIDDLE_NAME|      SSN| FULL_STREET_ADDRESS|\n",
      "+----------------+------------+-------------+-------------------+-------------+----------+--------+----------+---------+--------------------+-----------+---------+--------------------+\n",
      "|4210653310061055|     Natchez|United States|AHooper@example.com|(617)123-7818|        MS|   39120|      Alec|   Hooper|2018-04-21T12:49:...|         wm|123456100|656,Main Street N...|\n",
      "|4210653310102868|Wethersfield|United States|EHolman@example.com|(617)123-8933|        CT|   06109|      Etta|   Holman|2018-04-21T12:49:...|    brendan|123453023|   829,Redwood Drive|\n",
      "|4210653310116272|     Huntley|United States|WDunham@example.com|(617)124-3018|        IL|   60142|    Wilber|   Dunham|2018-04-21T12:49:...|   ezequiel|123454487|683,12th Street East|\n",
      "|4210653310195948|   NewBerlin|United States| EHardy@example.com|(617)124-3215|        WI|   53151|   Eugenio|    Hardy|2018-04-21T12:49:...|      trina|123459758|253,Country Club ...|\n",
      "|4210653310356919|      ElPaso|United States| WAyers@example.com|(617)124-2074|        TX|   79930|   Wilfred|    Ayers|2018-04-21T12:49:...|        may|123454431|  301,Madison Street|\n",
      "+----------------+------------+-------------+-------------------+-------------+----------+--------+----------+---------+--------------------+-----------+---------+--------------------+\n",
      "only showing top 5 rows\n",
      "\n"
     ]
    }
   ],
   "source": [
    "df_branch.show(5)\n",
    "df_credit.show(5)\n",
    "df_customers.show(5)"
   ]
  },
  {
   "cell_type": "code",
   "execution_count": 28,
   "id": "61b16687",
   "metadata": {},
   "outputs": [
    {
     "name": "stdout",
     "output_type": "stream",
     "text": [
      "root\n",
      " |-- BRANCH_CODE: long (nullable = true)\n",
      " |-- CUST_CC_NO: string (nullable = true)\n",
      " |-- CUST_SSN: long (nullable = true)\n",
      " |-- DAY: long (nullable = true)\n",
      " |-- MONTH: long (nullable = true)\n",
      " |-- TRANSACTION_ID: long (nullable = true)\n",
      " |-- TRANSACTION_TYPE: string (nullable = true)\n",
      " |-- TRANSACTION_VALUE: double (nullable = true)\n",
      " |-- YEAR: long (nullable = true)\n",
      " |-- TIMEID: date (nullable = true)\n",
      " |-- Credit_card_no: string (nullable = true)\n",
      " |-- CUST_CITY: string (nullable = true)\n",
      " |-- CUST_COUNTRY: string (nullable = true)\n",
      " |-- CUST_EMAIL: string (nullable = true)\n",
      " |-- CUST_PHONE: string (nullable = true)\n",
      " |-- CUST_STATE: string (nullable = true)\n",
      " |-- CUST_ZIP: string (nullable = true)\n",
      " |-- FIRST_NAME: string (nullable = true)\n",
      " |-- LAST_NAME: string (nullable = true)\n",
      " |-- LAST_UPDATED: string (nullable = true)\n",
      " |-- MIDDLE_NAME: string (nullable = true)\n",
      " |-- SSN: long (nullable = true)\n",
      " |-- FULL_STREET_ADDRESS: string (nullable = true)\n",
      "\n"
     ]
    }
   ],
   "source": [
    "df_cust_and_credit = df_credit.join(df_customers, df_credit.CUST_SSN == df_customers.SSN,\"outer\")\n",
    "df_cust_and_credit.printSchema()"
   ]
  },
  {
   "cell_type": "code",
   "execution_count": 29,
   "id": "8292a994",
   "metadata": {},
   "outputs": [
    {
     "name": "stdout",
     "output_type": "stream",
     "text": [
      "root\n",
      " |-- BRANCH_CODE: long (nullable = true)\n",
      " |-- CUST_CC_NO: string (nullable = true)\n",
      " |-- CUST_SSN: long (nullable = true)\n",
      " |-- DAY: long (nullable = true)\n",
      " |-- MONTH: long (nullable = true)\n",
      " |-- TRANSACTION_ID: long (nullable = true)\n",
      " |-- TRANSACTION_TYPE: string (nullable = true)\n",
      " |-- TRANSACTION_VALUE: double (nullable = true)\n",
      " |-- YEAR: long (nullable = true)\n",
      " |-- TIMEID: date (nullable = true)\n",
      " |-- BRANCH_CITY: string (nullable = true)\n",
      " |-- BRANCHCODE: long (nullable = true)\n",
      " |-- BRANCH_NAME: string (nullable = true)\n",
      " |-- BRANCH_PHONE: string (nullable = true)\n",
      " |-- BRANCH_STATE: string (nullable = true)\n",
      " |-- BRANCH_STREET: string (nullable = true)\n",
      " |-- BRANCH_ZIP: long (nullable = true)\n",
      " |-- LAST_UPDATED: string (nullable = true)\n",
      "\n"
     ]
    }
   ],
   "source": [
    "#changing BRANCH_CODE name - to avoid ambigous column error when querying\n",
    "df_branch = df_branch.withColumnRenamed('BRANCH_CODE','BRANCHCODE') \n",
    "df_branch_and_credit = df_credit.join(df_branch, df_credit.BRANCH_CODE == df_branch.BRANCHCODE, \"outer\")\n",
    "df_branch_and_credit.printSchema()"
   ]
  },
  {
   "cell_type": "code",
   "execution_count": 30,
   "id": "80686099",
   "metadata": {},
   "outputs": [],
   "source": [
    "#dropped cols to be able to check for nulls\n",
    "df_cust_and_credit = df_cust_and_credit.drop('TIMEID')\n",
    "df_cust_and_credit = df_cust_and_credit.drop('LAST_UPDATED')\n",
    "df_branch_and_credit = df_branch_and_credit.drop('BRANCHCODE')"
   ]
  },
  {
   "cell_type": "code",
   "execution_count": 31,
   "id": "84883066",
   "metadata": {},
   "outputs": [
    {
     "name": "stderr",
     "output_type": "stream",
     "text": [
      "[Stage 34:>                                                         (0 + 1) / 1]\r"
     ]
    },
    {
     "name": "stdout",
     "output_type": "stream",
     "text": [
      "+-----------+----------+--------+---+-----+--------------+----------------+-----------------+----+--------------+---------+------------+----------+----------+----------+--------+----------+---------+-----------+---+-------------------+\n",
      "|BRANCH_CODE|CUST_CC_NO|CUST_SSN|DAY|MONTH|TRANSACTION_ID|TRANSACTION_TYPE|TRANSACTION_VALUE|YEAR|Credit_card_no|CUST_CITY|CUST_COUNTRY|CUST_EMAIL|CUST_PHONE|CUST_STATE|CUST_ZIP|FIRST_NAME|LAST_NAME|MIDDLE_NAME|SSN|FULL_STREET_ADDRESS|\n",
      "+-----------+----------+--------+---+-----+--------------+----------------+-----------------+----+--------------+---------+------------+----------+----------+----------+--------+----------+---------+-----------+---+-------------------+\n",
      "|          0|         0|       0|  0|    0|             0|               0|                0|   0|             0|        0|           0|         0|         0|         0|       0|         0|        0|          0|  0|                  0|\n",
      "+-----------+----------+--------+---+-----+--------------+----------------+-----------------+----+--------------+---------+------------+----------+----------+----------+--------+----------+---------+-----------+---+-------------------+\n",
      "\n"
     ]
    },
    {
     "name": "stderr",
     "output_type": "stream",
     "text": [
      "\r",
      "                                                                                \r"
     ]
    }
   ],
   "source": [
    "#checking for nulls\n",
    "df_cust_and_credit.select([count(when(isnan(c), c)).alias(c) for c in df_cust_and_credit.columns]).show()"
   ]
  },
  {
   "cell_type": "code",
   "execution_count": 32,
   "id": "e0c7afc2",
   "metadata": {},
   "outputs": [
    {
     "name": "stdout",
     "output_type": "stream",
     "text": [
      "+-----------+----------+--------+---+-----+--------------+----------------+-----------------+----+--------------+---------+------------+----------+----------+----------+--------+----------+---------+-----------+---+-------------------+\n",
      "|BRANCH_CODE|CUST_CC_NO|CUST_SSN|DAY|MONTH|TRANSACTION_ID|TRANSACTION_TYPE|TRANSACTION_VALUE|YEAR|Credit_card_no|CUST_CITY|CUST_COUNTRY|CUST_EMAIL|CUST_PHONE|CUST_STATE|CUST_ZIP|FIRST_NAME|LAST_NAME|MIDDLE_NAME|SSN|FULL_STREET_ADDRESS|\n",
      "+-----------+----------+--------+---+-----+--------------+----------------+-----------------+----+--------------+---------+------------+----------+----------+----------+--------+----------+---------+-----------+---+-------------------+\n",
      "|          0|         0|       0|  0|    0|             0|               0|                0|   0|             0|        0|           0|         0|         0|         0|       0|         0|        0|          0|  0|                  0|\n",
      "+-----------+----------+--------+---+-----+--------------+----------------+-----------------+----+--------------+---------+------------+----------+----------+----------+--------+----------+---------+-----------+---+-------------------+\n",
      "\n"
     ]
    }
   ],
   "source": [
    "df_cust_and_credit.select([count(when(col(c).isNull(), c)).alias(c) for c in df_cust_and_credit.columns]).show()"
   ]
  },
  {
   "cell_type": "code",
   "execution_count": null,
   "id": "0cc51106",
   "metadata": {},
   "outputs": [],
   "source": []
  },
  {
   "cell_type": "code",
   "execution_count": 33,
   "id": "e3b628ff",
   "metadata": {
    "scrolled": true
   },
   "outputs": [],
   "source": [
    "pd_branch = df_branch.toPandas()\n",
    "pd_credit = df_credit.toPandas()\n",
    "pd_customers = df_customers.toPandas()"
   ]
  },
  {
   "cell_type": "code",
   "execution_count": 34,
   "id": "9269dedd",
   "metadata": {},
   "outputs": [],
   "source": [
    "pd_credit = pd_credit.rename(columns = {'CUST_SSN':'SSN'})\n",
    "pd_customer_credit = pd.merge(pd_credit, pd_customers, on ='SSN')"
   ]
  },
  {
   "cell_type": "code",
   "execution_count": 35,
   "id": "391aaabd",
   "metadata": {},
   "outputs": [
    {
     "data": {
      "text/plain": [
       "2018    46694\n",
       "Name: YEAR, dtype: int64"
      ]
     },
     "execution_count": 35,
     "metadata": {},
     "output_type": "execute_result"
    }
   ],
   "source": [
    "pd_customer_credit['YEAR'].value_counts()"
   ]
  },
  {
   "cell_type": "code",
   "execution_count": 36,
   "id": "50a57bc6",
   "metadata": {},
   "outputs": [
    {
     "data": {
      "text/plain": [
       "TRANSACTION_TYPE\n",
       "Bills            351405.28\n",
       "Education        337980.07\n",
       "Entertainment    338950.10\n",
       "Gas              336059.26\n",
       "Grocery          337051.63\n",
       "Healthcare       340476.20\n",
       "Test             341310.37\n",
       "Name: TRANSACTION_VALUE, dtype: float64"
      ]
     },
     "execution_count": 36,
     "metadata": {},
     "output_type": "execute_result"
    }
   ],
   "source": [
    "pd_customer_credit = pd_customer_credit.drop(['CUST_CC_NO','CUST_EMAIL','TIMEID','TRANSACTION_ID',\n",
    "                'Credit_card_no', 'CUST_PHONE', 'LAST_UPDATED', 'CUST_CITY','CUST_COUNTRY'], axis=1)\n",
    "pd_trans_type = pd_customer_credit.groupby(['TRANSACTION_TYPE'])['TRANSACTION_VALUE'].sum()\n",
    "pd_trans_type"
   ]
  },
  {
   "cell_type": "code",
   "execution_count": null,
   "id": "d327183f",
   "metadata": {},
   "outputs": [],
   "source": [
    "#https://towardsdatascience.com/bring-your-jupyter-notebook-to-life-with-interactive-widgets-bc12e03f0916\n",
    "ALL = 'ALL'\n",
    "def unique_sorted_values_plus_ALL(array):\n",
    "    unique = array.unique().tolist()\n",
    "    unique.sort()\n",
    "    unique.insert(0, ALL)\n",
    "    return unique"
   ]
  },
  {
   "cell_type": "code",
   "execution_count": null,
   "id": "40df8e9b",
   "metadata": {},
   "outputs": [],
   "source": []
  },
  {
   "cell_type": "code",
   "execution_count": null,
   "id": "11e45ee8",
   "metadata": {},
   "outputs": [],
   "source": []
  },
  {
   "cell_type": "code",
   "execution_count": null,
   "id": "1ddd43a6",
   "metadata": {},
   "outputs": [],
   "source": []
  },
  {
   "cell_type": "code",
   "execution_count": null,
   "id": "ee04a7cb",
   "metadata": {},
   "outputs": [],
   "source": [
    "output = widgets.Output()\n",
    "\n",
    "dropdown_zipcode = widgets.Dropdown(options = unique_sorted_values_plus_ALL(pd_customer_credit.CUST_ZIP))\n",
    "dropdown_month = widgets.Dropdown(options = unique_sorted_values_plus_ALL(pd_customer_credit.MONTH))\n",
    "\n",
    "def common_filtering(month, zipcode):\n",
    "    output.clear_output()\n",
    "    \n",
    "    if (month == ALL) & (zipcode == ALL):\n",
    "        common_filter = pd_customer_credit\n",
    "    elif (month == ALL):\n",
    "        common_filter = pd_customer_credit[pd_customer_credit.CUST_ZIP == zipcode]\n",
    "    elif (zipcode == ALL):\n",
    "        common_filter = pd_customer_credit[pd_customer_credit.MONTH == month]\n",
    "    else:\n",
    "        common_filter = pd_customer_credit[(pd_customer_credit.MONTH == month) & \n",
    "                                  (pd_customer_credit.CUST_ZIP == zipcode)]\n",
    "    \n",
    "    with output:\n",
    "        display(common_filter)\n",
    "        \n",
    "        \n",
    "def dropdown_month_eventhandler(change):\n",
    "    common_filtering(change.new, dropdown_zipcode.value)\n",
    "    \n",
    "def dropdown_zipcode_eventhandler(change):\n",
    "    common_filtering(dropdown_month.value, change.new)\n",
    "\n",
    "dropdown_month.observe(dropdown_month_eventhandler, names='value')\n",
    "dropdown_zipcode.observe(dropdown_zipcode_eventhandler, names='value')\n",
    "\n",
    "\n",
    "\n",
    "display(dropdown_zipcode)\n",
    "display(dropdown_month)"
   ]
  },
  {
   "cell_type": "code",
   "execution_count": null,
   "id": "b326382a",
   "metadata": {},
   "outputs": [],
   "source": [
    "display(output)"
   ]
  },
  {
   "cell_type": "code",
   "execution_count": null,
   "id": "062f871f",
   "metadata": {},
   "outputs": [],
   "source": [
    "df_branch.createOrReplaceTempView(\"branch\")\n",
    "df_credit.createOrReplaceTempView(\"credit\")\n",
    "df_customers.createOrReplaceTempView(\"customers\")\n",
    "df_cust_and_credit.createOrReplaceTempView(\"cc\")\n",
    "df_branch_and_credit.createOrReplaceTempView(\"bcr\")"
   ]
  },
  {
   "cell_type": "code",
   "execution_count": null,
   "id": "b87fb000",
   "metadata": {},
   "outputs": [],
   "source": [
    "##22180, 2018, 5\n",
    "zipcode = input(\"Please enter your 5 digit zipcode: \" )\n",
    "year = input(\"Please enter your 4 digit year: \" )\n",
    "month = input(\"Please choose a month from 1 through 12: \" )\n",
    "\n",
    "def get_transactions_by_zipcode(zipcode, year, month):\n",
    "    results = spark.sql(\"SELECT cc.LAST_NAME, cc.FIRST_NAME, cc.CUST_ZIP, cc.YEAR, cc.MONTH, cc.DAY \\\n",
    "            FROM cc \\\n",
    "            WHERE cc.CUST_ZIP = '{}' AND cc.YEAR = '{}' AND cc.MONTH = '{}' \\\n",
    "            ORDER BY cc.DAY DESC\".format(str(zipcode), str(year), str(month)))\n",
    "\n",
    "    results.show(1000)\n",
    "\n",
    "get_transactions_by_zipcode(zipcode, year, month)\n"
   ]
  },
  {
   "cell_type": "code",
   "execution_count": null,
   "id": "506ed5ff",
   "metadata": {},
   "outputs": [],
   "source": []
  },
  {
   "cell_type": "code",
   "execution_count": null,
   "id": "7df3f103",
   "metadata": {},
   "outputs": [],
   "source": []
  },
  {
   "cell_type": "code",
   "execution_count": null,
   "id": "2e5af272",
   "metadata": {},
   "outputs": [],
   "source": []
  },
  {
   "cell_type": "code",
   "execution_count": null,
   "id": "7b855969",
   "metadata": {},
   "outputs": [],
   "source": [
    "transaction_type = input(\"Please choose transaction type from the following - Education, Entertainment\\\n",
    "  Healthcare, Grocery, Test, Gas, Bills: \" )\n",
    "\n",
    "def get_transaction_by_type(transaction_type):\n",
    "    transactions = spark.sql(\"SELECT TRANSACTION_TYPE, COUNT(*) AS num_transactions, ROUND(SUM(TRANSACTION_VALUE),2) AS total_value \\\n",
    "                               FROM credit \\\n",
    "                               WHERE TRANSACTION_TYPE = '{}' \\\n",
    "                               GROUP BY TRANSACTION_TYPE\".format(transaction_type))\n",
    "    transactions.show()\n",
    "    \n",
    "get_transaction_by_type(transaction_type)"
   ]
  },
  {
   "cell_type": "code",
   "execution_count": null,
   "id": "3bfbc9a0",
   "metadata": {},
   "outputs": [],
   "source": [
    "state_name = input(\"Please choose a state from the following list (NY, GA, PA, FL, IL, MI, MD, NJ, CA, OH, \\\n",
    " NC, VA, MA, TX, WI, SC, MN, MS, KY, WA, IA, CT, IN, MT, AR, AL): \" )\n",
    "\n",
    "def transactions_by_state(state_name):\n",
    "    trans_by_state = spark.sql(\"SELECT BRANCH_CODE, COUNT(*) AS num_transactions, ROUND(SUM(TRANSACTION_VALUE),2) AS total_value \\\n",
    "                               FROM bcr \\\n",
    "                               WHERE BRANCH_STATE = '{}' \\\n",
    "                               GROUP BY BRANCH_CODE\".format(state_name))\n",
    "    trans_by_state.show(100)\n",
    "    \n",
    "transactions_by_state(state_name)"
   ]
  },
  {
   "cell_type": "code",
   "execution_count": null,
   "id": "b715b0c7",
   "metadata": {},
   "outputs": [],
   "source": [
    "state = input(\"Please choose a state from the following list (NY, GA, PA, FL, IL, MI, MD, NJ, CA, OH,\\\n",
    "NC, VA, MA, TX, WI, SC, MN, MS, KY, WA, IA, CT, IN, MT, AR, AL): \")\n",
    "\n",
    "def get_branch_transaction_info(state):\n",
    "    trans_by_branch_state = spark.sql(f\"SELECT COUNT(bcr.BRANCH_STATE) as Branches_in_{state}, \\\n",
    "    ROUND(SUM(bcr.TRANSACTION_VALUE),2) as Total_Transactions_Value \\\n",
    "    FROM bcr \\\n",
    "    WHERE bcr.BRANCH_STATE = '{state}'\")\n",
    "    trans_by_branch_state.show()\n",
    "\n",
    "get_branch_transaction_info(state)\n"
   ]
  },
  {
   "cell_type": "code",
   "execution_count": null,
   "id": "ec524bb5",
   "metadata": {
    "scrolled": true
   },
   "outputs": [],
   "source": [
    "#123459988\n",
    "customer_ssn = input(\"Please enter your social security number: \")\n",
    "\n",
    "def get_customer_information(customer_ssn):\n",
    "    customer_info = spark.sql(\"SELECT * \\\n",
    "    FROM customers \\\n",
    "    WHERE customers.SSN = '{}'\".format(customer_ssn))\n",
    "    customer_info.show()\n",
    "\n",
    "get_customer_information(customer_ssn)\n"
   ]
  },
  {
   "cell_type": "code",
   "execution_count": null,
   "id": "84bb3a23",
   "metadata": {},
   "outputs": [],
   "source": [
    "ssn = input(\"Please enter your social security number: \")\n",
    "field = input(\"Please enter in the field you would like to change (Credit_card_no, CUST_CITY, CUST_COUNTRY, \\\n",
    " CUST_EMAIL, CUST_PHONE, CUST_STATE, CUST_ZIP, FIRST_NAME, LAST_NAME, MIDDLE_NAME, SSN): \")\n",
    "new_value = input(\"Please enter the changed information: \")\n",
    "\n",
    "\n",
    "def update_customer_info(ssn, field, new_value):\n",
    "    customers_fun = df_customers\n",
    "    if field in ['CUST_PHONE', 'SSN']:\n",
    "        customers_fun = customers_fun.withColumn(field, when(customers_fun.SSN == ssn, new_value).otherwise(customers_fun[field]))\n",
    "        customers_fun = customers_fun.withColumn('lastUpdated', current_timestamp())\n",
    "    else:\n",
    "        customers_fun = customers_fun.withColumn(field, when(customers_fun.SSN == ssn, new_value).otherwise(customers_fun[field]))\n",
    "        customers_fun = customers_fun.withColumn('lastUpdated', current_timestamp())\n",
    "    customers_fun.write.mode(\"overwrite\").saveAsTable(\"customers\")\n",
    "\n",
    "    customers_fun.show(100)\n",
    "    return customers_fun\n",
    "\n",
    "update_customer_info(ssn, field, new_value)\n",
    "\n",
    "    \n"
   ]
  },
  {
   "cell_type": "code",
   "execution_count": null,
   "id": "d1df7ebb",
   "metadata": {},
   "outputs": [],
   "source": [
    "#4210653349028689,  2  2018\n",
    "cc_number = input(\"Please enter your credit card number: \")\n",
    "year = input(\"Please enter the year you would like to view the bill for: \")\n",
    "month = input(\"Please enter the month you would like to view the bill for: \")\n",
    "\n",
    "def get_customer_bill(cc_number, year, month):\n",
    "    customer_bill = spark.sql(\"SELECT cc.FIRST_NAME, cc.LAST_NAME, cc.CUST_SSN, \\\n",
    "    ROUND(SUM(TRANSACTION_VALUE), 2) AS MONTHLY_BILL \\\n",
    "    FROM cc \\\n",
    "    WHERE cc.CUST_CC_NO = '{}' AND cc.YEAR = {} AND cc.MONTH = {} \\\n",
    "    GROUP BY cc.CUST_SSN, cc.FIRST_NAME, cc.LAST_NAME\".format(str(cc_number), str(year), str(month)))\n",
    "    customer_bill.show()\n",
    "    \n",
    "\n",
    "get_customer_bill(cc_number, year, month)\n"
   ]
  },
  {
   "cell_type": "code",
   "execution_count": null,
   "id": "a417e1d6",
   "metadata": {},
   "outputs": [],
   "source": [
    "# reset variables need all columns that were dropped earlier\n",
    "df_cust_and_credit = df_credit.join(df_customers, df_credit.CUST_SSN == df_customers.SSN,\"outer\")\n",
    "df_cust_and_credit.createOrReplaceTempView(\"ccbill\")"
   ]
  },
  {
   "cell_type": "code",
   "execution_count": null,
   "id": "ef7ae7de",
   "metadata": {},
   "outputs": [],
   "source": [
    "df_cust_and_credit.printSchema()"
   ]
  },
  {
   "cell_type": "code",
   "execution_count": null,
   "id": "7a8bf466",
   "metadata": {},
   "outputs": [],
   "source": [
    "#123452490\n",
    "\n",
    "ssn = input(\"Please enter your social security number: \")\n",
    "start_date = input(\"Please enter your transaction start date as (YYYY-MM-DD): \")\n",
    "end_date = input(\"Please enter your transaction end date as (YYYY-MM-DD): \")\n",
    "\n",
    "def get_customer_transactions(ssn, start_date, end_date): \n",
    "    customer_transactions = spark.sql(\"SELECT ccbill.FIRST_NAME, ccbill.LAST_NAME, ccbill.TRANSACTION_VALUE, \\\n",
    "    ccbill.TIMEID, ccbill.CUST_CC_NO \\\n",
    "    FROM ccbill \\\n",
    "    WHERE ccbill.SSN = '{}' AND ccbill.TIMEID BETWEEN '{}' AND '{}' \\\n",
    "    ORDER BY YEAR, TIMEID DESC\".format(ssn, start_date, end_date))\n",
    "    customer_transactions.show(2000)\n",
    "\n",
    "get_customer_transactions(ssn, start_date, end_date)"
   ]
  },
  {
   "cell_type": "markdown",
   "id": "a2a5ad24",
   "metadata": {},
   "source": [
    "## 3"
   ]
  },
  {
   "cell_type": "code",
   "execution_count": 37,
   "id": "0d385a90",
   "metadata": {},
   "outputs": [
    {
     "data": {
      "text/plain": [
       "DataFrame[Credit_card_no: string, CUST_CITY: string, CUST_COUNTRY: string, CUST_EMAIL: string, CUST_PHONE: string, CUST_STATE: string, CUST_ZIP: string, FIRST_NAME: string, LAST_NAME: string, LAST_UPDATED: string, MIDDLE_NAME: string, SSN: bigint, FULL_STREET_ADDRESS: string]"
      ]
     },
     "execution_count": 37,
     "metadata": {},
     "output_type": "execute_result"
    }
   ],
   "source": [
    "#recalling spark df from above\n",
    "df_branch\n",
    "df_credit\n",
    "df_customers"
   ]
  },
  {
   "cell_type": "code",
   "execution_count": 38,
   "id": "33ec1436",
   "metadata": {},
   "outputs": [],
   "source": [
    "df_branch_and_credit = df_credit.join(df_branch, df_credit.BRANCH_CODE == df_branch.BRANCHCODE, \"outer\")\n",
    "df_cust_and_credit = df_credit.join(df_customers, df_credit.CUST_SSN == df_customers.SSN,\"outer\")"
   ]
  },
  {
   "cell_type": "code",
   "execution_count": 39,
   "id": "2a86e091",
   "metadata": {},
   "outputs": [],
   "source": [
    "#creating pandas dataframes to use\n",
    "pd_branch = df_branch.toPandas()\n",
    "pd_credit = df_credit.toPandas()\n",
    "pd_customers = df_customers.toPandas()\n",
    "pd_branch_and_credit = df_branch_and_credit.toPandas()\n",
    "pd_cust_and_credit = df_cust_and_credit.toPandas()"
   ]
  },
  {
   "cell_type": "code",
   "execution_count": 40,
   "id": "8580d2d4",
   "metadata": {
    "scrolled": true
   },
   "outputs": [
    {
     "data": {
      "text/plain": [
       "TRANSACTION_TYPE\n",
       "Bills            6861\n",
       "Education        6638\n",
       "Entertainment    6635\n",
       "Gas              6605\n",
       "Grocery          6549\n",
       "Healthcare       6723\n",
       "Test             6683\n",
       "Name: TRANSACTION_TYPE, dtype: int64"
      ]
     },
     "execution_count": 40,
     "metadata": {},
     "output_type": "execute_result"
    }
   ],
   "source": [
    "#df2 = df.groupby(['Courses'])['Courses'].count()\n",
    "transaction_type = pd_credit.groupby(['TRANSACTION_TYPE'])['TRANSACTION_TYPE'].count()\n",
    "transaction_type"
   ]
  },
  {
   "cell_type": "code",
   "execution_count": 41,
   "id": "e97f5302",
   "metadata": {},
   "outputs": [
    {
     "data": {
      "text/plain": [
       "Bills            6861\n",
       "Healthcare       6723\n",
       "Test             6683\n",
       "Education        6638\n",
       "Entertainment    6635\n",
       "Gas              6605\n",
       "Grocery          6549\n",
       "Name: TRANSACTION_TYPE, dtype: int64"
      ]
     },
     "execution_count": 41,
     "metadata": {},
     "output_type": "execute_result"
    }
   ],
   "source": [
    "transaction_names = pd_credit.TRANSACTION_TYPE.value_counts()\n",
    "transaction_names"
   ]
  },
  {
   "cell_type": "code",
   "execution_count": 42,
   "id": "85bb0ae8",
   "metadata": {},
   "outputs": [],
   "source": [
    "transaction_names = pd_credit.TRANSACTION_TYPE.value_counts()\n",
    "types_df = transaction_names.reset_index()\n",
    "types_df.columns = ['categories', 'frequency']"
   ]
  },
  {
   "cell_type": "code",
   "execution_count": 65,
   "id": "c0faa3ba",
   "metadata": {},
   "outputs": [
    {
     "data": {
      "image/png": "[encoded data removed]",
      "text/plain": [
       "<Figure size 1200x1000 with 1 Axes>"
      ]
     },
     "metadata": {},
     "output_type": "display_data"
    }
   ],
   "source": [
    "fig, ax = plt.subplots(figsize=(12, 10))\n",
    "palette = sns.color_palette('Purples_r', 12)\n",
    "ax = sns.barplot(x='categories', y='frequency', data=types_df, palette=palette)\n",
    "plt.title('Transaction Category', fontsize=18)\n",
    "plt.ylabel('Number of Transactions', fontsize=14)\n",
    "plt.xlabel('Transaction Type', fontsize=14)\n",
    "plt.ylim(6300, 7000)\n",
    "ax.bar_label(ax.containers[0])\n",
    "plt.savefig('./images/transaction_types_amounts.png', dpi=500); "
   ]
  },
  {
   "cell_type": "code",
   "execution_count": 44,
   "id": "8c75d9b8",
   "metadata": {},
   "outputs": [
    {
     "data": {
      "text/plain": [
       "CUST_STATE\n",
       "AL     5\n",
       "AR     5\n",
       "CA    45\n",
       "CT    14\n",
       "FL    64\n",
       "GA    73\n",
       "IA    21\n",
       "IL    58\n",
       "IN    13\n",
       "KY    17\n",
       "MA    33\n",
       "MD    50\n",
       "MI    44\n",
       "MN    28\n",
       "MS    24\n",
       "MT     9\n",
       "NC    37\n",
       "NJ    53\n",
       "NY    96\n",
       "OH    44\n",
       "PA    72\n",
       "SC    30\n",
       "TX    33\n",
       "VA    39\n",
       "WA    16\n",
       "WI    29\n",
       "Name: CUST_STATE, dtype: int64"
      ]
     },
     "execution_count": 44,
     "metadata": {},
     "output_type": "execute_result"
    }
   ],
   "source": [
    "states = pd_customers.groupby(['CUST_STATE'])['CUST_STATE'].count()\n",
    "states"
   ]
  },
  {
   "cell_type": "code",
   "execution_count": 45,
   "id": "da03bc99",
   "metadata": {},
   "outputs": [
    {
     "data": {
      "text/html": [
       "<div>\n",
       "<style scoped>\n",
       "    .dataframe tbody tr th:only-of-type {\n",
       "        vertical-align: middle;\n",
       "    }\n",
       "\n",
       "    .dataframe tbody tr th {\n",
       "        vertical-align: top;\n",
       "    }\n",
       "\n",
       "    .dataframe thead th {\n",
       "        text-align: right;\n",
       "    }\n",
       "</style>\n",
       "<table border=\"1\" class=\"dataframe\">\n",
       "  <thead>\n",
       "    <tr style=\"text-align: right;\">\n",
       "      <th></th>\n",
       "      <th>states</th>\n",
       "      <th>frequency</th>\n",
       "    </tr>\n",
       "  </thead>\n",
       "  <tbody>\n",
       "    <tr>\n",
       "      <th>0</th>\n",
       "      <td>NY</td>\n",
       "      <td>96</td>\n",
       "    </tr>\n",
       "    <tr>\n",
       "      <th>1</th>\n",
       "      <td>GA</td>\n",
       "      <td>73</td>\n",
       "    </tr>\n",
       "    <tr>\n",
       "      <th>2</th>\n",
       "      <td>PA</td>\n",
       "      <td>72</td>\n",
       "    </tr>\n",
       "    <tr>\n",
       "      <th>3</th>\n",
       "      <td>FL</td>\n",
       "      <td>64</td>\n",
       "    </tr>\n",
       "    <tr>\n",
       "      <th>4</th>\n",
       "      <td>IL</td>\n",
       "      <td>58</td>\n",
       "    </tr>\n",
       "    <tr>\n",
       "      <th>5</th>\n",
       "      <td>NJ</td>\n",
       "      <td>53</td>\n",
       "    </tr>\n",
       "    <tr>\n",
       "      <th>6</th>\n",
       "      <td>MD</td>\n",
       "      <td>50</td>\n",
       "    </tr>\n",
       "    <tr>\n",
       "      <th>7</th>\n",
       "      <td>CA</td>\n",
       "      <td>45</td>\n",
       "    </tr>\n",
       "    <tr>\n",
       "      <th>8</th>\n",
       "      <td>OH</td>\n",
       "      <td>44</td>\n",
       "    </tr>\n",
       "    <tr>\n",
       "      <th>9</th>\n",
       "      <td>MI</td>\n",
       "      <td>44</td>\n",
       "    </tr>\n",
       "    <tr>\n",
       "      <th>10</th>\n",
       "      <td>VA</td>\n",
       "      <td>39</td>\n",
       "    </tr>\n",
       "    <tr>\n",
       "      <th>11</th>\n",
       "      <td>NC</td>\n",
       "      <td>37</td>\n",
       "    </tr>\n",
       "    <tr>\n",
       "      <th>12</th>\n",
       "      <td>TX</td>\n",
       "      <td>33</td>\n",
       "    </tr>\n",
       "    <tr>\n",
       "      <th>13</th>\n",
       "      <td>MA</td>\n",
       "      <td>33</td>\n",
       "    </tr>\n",
       "    <tr>\n",
       "      <th>14</th>\n",
       "      <td>SC</td>\n",
       "      <td>30</td>\n",
       "    </tr>\n",
       "    <tr>\n",
       "      <th>15</th>\n",
       "      <td>WI</td>\n",
       "      <td>29</td>\n",
       "    </tr>\n",
       "    <tr>\n",
       "      <th>16</th>\n",
       "      <td>MN</td>\n",
       "      <td>28</td>\n",
       "    </tr>\n",
       "    <tr>\n",
       "      <th>17</th>\n",
       "      <td>MS</td>\n",
       "      <td>24</td>\n",
       "    </tr>\n",
       "    <tr>\n",
       "      <th>18</th>\n",
       "      <td>IA</td>\n",
       "      <td>21</td>\n",
       "    </tr>\n",
       "    <tr>\n",
       "      <th>19</th>\n",
       "      <td>KY</td>\n",
       "      <td>17</td>\n",
       "    </tr>\n",
       "    <tr>\n",
       "      <th>20</th>\n",
       "      <td>WA</td>\n",
       "      <td>16</td>\n",
       "    </tr>\n",
       "    <tr>\n",
       "      <th>21</th>\n",
       "      <td>CT</td>\n",
       "      <td>14</td>\n",
       "    </tr>\n",
       "    <tr>\n",
       "      <th>22</th>\n",
       "      <td>IN</td>\n",
       "      <td>13</td>\n",
       "    </tr>\n",
       "    <tr>\n",
       "      <th>23</th>\n",
       "      <td>MT</td>\n",
       "      <td>9</td>\n",
       "    </tr>\n",
       "    <tr>\n",
       "      <th>24</th>\n",
       "      <td>AR</td>\n",
       "      <td>5</td>\n",
       "    </tr>\n",
       "    <tr>\n",
       "      <th>25</th>\n",
       "      <td>AL</td>\n",
       "      <td>5</td>\n",
       "    </tr>\n",
       "  </tbody>\n",
       "</table>\n",
       "</div>"
      ],
      "text/plain": [
       "   states  frequency\n",
       "0      NY         96\n",
       "1      GA         73\n",
       "2      PA         72\n",
       "3      FL         64\n",
       "4      IL         58\n",
       "5      NJ         53\n",
       "6      MD         50\n",
       "7      CA         45\n",
       "8      OH         44\n",
       "9      MI         44\n",
       "10     VA         39\n",
       "11     NC         37\n",
       "12     TX         33\n",
       "13     MA         33\n",
       "14     SC         30\n",
       "15     WI         29\n",
       "16     MN         28\n",
       "17     MS         24\n",
       "18     IA         21\n",
       "19     KY         17\n",
       "20     WA         16\n",
       "21     CT         14\n",
       "22     IN         13\n",
       "23     MT          9\n",
       "24     AR          5\n",
       "25     AL          5"
      ]
     },
     "execution_count": 45,
     "metadata": {},
     "output_type": "execute_result"
    }
   ],
   "source": [
    "state_names= pd_customers.CUST_STATE.value_counts()\n",
    "state_count = state_names.reset_index()\n",
    "state_count.columns = ['states', 'frequency']\n",
    "state_count"
   ]
  },
  {
   "cell_type": "code",
   "execution_count": 46,
   "id": "fcd3ca37",
   "metadata": {},
   "outputs": [
    {
     "data": {
      "text/html": [
       "<div>\n",
       "<style scoped>\n",
       "    .dataframe tbody tr th:only-of-type {\n",
       "        vertical-align: middle;\n",
       "    }\n",
       "\n",
       "    .dataframe tbody tr th {\n",
       "        vertical-align: top;\n",
       "    }\n",
       "\n",
       "    .dataframe thead th {\n",
       "        text-align: right;\n",
       "    }\n",
       "</style>\n",
       "<table border=\"1\" class=\"dataframe\">\n",
       "  <thead>\n",
       "    <tr style=\"text-align: right;\">\n",
       "      <th></th>\n",
       "      <th>states</th>\n",
       "      <th>frequency</th>\n",
       "    </tr>\n",
       "  </thead>\n",
       "  <tbody>\n",
       "    <tr>\n",
       "      <th>0</th>\n",
       "      <td>NY</td>\n",
       "      <td>96</td>\n",
       "    </tr>\n",
       "    <tr>\n",
       "      <th>1</th>\n",
       "      <td>GA</td>\n",
       "      <td>73</td>\n",
       "    </tr>\n",
       "    <tr>\n",
       "      <th>2</th>\n",
       "      <td>PA</td>\n",
       "      <td>72</td>\n",
       "    </tr>\n",
       "    <tr>\n",
       "      <th>3</th>\n",
       "      <td>FL</td>\n",
       "      <td>64</td>\n",
       "    </tr>\n",
       "    <tr>\n",
       "      <th>4</th>\n",
       "      <td>IL</td>\n",
       "      <td>58</td>\n",
       "    </tr>\n",
       "    <tr>\n",
       "      <th>5</th>\n",
       "      <td>NJ</td>\n",
       "      <td>53</td>\n",
       "    </tr>\n",
       "    <tr>\n",
       "      <th>6</th>\n",
       "      <td>MD</td>\n",
       "      <td>50</td>\n",
       "    </tr>\n",
       "    <tr>\n",
       "      <th>7</th>\n",
       "      <td>CA</td>\n",
       "      <td>45</td>\n",
       "    </tr>\n",
       "  </tbody>\n",
       "</table>\n",
       "</div>"
      ],
      "text/plain": [
       "  states  frequency\n",
       "0     NY         96\n",
       "1     GA         73\n",
       "2     PA         72\n",
       "3     FL         64\n",
       "4     IL         58\n",
       "5     NJ         53\n",
       "6     MD         50\n",
       "7     CA         45"
      ]
     },
     "execution_count": 46,
     "metadata": {},
     "output_type": "execute_result"
    }
   ],
   "source": [
    "#limit 8\n",
    "top_8_states = state_count.nlargest(8, ['frequency'])\n",
    "top_8_states"
   ]
  },
  {
   "cell_type": "code",
   "execution_count": 69,
   "id": "0fd97666",
   "metadata": {},
   "outputs": [
    {
     "data": {
      "image/png": "[encoded data removed]",
      "text/plain": [
       "<Figure size 1200x1000 with 1 Axes>"
      ]
     },
     "metadata": {},
     "output_type": "display_data"
    }
   ],
   "source": [
    "fig, ax = plt.subplots(figsize=(12, 10))\n",
    "palette = sns.color_palette('Blues_r', 12)\n",
    "ax = sns.barplot(x='states', y='frequency', data=top_8_states, palette=palette)\n",
    "plt.title('Top 8 States with the Highest Customers', fontsize= 18)\n",
    "plt.xlabel('State', fontsize=14)\n",
    "plt.ylabel('Number of Customers', fontsize=14)\n",
    "plt.ylim(25, 125)\n",
    "ax.bar_label(ax.containers[0])\n",
    "plt.savefig('./images/top_8_states_by_customer.png', dpi=500);"
   ]
  },
  {
   "cell_type": "code",
   "execution_count": 49,
   "id": "29b4a35d",
   "metadata": {},
   "outputs": [
    {
     "data": {
      "text/plain": [
       "CUST_SSN\n",
       "123451007    2037.98\n",
       "123451012    4025.69\n",
       "123451037    2122.20\n",
       "123451041    1085.14\n",
       "123451068    2810.54\n",
       "              ...   \n",
       "123459940      96.27\n",
       "123459965    2152.70\n",
       "123459968     964.21\n",
       "123459978    3091.78\n",
       "123459988    4760.29\n",
       "Name: TRANSACTION_VALUE, Length: 952, dtype: float64"
      ]
     },
     "execution_count": 49,
     "metadata": {},
     "output_type": "execute_result"
    }
   ],
   "source": [
    "customer_transaction = pd_credit.groupby(['CUST_SSN'])['TRANSACTION_VALUE'].sum()\n",
    "customer_transaction"
   ]
  },
  {
   "cell_type": "code",
   "execution_count": 50,
   "id": "3a3f66a3",
   "metadata": {},
   "outputs": [
    {
     "data": {
      "text/html": [
       "<div>\n",
       "<style scoped>\n",
       "    .dataframe tbody tr th:only-of-type {\n",
       "        vertical-align: middle;\n",
       "    }\n",
       "\n",
       "    .dataframe tbody tr th {\n",
       "        vertical-align: top;\n",
       "    }\n",
       "\n",
       "    .dataframe thead th {\n",
       "        text-align: right;\n",
       "    }\n",
       "</style>\n",
       "<table border=\"1\" class=\"dataframe\">\n",
       "  <thead>\n",
       "    <tr style=\"text-align: right;\">\n",
       "      <th></th>\n",
       "      <th>CUST_SSN</th>\n",
       "      <th>TRANSACTION_VALUE</th>\n",
       "    </tr>\n",
       "  </thead>\n",
       "  <tbody>\n",
       "    <tr>\n",
       "      <th>14</th>\n",
       "      <td>123451125</td>\n",
       "      <td>5633.07</td>\n",
       "    </tr>\n",
       "    <tr>\n",
       "      <th>177</th>\n",
       "      <td>123452783</td>\n",
       "      <td>5548.14</td>\n",
       "    </tr>\n",
       "    <tr>\n",
       "      <th>248</th>\n",
       "      <td>123453486</td>\n",
       "      <td>5476.08</td>\n",
       "    </tr>\n",
       "    <tr>\n",
       "      <th>814</th>\n",
       "      <td>123458668</td>\n",
       "      <td>5314.97</td>\n",
       "    </tr>\n",
       "    <tr>\n",
       "      <th>599</th>\n",
       "      <td>123456678</td>\n",
       "      <td>5261.03</td>\n",
       "    </tr>\n",
       "    <tr>\n",
       "      <th>...</th>\n",
       "      <td>...</td>\n",
       "      <td>...</td>\n",
       "    </tr>\n",
       "    <tr>\n",
       "      <th>493</th>\n",
       "      <td>123455652</td>\n",
       "      <td>73.59</td>\n",
       "    </tr>\n",
       "    <tr>\n",
       "      <th>238</th>\n",
       "      <td>123453375</td>\n",
       "      <td>73.08</td>\n",
       "    </tr>\n",
       "    <tr>\n",
       "      <th>873</th>\n",
       "      <td>123459201</td>\n",
       "      <td>61.67</td>\n",
       "    </tr>\n",
       "    <tr>\n",
       "      <th>129</th>\n",
       "      <td>123452345</td>\n",
       "      <td>10.41</td>\n",
       "    </tr>\n",
       "    <tr>\n",
       "      <th>82</th>\n",
       "      <td>123451837</td>\n",
       "      <td>2.15</td>\n",
       "    </tr>\n",
       "  </tbody>\n",
       "</table>\n",
       "<p>952 rows × 2 columns</p>\n",
       "</div>"
      ],
      "text/plain": [
       "      CUST_SSN  TRANSACTION_VALUE\n",
       "14   123451125            5633.07\n",
       "177  123452783            5548.14\n",
       "248  123453486            5476.08\n",
       "814  123458668            5314.97\n",
       "599  123456678            5261.03\n",
       "..         ...                ...\n",
       "493  123455652              73.59\n",
       "238  123453375              73.08\n",
       "873  123459201              61.67\n",
       "129  123452345              10.41\n",
       "82   123451837               2.15\n",
       "\n",
       "[952 rows x 2 columns]"
      ]
     },
     "execution_count": 50,
     "metadata": {},
     "output_type": "execute_result"
    }
   ],
   "source": [
    "individual_cust = customer_transaction.reset_index()\n",
    "individual_cust.sort_values(by=['TRANSACTION_VALUE'], ascending=False, inplace=True)\n",
    "individual_cust"
   ]
  },
  {
   "cell_type": "code",
   "execution_count": 51,
   "id": "b4eef8d2",
   "metadata": {},
   "outputs": [
    {
     "data": {
      "text/html": [
       "<div>\n",
       "<style scoped>\n",
       "    .dataframe tbody tr th:only-of-type {\n",
       "        vertical-align: middle;\n",
       "    }\n",
       "\n",
       "    .dataframe tbody tr th {\n",
       "        vertical-align: top;\n",
       "    }\n",
       "\n",
       "    .dataframe thead th {\n",
       "        text-align: right;\n",
       "    }\n",
       "</style>\n",
       "<table border=\"1\" class=\"dataframe\">\n",
       "  <thead>\n",
       "    <tr style=\"text-align: right;\">\n",
       "      <th></th>\n",
       "      <th>CUST_SSN</th>\n",
       "      <th>TRANSACTION_VALUE</th>\n",
       "    </tr>\n",
       "  </thead>\n",
       "  <tbody>\n",
       "    <tr>\n",
       "      <th>14</th>\n",
       "      <td>123451125</td>\n",
       "      <td>5633.07</td>\n",
       "    </tr>\n",
       "  </tbody>\n",
       "</table>\n",
       "</div>"
      ],
      "text/plain": [
       "     CUST_SSN  TRANSACTION_VALUE\n",
       "14  123451125            5633.07"
      ]
     },
     "execution_count": 51,
     "metadata": {},
     "output_type": "execute_result"
    }
   ],
   "source": [
    "biggest_spender = individual_cust.sort_values(by=['TRANSACTION_VALUE'], ascending=False).head(1)\n",
    "biggest_spender"
   ]
  },
  {
   "cell_type": "code",
   "execution_count": 87,
   "id": "9132dbeb",
   "metadata": {},
   "outputs": [
    {
     "data": {
      "text/html": [
       "<div>\n",
       "<style scoped>\n",
       "    .dataframe tbody tr th:only-of-type {\n",
       "        vertical-align: middle;\n",
       "    }\n",
       "\n",
       "    .dataframe tbody tr th {\n",
       "        vertical-align: top;\n",
       "    }\n",
       "\n",
       "    .dataframe thead th {\n",
       "        text-align: right;\n",
       "    }\n",
       "</style>\n",
       "<table border=\"1\" class=\"dataframe\">\n",
       "  <thead>\n",
       "    <tr style=\"text-align: right;\">\n",
       "      <th></th>\n",
       "      <th>CUST_SSN</th>\n",
       "      <th>TRANSACTION_VALUE</th>\n",
       "    </tr>\n",
       "  </thead>\n",
       "  <tbody>\n",
       "    <tr>\n",
       "      <th>14</th>\n",
       "      <td>123451125</td>\n",
       "      <td>5633.07</td>\n",
       "    </tr>\n",
       "    <tr>\n",
       "      <th>177</th>\n",
       "      <td>123452783</td>\n",
       "      <td>5548.14</td>\n",
       "    </tr>\n",
       "    <tr>\n",
       "      <th>248</th>\n",
       "      <td>123453486</td>\n",
       "      <td>5476.08</td>\n",
       "    </tr>\n",
       "    <tr>\n",
       "      <th>814</th>\n",
       "      <td>123458668</td>\n",
       "      <td>5314.97</td>\n",
       "    </tr>\n",
       "    <tr>\n",
       "      <th>599</th>\n",
       "      <td>123456678</td>\n",
       "      <td>5261.03</td>\n",
       "    </tr>\n",
       "    <tr>\n",
       "      <th>99</th>\n",
       "      <td>123452026</td>\n",
       "      <td>5241.18</td>\n",
       "    </tr>\n",
       "    <tr>\n",
       "      <th>152</th>\n",
       "      <td>123452518</td>\n",
       "      <td>5223.96</td>\n",
       "    </tr>\n",
       "    <tr>\n",
       "      <th>414</th>\n",
       "      <td>123454933</td>\n",
       "      <td>5203.08</td>\n",
       "    </tr>\n",
       "    <tr>\n",
       "      <th>693</th>\n",
       "      <td>123457547</td>\n",
       "      <td>5149.75</td>\n",
       "    </tr>\n",
       "    <tr>\n",
       "      <th>102</th>\n",
       "      <td>123452085</td>\n",
       "      <td>5133.29</td>\n",
       "    </tr>\n",
       "    <tr>\n",
       "      <th>524</th>\n",
       "      <td>123455898</td>\n",
       "      <td>5062.33</td>\n",
       "    </tr>\n",
       "    <tr>\n",
       "      <th>617</th>\n",
       "      <td>123456862</td>\n",
       "      <td>5046.07</td>\n",
       "    </tr>\n",
       "    <tr>\n",
       "      <th>69</th>\n",
       "      <td>123451701</td>\n",
       "      <td>5023.65</td>\n",
       "    </tr>\n",
       "    <tr>\n",
       "      <th>637</th>\n",
       "      <td>123457070</td>\n",
       "      <td>5014.01</td>\n",
       "    </tr>\n",
       "    <tr>\n",
       "      <th>699</th>\n",
       "      <td>123457654</td>\n",
       "      <td>5012.81</td>\n",
       "    </tr>\n",
       "  </tbody>\n",
       "</table>\n",
       "</div>"
      ],
      "text/plain": [
       "      CUST_SSN  TRANSACTION_VALUE\n",
       "14   123451125            5633.07\n",
       "177  123452783            5548.14\n",
       "248  123453486            5476.08\n",
       "814  123458668            5314.97\n",
       "599  123456678            5261.03\n",
       "99   123452026            5241.18\n",
       "152  123452518            5223.96\n",
       "414  123454933            5203.08\n",
       "693  123457547            5149.75\n",
       "102  123452085            5133.29\n",
       "524  123455898            5062.33\n",
       "617  123456862            5046.07\n",
       "69   123451701            5023.65\n",
       "637  123457070            5014.01\n",
       "699  123457654            5012.81"
      ]
     },
     "execution_count": 87,
     "metadata": {},
     "output_type": "execute_result"
    }
   ],
   "source": [
    "top_15_customers = individual_cust.sort_values(by=['TRANSACTION_VALUE'], ascending=False).head(15)\n",
    "top_15_customers"
   ]
  },
  {
   "cell_type": "code",
   "execution_count": 88,
   "id": "605e1b26",
   "metadata": {},
   "outputs": [
    {
     "data": {
      "image/png": "[encoded data removed]",
      "text/plain": [
       "<Figure size 1500x1000 with 1 Axes>"
      ]
     },
     "metadata": {},
     "output_type": "display_data"
    }
   ],
   "source": [
    "\n",
    "fig, ax = plt.subplots(figsize=(15, 10))\n",
    "ax = sns.barplot(x='CUST_SSN', y='TRANSACTION_VALUE', data=top_15_customers, color='purple')\n",
    "plt.title('Top 15 Customers with the Highest Total Transaction Amounts', fontsize=18)\n",
    "plt.xlabel('Customer by SSN', fontsize=14)\n",
    "plt.ylabel('Total Transaction Amount', fontsize=14)\n",
    "plt.ylim(4700, 5800)\n",
    "plt.xticks(rotation = 25)\n",
    "ax.bar_label(ax.containers[0])\n",
    "plt.savefig('./images/top15_customers_by_total_transaction_amounts.png', dpi=500);"
   ]
  },
  {
   "cell_type": "code",
   "execution_count": null,
   "id": "6967adb0",
   "metadata": {},
   "outputs": [],
   "source": []
  },
  {
   "cell_type": "code",
   "execution_count": null,
   "id": "c894bacc",
   "metadata": {},
   "outputs": [],
   "source": [
    "pd_branch.to_csv('/Users/purple/Documents/Project/Data_Engineering/Python/Capstone1/data/pd_branch.csv', index=False)\n",
    "pd_credit.to_csv('/Users/purple/Documents/Project/Data_Engineering/Python/Capstone1/data/pd_credit.csv', index=False)\n",
    "pd_customers.to_csv('/Users/purple/Documents/Project/Data_Engineering/Python/Capstone1/data/pd_customers.csv', index=False)\n",
    "pd_branch_and_credit.to_csv('/Users/purple/Documents/Project/Data_Engineering/Python/Capstone1/data/pd_branch_and_credit.csv', index=False)\n",
    "pd_cust_and_credit.to_csv('/Users/purple/Documents/Project/Data_Engineering/Python/Capstone1/data/pd_cust_and_credit.csv', index=False)"
   ]
  },
  {
   "cell_type": "code",
   "execution_count": null,
   "id": "626ba04d",
   "metadata": {},
   "outputs": [],
   "source": [
    "## exporting pandas dataframes to use further\n"
   ]
  },
  {
   "cell_type": "code",
   "execution_count": null,
   "id": "4404b57d",
   "metadata": {},
   "outputs": [],
   "source": []
  },
  {
   "cell_type": "code",
   "execution_count": 70,
   "id": "efc23658",
   "metadata": {},
   "outputs": [],
   "source": [
    "spark.stop()"
   ]
  },
  {
   "cell_type": "code",
   "execution_count": null,
   "id": "6c756cd3",
   "metadata": {},
   "outputs": [],
   "source": []
  }
 ],
 "metadata": {
  "kernelspec": {
   "display_name": "ps_capstone",
   "language": "python",
   "name": "ps_capstone"
  },
  "language_info": {
   "codemirror_mode": {
    "name": "ipython",
    "version": 3
   },
   "file_extension": ".py",
   "mimetype": "text/x-python",
   "name": "python",
   "nbconvert_exporter": "python",
   "pygments_lexer": "ipython3",
   "version": "3.10.9"
  }
 },
 "nbformat": 4,
 "nbformat_minor": 5
}
